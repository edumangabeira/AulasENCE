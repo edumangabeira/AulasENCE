{
 "cells": [
  {
   "cell_type": "markdown",
   "id": "upset-leisure",
   "metadata": {},
   "source": [
    "# Soma de variáveis aleatórias por convolução\n",
    "\n",
    "### Exercício 2, cap 7.1, Grinstead e Snell\n",
    "\n",
    "### O preço de uma ação em um determinado dia de negociação muda de acordo com a distribuição dada pela tabela abaixo:"
   ]
  },
  {
   "cell_type": "code",
   "execution_count": 9,
   "id": "fallen-spine",
   "metadata": {},
   "outputs": [
    {
     "data": {
      "text/html": [
       "<style  type=\"text/css\" >\n",
       "</style><table id=\"T_f33ef6c1_6a03_11eb_b0ad_a463a108a0eb\" ><thead>    <tr>        <th class=\"col_heading level0 col0\" >x</th>        <th class=\"col_heading level0 col1\" >$p_x$</th>    </tr></thead><tbody>\n",
       "                <tr>\n",
       "                                <td id=\"T_f33ef6c1_6a03_11eb_b0ad_a463a108a0ebrow0_col0\" class=\"data row0 col0\" >-1</td>\n",
       "                        <td id=\"T_f33ef6c1_6a03_11eb_b0ad_a463a108a0ebrow0_col1\" class=\"data row0 col1\" >0.250000</td>\n",
       "            </tr>\n",
       "            <tr>\n",
       "                                <td id=\"T_f33ef6c1_6a03_11eb_b0ad_a463a108a0ebrow1_col0\" class=\"data row1 col0\" >0</td>\n",
       "                        <td id=\"T_f33ef6c1_6a03_11eb_b0ad_a463a108a0ebrow1_col1\" class=\"data row1 col1\" >0.500000</td>\n",
       "            </tr>\n",
       "            <tr>\n",
       "                                <td id=\"T_f33ef6c1_6a03_11eb_b0ad_a463a108a0ebrow2_col0\" class=\"data row2 col0\" >1</td>\n",
       "                        <td id=\"T_f33ef6c1_6a03_11eb_b0ad_a463a108a0ebrow2_col1\" class=\"data row2 col1\" >0.125000</td>\n",
       "            </tr>\n",
       "            <tr>\n",
       "                                <td id=\"T_f33ef6c1_6a03_11eb_b0ad_a463a108a0ebrow3_col0\" class=\"data row3 col0\" >2</td>\n",
       "                        <td id=\"T_f33ef6c1_6a03_11eb_b0ad_a463a108a0ebrow3_col1\" class=\"data row3 col1\" >0.125000</td>\n",
       "            </tr>\n",
       "    </tbody></table>"
      ],
      "text/plain": [
       "<pandas.io.formats.style.Styler at 0x6061328>"
      ]
     },
     "execution_count": 9,
     "metadata": {},
     "output_type": "execute_result"
    }
   ],
   "source": [
    "import pandas as pd\n",
    "x = [-1,0,1,2]\n",
    "p_x = [0.25, 0.5, 0.125, 0.125]\n",
    "tabela = {'x': pd.Series(data = x), '$p_x$': pd.Series(data = p_x)}\n",
    "pd.DataFrame(tabela).style.hide_index()"
   ]
  },
  {
   "cell_type": "markdown",
   "id": "universal-radio",
   "metadata": {},
   "source": [
    "\n",
    "### Encontre a distribuição para a mudança no preço das ações após dois dias(independentes) de negociação."
   ]
  },
  {
   "cell_type": "code",
   "execution_count": 1,
   "id": "artistic-pleasure",
   "metadata": {},
   "outputs": [
    {
     "data": {
      "text/html": [
       "<style  type=\"text/css\" >\n",
       "</style><table id=\"T_6d89dcc7_6a02_11eb_bc80_a463a108a0eb\" ><thead>    <tr>        <th class=\"col_heading level0 col0\" >z</th>        <th class=\"col_heading level0 col1\" >f(z)</th>    </tr></thead><tbody>\n",
       "                <tr>\n",
       "                                <td id=\"T_6d89dcc7_6a02_11eb_bc80_a463a108a0ebrow0_col0\" class=\"data row0 col0\" >-2</td>\n",
       "                        <td id=\"T_6d89dcc7_6a02_11eb_bc80_a463a108a0ebrow0_col1\" class=\"data row0 col1\" >0.062500</td>\n",
       "            </tr>\n",
       "            <tr>\n",
       "                                <td id=\"T_6d89dcc7_6a02_11eb_bc80_a463a108a0ebrow1_col0\" class=\"data row1 col0\" >-1</td>\n",
       "                        <td id=\"T_6d89dcc7_6a02_11eb_bc80_a463a108a0ebrow1_col1\" class=\"data row1 col1\" >0.250000</td>\n",
       "            </tr>\n",
       "            <tr>\n",
       "                                <td id=\"T_6d89dcc7_6a02_11eb_bc80_a463a108a0ebrow2_col0\" class=\"data row2 col0\" >0</td>\n",
       "                        <td id=\"T_6d89dcc7_6a02_11eb_bc80_a463a108a0ebrow2_col1\" class=\"data row2 col1\" >0.312500</td>\n",
       "            </tr>\n",
       "            <tr>\n",
       "                                <td id=\"T_6d89dcc7_6a02_11eb_bc80_a463a108a0ebrow3_col0\" class=\"data row3 col0\" >1</td>\n",
       "                        <td id=\"T_6d89dcc7_6a02_11eb_bc80_a463a108a0ebrow3_col1\" class=\"data row3 col1\" >0.187500</td>\n",
       "            </tr>\n",
       "            <tr>\n",
       "                                <td id=\"T_6d89dcc7_6a02_11eb_bc80_a463a108a0ebrow4_col0\" class=\"data row4 col0\" >2</td>\n",
       "                        <td id=\"T_6d89dcc7_6a02_11eb_bc80_a463a108a0ebrow4_col1\" class=\"data row4 col1\" >0.140625</td>\n",
       "            </tr>\n",
       "            <tr>\n",
       "                                <td id=\"T_6d89dcc7_6a02_11eb_bc80_a463a108a0ebrow5_col0\" class=\"data row5 col0\" >3</td>\n",
       "                        <td id=\"T_6d89dcc7_6a02_11eb_bc80_a463a108a0ebrow5_col1\" class=\"data row5 col1\" >0.031250</td>\n",
       "            </tr>\n",
       "            <tr>\n",
       "                                <td id=\"T_6d89dcc7_6a02_11eb_bc80_a463a108a0ebrow6_col0\" class=\"data row6 col0\" >4</td>\n",
       "                        <td id=\"T_6d89dcc7_6a02_11eb_bc80_a463a108a0ebrow6_col1\" class=\"data row6 col1\" >0.015625</td>\n",
       "            </tr>\n",
       "    </tbody></table>"
      ],
      "text/plain": [
       "<pandas.io.formats.style.Styler at 0xeefc7f0>"
      ]
     },
     "execution_count": 1,
     "metadata": {},
     "output_type": "execute_result"
    }
   ],
   "source": [
    "stock = {-1:0.25,0:0.5,1:0.125,2:0.125}\n",
    "soma = 0\n",
    "dados = {'z': [], 'f(z)': []}\n",
    "\n",
    "tabela = pd.DataFrame(dados)\n",
    "# [-2,4] é o intervalo de Z\n",
    "for z in range(-2, 5):\n",
    "    f_z = 0\n",
    "    for change in stock:\n",
    "        try:\n",
    "            f_z = f_z + stock[change] * stock[z-change]\n",
    "        except KeyError:\n",
    "            f_z = f_z + 0\n",
    "    dados_aux = {'z': [z], 'f(z)': [f_z]}\n",
    "    tabela_aux = pd.DataFrame(dados_aux)\n",
    "    tabela = tabela.append(tabela_aux, ignore_index = True)\n",
    "    soma = soma + f_z\n",
    "tabela = tabela.astype({'z': 'int32'})\n",
    "tabela.style.hide_index()"
   ]
  }
 ],
 "metadata": {
  "kernelspec": {
   "display_name": "Python 3",
   "language": "python",
   "name": "python3"
  },
  "language_info": {
   "codemirror_mode": {
    "name": "ipython",
    "version": 3
   },
   "file_extension": ".py",
   "mimetype": "text/x-python",
   "name": "python",
   "nbconvert_exporter": "python",
   "pygments_lexer": "ipython3",
   "version": "3.8.5"
  }
 },
 "nbformat": 4,
 "nbformat_minor": 5
}
