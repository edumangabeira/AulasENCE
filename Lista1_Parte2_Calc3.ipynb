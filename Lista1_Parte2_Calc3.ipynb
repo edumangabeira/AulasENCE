{
 "cells": [
  {
   "cell_type": "markdown",
   "metadata": {},
   "source": [
    "# Exercício 1\n",
    "\n",
    "### A função $f(x) = x^4 + 4x^3 + 6x^2 + 3x -10$ possui um zero positivo e um zero negativo. Pede-se:\n",
    "\n",
    "#### a) Encontre, pelo Método da Bissecção, o zero positivo de $f$, partindo de um intervalo de comprimento 1, com precisão de $10^{-3}$"
   ]
  },
  {
   "cell_type": "code",
   "execution_count": 79,
   "metadata": {},
   "outputs": [
    {
     "data": {
      "text/html": [
       "<style  type=\"text/css\" >\n",
       "</style><table id=\"T_f58dc1c2_4f05_11eb_858e_fcaa14fc556e\" ><thead>    <tr>        <th class=\"col_heading level0 col0\" >x</th>        <th class=\"col_heading level0 col1\" >f(x)</th>    </tr></thead><tbody>\n",
       "                <tr>\n",
       "                                <td id=\"T_f58dc1c2_4f05_11eb_858e_fcaa14fc556erow0_col0\" class=\"data row0 col0\" >-20</td>\n",
       "                        <td id=\"T_f58dc1c2_4f05_11eb_858e_fcaa14fc556erow0_col1\" class=\"data row0 col1\" >130330</td>\n",
       "            </tr>\n",
       "            <tr>\n",
       "                                <td id=\"T_f58dc1c2_4f05_11eb_858e_fcaa14fc556erow1_col0\" class=\"data row1 col0\" >-5</td>\n",
       "                        <td id=\"T_f58dc1c2_4f05_11eb_858e_fcaa14fc556erow1_col1\" class=\"data row1 col1\" >250</td>\n",
       "            </tr>\n",
       "            <tr>\n",
       "                                <td id=\"T_f58dc1c2_4f05_11eb_858e_fcaa14fc556erow2_col0\" class=\"data row2 col0\" >-3</td>\n",
       "                        <td id=\"T_f58dc1c2_4f05_11eb_858e_fcaa14fc556erow2_col1\" class=\"data row2 col1\" >8</td>\n",
       "            </tr>\n",
       "            <tr>\n",
       "                                <td id=\"T_f58dc1c2_4f05_11eb_858e_fcaa14fc556erow3_col0\" class=\"data row3 col0\" >-2</td>\n",
       "                        <td id=\"T_f58dc1c2_4f05_11eb_858e_fcaa14fc556erow3_col1\" class=\"data row3 col1\" >-8</td>\n",
       "            </tr>\n",
       "            <tr>\n",
       "                                <td id=\"T_f58dc1c2_4f05_11eb_858e_fcaa14fc556erow4_col0\" class=\"data row4 col0\" >-1</td>\n",
       "                        <td id=\"T_f58dc1c2_4f05_11eb_858e_fcaa14fc556erow4_col1\" class=\"data row4 col1\" >-10</td>\n",
       "            </tr>\n",
       "            <tr>\n",
       "                                <td id=\"T_f58dc1c2_4f05_11eb_858e_fcaa14fc556erow5_col0\" class=\"data row5 col0\" >0</td>\n",
       "                        <td id=\"T_f58dc1c2_4f05_11eb_858e_fcaa14fc556erow5_col1\" class=\"data row5 col1\" >-10</td>\n",
       "            </tr>\n",
       "            <tr>\n",
       "                                <td id=\"T_f58dc1c2_4f05_11eb_858e_fcaa14fc556erow6_col0\" class=\"data row6 col0\" >1</td>\n",
       "                        <td id=\"T_f58dc1c2_4f05_11eb_858e_fcaa14fc556erow6_col1\" class=\"data row6 col1\" >4</td>\n",
       "            </tr>\n",
       "            <tr>\n",
       "                                <td id=\"T_f58dc1c2_4f05_11eb_858e_fcaa14fc556erow7_col0\" class=\"data row7 col0\" >5</td>\n",
       "                        <td id=\"T_f58dc1c2_4f05_11eb_858e_fcaa14fc556erow7_col1\" class=\"data row7 col1\" >1280</td>\n",
       "            </tr>\n",
       "            <tr>\n",
       "                                <td id=\"T_f58dc1c2_4f05_11eb_858e_fcaa14fc556erow8_col0\" class=\"data row8 col0\" >20</td>\n",
       "                        <td id=\"T_f58dc1c2_4f05_11eb_858e_fcaa14fc556erow8_col1\" class=\"data row8 col1\" >194450</td>\n",
       "            </tr>\n",
       "    </tbody></table>"
      ],
      "text/plain": [
       "<pandas.io.formats.style.Styler at 0xf927b00>"
      ]
     },
     "execution_count": 79,
     "metadata": {},
     "output_type": "execute_result"
    }
   ],
   "source": [
    "import pandas as pd\n",
    "\n",
    "x = [-20, -5, -3, -2,-1, 0, 1, 5, 20]\n",
    "f_x = [j**4 + 4*(j**3) + 6*(j**2) + 3*j - 10 for j in x]\n",
    "tabela = {'x': pd.Series(data = x), 'f(x)': pd.Series(data = f_x)}\n",
    "tabela = pd.DataFrame(tabela)\n",
    "tabela.style.hide_index()"
   ]
  },
  {
   "cell_type": "markdown",
   "metadata": {},
   "source": [
    "Pela tabela acima, é possível ver que o zero negativo está entre $[-3, -2]$ e o zero positivo está entre $[0,1]$. Como só queremos o zero positivo, usaremos o segundo intervalo. No código abaixo se tem uma função usada para executar o método da bissecção e gerar uma tabela."
   ]
  },
  {
   "cell_type": "code",
   "execution_count": 124,
   "metadata": {},
   "outputs": [],
   "source": [
    "import pandas as pd\n",
    "\n",
    "\n",
    "def bissecao(f, a, b, precisao, max_iteracoes):\n",
    "    '''\n",
    "    - Função: bissecao(f, a, b, precisao, max_iteracoes)\n",
    "    - Autor: Eduardo Freire Mangabeira\n",
    "    - Obtém um zero de uma função pelo método da bisseção.\n",
    "    - Feito a partir das aulas do professor Hamilton e do livro Burden, R. L., & Faires, D. J. (1985). Numerical analysis.\n",
    "    - É precisso passar uma expressão lambda para o parâmetro 'f', fiz isso para deixar o código mais geral e menos verboso.\n",
    "    - Para expresões lambda, visitar: http://www.dsc.ufcg.edu.br/~pet/jornal/maio2013/materias/tutoriais.html.\n",
    "    '''\n",
    "    i = 1\n",
    "    f_a = f(a)\n",
    "    p = a + (b-a)/2\n",
    "    f_p = f(p)\n",
    "    dados = {'n': [], 'a_n': [], 'b_n': [], 'x_n': [], 'f(a_n)': [], 'f(b_n)': [], 'f(x_n)': []}\n",
    "    tabela = pd.DataFrame(dados)\n",
    "    while i <= max_iteracoes:\n",
    "        p = a + (b-a)/2\n",
    "        f_p = f(p)\n",
    "        f_b = f(b)\n",
    "        dados_2 = {'n': [i], 'a_n': [a], 'b_n': [b], 'x_n': [p], 'f(a_n)': [f_a], 'f(b_n)': [f_b], 'f(x_n)': [f_p]}\n",
    "        tabela_2 = pd.DataFrame(dados_2)\n",
    "        tabela = tabela.append(tabela_2, ignore_index = True)\n",
    "        if f_p == 0 or (b-a)/2 < precisao:\n",
    "            print(\"O valor de x que aproxima ao zero da função é: {}\".format(p))\n",
    "            return tabela\n",
    "        i = i + 1\n",
    "        if f_a * f_p > 0:\n",
    "            a = p\n",
    "            f_a = f_p\n",
    "        else:\n",
    "            b = p"
   ]
  },
  {
   "cell_type": "code",
   "execution_count": 42,
   "metadata": {
    "scrolled": true
   },
   "outputs": [
    {
     "name": "stdout",
     "output_type": "stream",
     "text": [
      "\n",
      "    - Função: bissecao(f, a, b, precisao, max_iteracoes)\n",
      "    - Autor: Eduardo Freire Mangabeira\n",
      "    - Obtém um zero de uma função pelo método da bisseção.\n",
      "    - Feito a partir das aulas do professor Hamilton e do livro Burden, R. L., & Faires, D. J. (1985). Numerical analysis.\n",
      "    - É precisso passar uma expressão lambda para o parâmetro 'f', fiz isso para deixar o código mais geral e menos verboso.\n",
      "    - Para expresões lambda, visitar: http://www.dsc.ufcg.edu.br/~pet/jornal/maio2013/materias/tutoriais.html.\n",
      "    \n"
     ]
    }
   ],
   "source": [
    "print(bissecao.__doc__)"
   ]
  },
  {
   "cell_type": "markdown",
   "metadata": {},
   "source": [
    "Agora basta usar os valores dados na questão, considerando o intervalo $[0,1]$."
   ]
  },
  {
   "cell_type": "code",
   "execution_count": 81,
   "metadata": {},
   "outputs": [
    {
     "name": "stdout",
     "output_type": "stream",
     "text": [
      "O valor de x que aproxima ao zero da função é: 0.8564453125\n"
     ]
    },
    {
     "data": {
      "text/html": [
       "<style  type=\"text/css\" >\n",
       "</style><table id=\"T_fb9c7198_4f05_11eb_b94c_fcaa14fc556e\" ><thead>    <tr>        <th class=\"col_heading level0 col0\" >n</th>        <th class=\"col_heading level0 col1\" >a_n</th>        <th class=\"col_heading level0 col2\" >b_n</th>        <th class=\"col_heading level0 col3\" >x_n</th>        <th class=\"col_heading level0 col4\" >f(a_n)</th>        <th class=\"col_heading level0 col5\" >f(b_n)</th>        <th class=\"col_heading level0 col6\" >f(x_n)</th>    </tr></thead><tbody>\n",
       "                <tr>\n",
       "                                <td id=\"T_fb9c7198_4f05_11eb_b94c_fcaa14fc556erow0_col0\" class=\"data row0 col0\" >1</td>\n",
       "                        <td id=\"T_fb9c7198_4f05_11eb_b94c_fcaa14fc556erow0_col1\" class=\"data row0 col1\" >0</td>\n",
       "                        <td id=\"T_fb9c7198_4f05_11eb_b94c_fcaa14fc556erow0_col2\" class=\"data row0 col2\" >1</td>\n",
       "                        <td id=\"T_fb9c7198_4f05_11eb_b94c_fcaa14fc556erow0_col3\" class=\"data row0 col3\" >0.5</td>\n",
       "                        <td id=\"T_fb9c7198_4f05_11eb_b94c_fcaa14fc556erow0_col4\" class=\"data row0 col4\" >-10</td>\n",
       "                        <td id=\"T_fb9c7198_4f05_11eb_b94c_fcaa14fc556erow0_col5\" class=\"data row0 col5\" >4</td>\n",
       "                        <td id=\"T_fb9c7198_4f05_11eb_b94c_fcaa14fc556erow0_col6\" class=\"data row0 col6\" >-6.4375</td>\n",
       "            </tr>\n",
       "            <tr>\n",
       "                                <td id=\"T_fb9c7198_4f05_11eb_b94c_fcaa14fc556erow1_col0\" class=\"data row1 col0\" >2</td>\n",
       "                        <td id=\"T_fb9c7198_4f05_11eb_b94c_fcaa14fc556erow1_col1\" class=\"data row1 col1\" >0.5</td>\n",
       "                        <td id=\"T_fb9c7198_4f05_11eb_b94c_fcaa14fc556erow1_col2\" class=\"data row1 col2\" >1</td>\n",
       "                        <td id=\"T_fb9c7198_4f05_11eb_b94c_fcaa14fc556erow1_col3\" class=\"data row1 col3\" >0.75</td>\n",
       "                        <td id=\"T_fb9c7198_4f05_11eb_b94c_fcaa14fc556erow1_col4\" class=\"data row1 col4\" >-6.4375</td>\n",
       "                        <td id=\"T_fb9c7198_4f05_11eb_b94c_fcaa14fc556erow1_col5\" class=\"data row1 col5\" >4</td>\n",
       "                        <td id=\"T_fb9c7198_4f05_11eb_b94c_fcaa14fc556erow1_col6\" class=\"data row1 col6\" >-2.37109</td>\n",
       "            </tr>\n",
       "            <tr>\n",
       "                                <td id=\"T_fb9c7198_4f05_11eb_b94c_fcaa14fc556erow2_col0\" class=\"data row2 col0\" >3</td>\n",
       "                        <td id=\"T_fb9c7198_4f05_11eb_b94c_fcaa14fc556erow2_col1\" class=\"data row2 col1\" >0.75</td>\n",
       "                        <td id=\"T_fb9c7198_4f05_11eb_b94c_fcaa14fc556erow2_col2\" class=\"data row2 col2\" >1</td>\n",
       "                        <td id=\"T_fb9c7198_4f05_11eb_b94c_fcaa14fc556erow2_col3\" class=\"data row2 col3\" >0.875</td>\n",
       "                        <td id=\"T_fb9c7198_4f05_11eb_b94c_fcaa14fc556erow2_col4\" class=\"data row2 col4\" >-2.37109</td>\n",
       "                        <td id=\"T_fb9c7198_4f05_11eb_b94c_fcaa14fc556erow2_col5\" class=\"data row2 col5\" >4</td>\n",
       "                        <td id=\"T_fb9c7198_4f05_11eb_b94c_fcaa14fc556erow2_col6\" class=\"data row2 col6\" >0.484619</td>\n",
       "            </tr>\n",
       "            <tr>\n",
       "                                <td id=\"T_fb9c7198_4f05_11eb_b94c_fcaa14fc556erow3_col0\" class=\"data row3 col0\" >4</td>\n",
       "                        <td id=\"T_fb9c7198_4f05_11eb_b94c_fcaa14fc556erow3_col1\" class=\"data row3 col1\" >0.75</td>\n",
       "                        <td id=\"T_fb9c7198_4f05_11eb_b94c_fcaa14fc556erow3_col2\" class=\"data row3 col2\" >0.875</td>\n",
       "                        <td id=\"T_fb9c7198_4f05_11eb_b94c_fcaa14fc556erow3_col3\" class=\"data row3 col3\" >0.8125</td>\n",
       "                        <td id=\"T_fb9c7198_4f05_11eb_b94c_fcaa14fc556erow3_col4\" class=\"data row3 col4\" >-2.37109</td>\n",
       "                        <td id=\"T_fb9c7198_4f05_11eb_b94c_fcaa14fc556erow3_col5\" class=\"data row3 col5\" >0.484619</td>\n",
       "                        <td id=\"T_fb9c7198_4f05_11eb_b94c_fcaa14fc556erow3_col6\" class=\"data row3 col6\" >-1.02025</td>\n",
       "            </tr>\n",
       "            <tr>\n",
       "                                <td id=\"T_fb9c7198_4f05_11eb_b94c_fcaa14fc556erow4_col0\" class=\"data row4 col0\" >5</td>\n",
       "                        <td id=\"T_fb9c7198_4f05_11eb_b94c_fcaa14fc556erow4_col1\" class=\"data row4 col1\" >0.8125</td>\n",
       "                        <td id=\"T_fb9c7198_4f05_11eb_b94c_fcaa14fc556erow4_col2\" class=\"data row4 col2\" >0.875</td>\n",
       "                        <td id=\"T_fb9c7198_4f05_11eb_b94c_fcaa14fc556erow4_col3\" class=\"data row4 col3\" >0.84375</td>\n",
       "                        <td id=\"T_fb9c7198_4f05_11eb_b94c_fcaa14fc556erow4_col4\" class=\"data row4 col4\" >-1.02025</td>\n",
       "                        <td id=\"T_fb9c7198_4f05_11eb_b94c_fcaa14fc556erow4_col5\" class=\"data row4 col5\" >0.484619</td>\n",
       "                        <td id=\"T_fb9c7198_4f05_11eb_b94c_fcaa14fc556erow4_col6\" class=\"data row4 col6\" >-0.287734</td>\n",
       "            </tr>\n",
       "            <tr>\n",
       "                                <td id=\"T_fb9c7198_4f05_11eb_b94c_fcaa14fc556erow5_col0\" class=\"data row5 col0\" >6</td>\n",
       "                        <td id=\"T_fb9c7198_4f05_11eb_b94c_fcaa14fc556erow5_col1\" class=\"data row5 col1\" >0.84375</td>\n",
       "                        <td id=\"T_fb9c7198_4f05_11eb_b94c_fcaa14fc556erow5_col2\" class=\"data row5 col2\" >0.875</td>\n",
       "                        <td id=\"T_fb9c7198_4f05_11eb_b94c_fcaa14fc556erow5_col3\" class=\"data row5 col3\" >0.859375</td>\n",
       "                        <td id=\"T_fb9c7198_4f05_11eb_b94c_fcaa14fc556erow5_col4\" class=\"data row5 col4\" >-0.287734</td>\n",
       "                        <td id=\"T_fb9c7198_4f05_11eb_b94c_fcaa14fc556erow5_col5\" class=\"data row5 col5\" >0.484619</td>\n",
       "                        <td id=\"T_fb9c7198_4f05_11eb_b94c_fcaa14fc556erow5_col6\" class=\"data row5 col6\" >0.0933781</td>\n",
       "            </tr>\n",
       "            <tr>\n",
       "                                <td id=\"T_fb9c7198_4f05_11eb_b94c_fcaa14fc556erow6_col0\" class=\"data row6 col0\" >7</td>\n",
       "                        <td id=\"T_fb9c7198_4f05_11eb_b94c_fcaa14fc556erow6_col1\" class=\"data row6 col1\" >0.84375</td>\n",
       "                        <td id=\"T_fb9c7198_4f05_11eb_b94c_fcaa14fc556erow6_col2\" class=\"data row6 col2\" >0.859375</td>\n",
       "                        <td id=\"T_fb9c7198_4f05_11eb_b94c_fcaa14fc556erow6_col3\" class=\"data row6 col3\" >0.851562</td>\n",
       "                        <td id=\"T_fb9c7198_4f05_11eb_b94c_fcaa14fc556erow6_col4\" class=\"data row6 col4\" >-0.287734</td>\n",
       "                        <td id=\"T_fb9c7198_4f05_11eb_b94c_fcaa14fc556erow6_col5\" class=\"data row6 col5\" >0.0933781</td>\n",
       "                        <td id=\"T_fb9c7198_4f05_11eb_b94c_fcaa14fc556erow6_col6\" class=\"data row6 col6\" >-0.0984334</td>\n",
       "            </tr>\n",
       "            <tr>\n",
       "                                <td id=\"T_fb9c7198_4f05_11eb_b94c_fcaa14fc556erow7_col0\" class=\"data row7 col0\" >8</td>\n",
       "                        <td id=\"T_fb9c7198_4f05_11eb_b94c_fcaa14fc556erow7_col1\" class=\"data row7 col1\" >0.851562</td>\n",
       "                        <td id=\"T_fb9c7198_4f05_11eb_b94c_fcaa14fc556erow7_col2\" class=\"data row7 col2\" >0.859375</td>\n",
       "                        <td id=\"T_fb9c7198_4f05_11eb_b94c_fcaa14fc556erow7_col3\" class=\"data row7 col3\" >0.855469</td>\n",
       "                        <td id=\"T_fb9c7198_4f05_11eb_b94c_fcaa14fc556erow7_col4\" class=\"data row7 col4\" >-0.0984334</td>\n",
       "                        <td id=\"T_fb9c7198_4f05_11eb_b94c_fcaa14fc556erow7_col5\" class=\"data row7 col5\" >0.0933781</td>\n",
       "                        <td id=\"T_fb9c7198_4f05_11eb_b94c_fcaa14fc556erow7_col6\" class=\"data row7 col6\" >-0.00284285</td>\n",
       "            </tr>\n",
       "            <tr>\n",
       "                                <td id=\"T_fb9c7198_4f05_11eb_b94c_fcaa14fc556erow8_col0\" class=\"data row8 col0\" >9</td>\n",
       "                        <td id=\"T_fb9c7198_4f05_11eb_b94c_fcaa14fc556erow8_col1\" class=\"data row8 col1\" >0.855469</td>\n",
       "                        <td id=\"T_fb9c7198_4f05_11eb_b94c_fcaa14fc556erow8_col2\" class=\"data row8 col2\" >0.859375</td>\n",
       "                        <td id=\"T_fb9c7198_4f05_11eb_b94c_fcaa14fc556erow8_col3\" class=\"data row8 col3\" >0.857422</td>\n",
       "                        <td id=\"T_fb9c7198_4f05_11eb_b94c_fcaa14fc556erow8_col4\" class=\"data row8 col4\" >-0.00284285</td>\n",
       "                        <td id=\"T_fb9c7198_4f05_11eb_b94c_fcaa14fc556erow8_col5\" class=\"data row8 col5\" >0.0933781</td>\n",
       "                        <td id=\"T_fb9c7198_4f05_11eb_b94c_fcaa14fc556erow8_col6\" class=\"data row8 col6\" >0.0451887</td>\n",
       "            </tr>\n",
       "            <tr>\n",
       "                                <td id=\"T_fb9c7198_4f05_11eb_b94c_fcaa14fc556erow9_col0\" class=\"data row9 col0\" >10</td>\n",
       "                        <td id=\"T_fb9c7198_4f05_11eb_b94c_fcaa14fc556erow9_col1\" class=\"data row9 col1\" >0.855469</td>\n",
       "                        <td id=\"T_fb9c7198_4f05_11eb_b94c_fcaa14fc556erow9_col2\" class=\"data row9 col2\" >0.857422</td>\n",
       "                        <td id=\"T_fb9c7198_4f05_11eb_b94c_fcaa14fc556erow9_col3\" class=\"data row9 col3\" >0.856445</td>\n",
       "                        <td id=\"T_fb9c7198_4f05_11eb_b94c_fcaa14fc556erow9_col4\" class=\"data row9 col4\" >-0.00284285</td>\n",
       "                        <td id=\"T_fb9c7198_4f05_11eb_b94c_fcaa14fc556erow9_col5\" class=\"data row9 col5\" >0.0451887</td>\n",
       "                        <td id=\"T_fb9c7198_4f05_11eb_b94c_fcaa14fc556erow9_col6\" class=\"data row9 col6\" >0.0211532</td>\n",
       "            </tr>\n",
       "    </tbody></table>"
      ],
      "text/plain": [
       "<pandas.io.formats.style.Styler at 0xf917e80>"
      ]
     },
     "execution_count": 81,
     "metadata": {},
     "output_type": "execute_result"
    }
   ],
   "source": [
    "# f(x) = x^4 + 4(x^3) + 6(x^2) + 3^x - 10\n",
    "f = lambda x:  x**4 + 4*(x**3) + 6*(x**2) + 3*x - 10\n",
    "a = 0\n",
    "b = 1\n",
    "precisao = 1/(10**3)\n",
    "max_iteracoes = 20\n",
    "tabela = bissecao(f, a, b, precisao, max_iteracoes)\n",
    "tabela.style.hide_index()"
   ]
  },
  {
   "cell_type": "markdown",
   "metadata": {},
   "source": [
    "### Resposta\n",
    "\n",
    "Pela tabela, vemos que o zero da função com a precisão especificada é encontrado na décima iteração e é dada por $x =  0.8564453125$"
   ]
  },
  {
   "cell_type": "markdown",
   "metadata": {},
   "source": [
    "#### b)  Repita o exercício anterior partindo de um intervalo de comprimento 0,4\n",
    "\n",
    "Primeiro vamos checar onde está o zero positivo para um intervalo de 0,4."
   ]
  },
  {
   "cell_type": "code",
   "execution_count": 82,
   "metadata": {},
   "outputs": [
    {
     "data": {
      "text/html": [
       "<style  type=\"text/css\" >\n",
       "</style><table id=\"T_fd44d09e_4f05_11eb_805b_fcaa14fc556e\" ><thead>    <tr>        <th class=\"col_heading level0 col0\" >x</th>        <th class=\"col_heading level0 col1\" >f(x)</th>    </tr></thead><tbody>\n",
       "                <tr>\n",
       "                                <td id=\"T_fd44d09e_4f05_11eb_805b_fcaa14fc556erow0_col0\" class=\"data row0 col0\" >0.5</td>\n",
       "                        <td id=\"T_fd44d09e_4f05_11eb_805b_fcaa14fc556erow0_col1\" class=\"data row0 col1\" >-6.4375</td>\n",
       "            </tr>\n",
       "            <tr>\n",
       "                                <td id=\"T_fd44d09e_4f05_11eb_805b_fcaa14fc556erow1_col0\" class=\"data row1 col0\" >0.9</td>\n",
       "                        <td id=\"T_fd44d09e_4f05_11eb_805b_fcaa14fc556erow1_col1\" class=\"data row1 col1\" >1.1321</td>\n",
       "            </tr>\n",
       "    </tbody></table>"
      ],
      "text/plain": [
       "<pandas.io.formats.style.Styler at 0xf9175c0>"
      ]
     },
     "execution_count": 82,
     "metadata": {},
     "output_type": "execute_result"
    }
   ],
   "source": [
    "x = [0.5, 0.9]\n",
    "f_x = [j**4 + 4*(j**3) + 6*(j**2) + 3*j - 10 for j in x]\n",
    "tabela = {'x': pd.Series(data = x), 'f(x)': pd.Series(data = f_x)}\n",
    "tabela = pd.DataFrame(tabela)\n",
    "tabela.style.hide_index()"
   ]
  },
  {
   "cell_type": "markdown",
   "metadata": {},
   "source": [
    "O intervalo $[0.5, 0.9]$ é um bom candidato. Vamos executar o método da bisseção com esses novos parâmetros"
   ]
  },
  {
   "cell_type": "code",
   "execution_count": 83,
   "metadata": {},
   "outputs": [
    {
     "name": "stdout",
     "output_type": "stream",
     "text": [
      "O valor de x que aproxima ao zero da função é: 0.85546875\n"
     ]
    },
    {
     "data": {
      "text/html": [
       "<style  type=\"text/css\" >\n",
       "</style><table id=\"T_fe6e60da_4f05_11eb_afc9_fcaa14fc556e\" ><thead>    <tr>        <th class=\"col_heading level0 col0\" >n</th>        <th class=\"col_heading level0 col1\" >a_n</th>        <th class=\"col_heading level0 col2\" >b_n</th>        <th class=\"col_heading level0 col3\" >x_n</th>        <th class=\"col_heading level0 col4\" >f(a_n)</th>        <th class=\"col_heading level0 col5\" >f(b_n)</th>        <th class=\"col_heading level0 col6\" >f(x_n)</th>    </tr></thead><tbody>\n",
       "                <tr>\n",
       "                                <td id=\"T_fe6e60da_4f05_11eb_afc9_fcaa14fc556erow0_col0\" class=\"data row0 col0\" >1</td>\n",
       "                        <td id=\"T_fe6e60da_4f05_11eb_afc9_fcaa14fc556erow0_col1\" class=\"data row0 col1\" >0.5</td>\n",
       "                        <td id=\"T_fe6e60da_4f05_11eb_afc9_fcaa14fc556erow0_col2\" class=\"data row0 col2\" >0.9</td>\n",
       "                        <td id=\"T_fe6e60da_4f05_11eb_afc9_fcaa14fc556erow0_col3\" class=\"data row0 col3\" >0.7</td>\n",
       "                        <td id=\"T_fe6e60da_4f05_11eb_afc9_fcaa14fc556erow0_col4\" class=\"data row0 col4\" >-6.4375</td>\n",
       "                        <td id=\"T_fe6e60da_4f05_11eb_afc9_fcaa14fc556erow0_col5\" class=\"data row0 col5\" >1.1321</td>\n",
       "                        <td id=\"T_fe6e60da_4f05_11eb_afc9_fcaa14fc556erow0_col6\" class=\"data row0 col6\" >-3.3479</td>\n",
       "            </tr>\n",
       "            <tr>\n",
       "                                <td id=\"T_fe6e60da_4f05_11eb_afc9_fcaa14fc556erow1_col0\" class=\"data row1 col0\" >2</td>\n",
       "                        <td id=\"T_fe6e60da_4f05_11eb_afc9_fcaa14fc556erow1_col1\" class=\"data row1 col1\" >0.7</td>\n",
       "                        <td id=\"T_fe6e60da_4f05_11eb_afc9_fcaa14fc556erow1_col2\" class=\"data row1 col2\" >0.9</td>\n",
       "                        <td id=\"T_fe6e60da_4f05_11eb_afc9_fcaa14fc556erow1_col3\" class=\"data row1 col3\" >0.8</td>\n",
       "                        <td id=\"T_fe6e60da_4f05_11eb_afc9_fcaa14fc556erow1_col4\" class=\"data row1 col4\" >-3.3479</td>\n",
       "                        <td id=\"T_fe6e60da_4f05_11eb_afc9_fcaa14fc556erow1_col5\" class=\"data row1 col5\" >1.1321</td>\n",
       "                        <td id=\"T_fe6e60da_4f05_11eb_afc9_fcaa14fc556erow1_col6\" class=\"data row1 col6\" >-1.3024</td>\n",
       "            </tr>\n",
       "            <tr>\n",
       "                                <td id=\"T_fe6e60da_4f05_11eb_afc9_fcaa14fc556erow2_col0\" class=\"data row2 col0\" >3</td>\n",
       "                        <td id=\"T_fe6e60da_4f05_11eb_afc9_fcaa14fc556erow2_col1\" class=\"data row2 col1\" >0.8</td>\n",
       "                        <td id=\"T_fe6e60da_4f05_11eb_afc9_fcaa14fc556erow2_col2\" class=\"data row2 col2\" >0.9</td>\n",
       "                        <td id=\"T_fe6e60da_4f05_11eb_afc9_fcaa14fc556erow2_col3\" class=\"data row2 col3\" >0.85</td>\n",
       "                        <td id=\"T_fe6e60da_4f05_11eb_afc9_fcaa14fc556erow2_col4\" class=\"data row2 col4\" >-1.3024</td>\n",
       "                        <td id=\"T_fe6e60da_4f05_11eb_afc9_fcaa14fc556erow2_col5\" class=\"data row2 col5\" >1.1321</td>\n",
       "                        <td id=\"T_fe6e60da_4f05_11eb_afc9_fcaa14fc556erow2_col6\" class=\"data row2 col6\" >-0.136494</td>\n",
       "            </tr>\n",
       "            <tr>\n",
       "                                <td id=\"T_fe6e60da_4f05_11eb_afc9_fcaa14fc556erow3_col0\" class=\"data row3 col0\" >4</td>\n",
       "                        <td id=\"T_fe6e60da_4f05_11eb_afc9_fcaa14fc556erow3_col1\" class=\"data row3 col1\" >0.85</td>\n",
       "                        <td id=\"T_fe6e60da_4f05_11eb_afc9_fcaa14fc556erow3_col2\" class=\"data row3 col2\" >0.9</td>\n",
       "                        <td id=\"T_fe6e60da_4f05_11eb_afc9_fcaa14fc556erow3_col3\" class=\"data row3 col3\" >0.875</td>\n",
       "                        <td id=\"T_fe6e60da_4f05_11eb_afc9_fcaa14fc556erow3_col4\" class=\"data row3 col4\" >-0.136494</td>\n",
       "                        <td id=\"T_fe6e60da_4f05_11eb_afc9_fcaa14fc556erow3_col5\" class=\"data row3 col5\" >1.1321</td>\n",
       "                        <td id=\"T_fe6e60da_4f05_11eb_afc9_fcaa14fc556erow3_col6\" class=\"data row3 col6\" >0.484619</td>\n",
       "            </tr>\n",
       "            <tr>\n",
       "                                <td id=\"T_fe6e60da_4f05_11eb_afc9_fcaa14fc556erow4_col0\" class=\"data row4 col0\" >5</td>\n",
       "                        <td id=\"T_fe6e60da_4f05_11eb_afc9_fcaa14fc556erow4_col1\" class=\"data row4 col1\" >0.85</td>\n",
       "                        <td id=\"T_fe6e60da_4f05_11eb_afc9_fcaa14fc556erow4_col2\" class=\"data row4 col2\" >0.875</td>\n",
       "                        <td id=\"T_fe6e60da_4f05_11eb_afc9_fcaa14fc556erow4_col3\" class=\"data row4 col3\" >0.8625</td>\n",
       "                        <td id=\"T_fe6e60da_4f05_11eb_afc9_fcaa14fc556erow4_col4\" class=\"data row4 col4\" >-0.136494</td>\n",
       "                        <td id=\"T_fe6e60da_4f05_11eb_afc9_fcaa14fc556erow4_col5\" class=\"data row4 col5\" >0.484619</td>\n",
       "                        <td id=\"T_fe6e60da_4f05_11eb_afc9_fcaa14fc556erow4_col6\" class=\"data row4 col6\" >0.170811</td>\n",
       "            </tr>\n",
       "            <tr>\n",
       "                                <td id=\"T_fe6e60da_4f05_11eb_afc9_fcaa14fc556erow5_col0\" class=\"data row5 col0\" >6</td>\n",
       "                        <td id=\"T_fe6e60da_4f05_11eb_afc9_fcaa14fc556erow5_col1\" class=\"data row5 col1\" >0.85</td>\n",
       "                        <td id=\"T_fe6e60da_4f05_11eb_afc9_fcaa14fc556erow5_col2\" class=\"data row5 col2\" >0.8625</td>\n",
       "                        <td id=\"T_fe6e60da_4f05_11eb_afc9_fcaa14fc556erow5_col3\" class=\"data row5 col3\" >0.85625</td>\n",
       "                        <td id=\"T_fe6e60da_4f05_11eb_afc9_fcaa14fc556erow5_col4\" class=\"data row5 col4\" >-0.136494</td>\n",
       "                        <td id=\"T_fe6e60da_4f05_11eb_afc9_fcaa14fc556erow5_col5\" class=\"data row5 col5\" >0.170811</td>\n",
       "                        <td id=\"T_fe6e60da_4f05_11eb_afc9_fcaa14fc556erow5_col6\" class=\"data row5 col6\" >0.0163508</td>\n",
       "            </tr>\n",
       "            <tr>\n",
       "                                <td id=\"T_fe6e60da_4f05_11eb_afc9_fcaa14fc556erow6_col0\" class=\"data row6 col0\" >7</td>\n",
       "                        <td id=\"T_fe6e60da_4f05_11eb_afc9_fcaa14fc556erow6_col1\" class=\"data row6 col1\" >0.85</td>\n",
       "                        <td id=\"T_fe6e60da_4f05_11eb_afc9_fcaa14fc556erow6_col2\" class=\"data row6 col2\" >0.85625</td>\n",
       "                        <td id=\"T_fe6e60da_4f05_11eb_afc9_fcaa14fc556erow6_col3\" class=\"data row6 col3\" >0.853125</td>\n",
       "                        <td id=\"T_fe6e60da_4f05_11eb_afc9_fcaa14fc556erow6_col4\" class=\"data row6 col4\" >-0.136494</td>\n",
       "                        <td id=\"T_fe6e60da_4f05_11eb_afc9_fcaa14fc556erow6_col5\" class=\"data row6 col5\" >0.0163508</td>\n",
       "                        <td id=\"T_fe6e60da_4f05_11eb_afc9_fcaa14fc556erow6_col6\" class=\"data row6 col6\" >-0.0602727</td>\n",
       "            </tr>\n",
       "            <tr>\n",
       "                                <td id=\"T_fe6e60da_4f05_11eb_afc9_fcaa14fc556erow7_col0\" class=\"data row7 col0\" >8</td>\n",
       "                        <td id=\"T_fe6e60da_4f05_11eb_afc9_fcaa14fc556erow7_col1\" class=\"data row7 col1\" >0.853125</td>\n",
       "                        <td id=\"T_fe6e60da_4f05_11eb_afc9_fcaa14fc556erow7_col2\" class=\"data row7 col2\" >0.85625</td>\n",
       "                        <td id=\"T_fe6e60da_4f05_11eb_afc9_fcaa14fc556erow7_col3\" class=\"data row7 col3\" >0.854688</td>\n",
       "                        <td id=\"T_fe6e60da_4f05_11eb_afc9_fcaa14fc556erow7_col4\" class=\"data row7 col4\" >-0.0602727</td>\n",
       "                        <td id=\"T_fe6e60da_4f05_11eb_afc9_fcaa14fc556erow7_col5\" class=\"data row7 col5\" >0.0163508</td>\n",
       "                        <td id=\"T_fe6e60da_4f05_11eb_afc9_fcaa14fc556erow7_col6\" class=\"data row7 col6\" >-0.0220113</td>\n",
       "            </tr>\n",
       "            <tr>\n",
       "                                <td id=\"T_fe6e60da_4f05_11eb_afc9_fcaa14fc556erow8_col0\" class=\"data row8 col0\" >9</td>\n",
       "                        <td id=\"T_fe6e60da_4f05_11eb_afc9_fcaa14fc556erow8_col1\" class=\"data row8 col1\" >0.854688</td>\n",
       "                        <td id=\"T_fe6e60da_4f05_11eb_afc9_fcaa14fc556erow8_col2\" class=\"data row8 col2\" >0.85625</td>\n",
       "                        <td id=\"T_fe6e60da_4f05_11eb_afc9_fcaa14fc556erow8_col3\" class=\"data row8 col3\" >0.855469</td>\n",
       "                        <td id=\"T_fe6e60da_4f05_11eb_afc9_fcaa14fc556erow8_col4\" class=\"data row8 col4\" >-0.0220113</td>\n",
       "                        <td id=\"T_fe6e60da_4f05_11eb_afc9_fcaa14fc556erow8_col5\" class=\"data row8 col5\" >0.0163508</td>\n",
       "                        <td id=\"T_fe6e60da_4f05_11eb_afc9_fcaa14fc556erow8_col6\" class=\"data row8 col6\" >-0.00284285</td>\n",
       "            </tr>\n",
       "    </tbody></table>"
      ],
      "text/plain": [
       "<pandas.io.formats.style.Styler at 0xf927128>"
      ]
     },
     "execution_count": 83,
     "metadata": {},
     "output_type": "execute_result"
    }
   ],
   "source": [
    "f = lambda x:  x**4 + 4*(x**3) + 6*(x**2) + 3*x - 10\n",
    "a = 0.5\n",
    "b = 0.9\n",
    "precisao = 1/(10**3)\n",
    "max_iteracoes = 20\n",
    "tabela = bissecao(f, a, b, precisao, max_iteracoes)\n",
    "tabela.style.hide_index()"
   ]
  },
  {
   "cell_type": "markdown",
   "metadata": {},
   "source": [
    "### Resposta\n",
    "\n",
    "Foi necessária uma iteração a menos nesse caso! O zero da função encontrado:  $0.85546875$."
   ]
  },
  {
   "cell_type": "markdown",
   "metadata": {},
   "source": [
    " \n",
    "#### c) Encontre, pelo Método de Newton, o zero positivo de f. Use como critério de parada $|x_n - x_{n-1}| < 10^{-4}$.\n",
    "\n",
    "#### Use 7 casas decimais nos cálculos e arredondamento."
   ]
  },
  {
   "cell_type": "markdown",
   "metadata": {},
   "source": [
    "Precisamos escrever uma função também para o método de newton. Também é preciso escrever a derivada de uma função na sua forma  numérica(diferenças finitas)."
   ]
  },
  {
   "cell_type": "code",
   "execution_count": 123,
   "metadata": {},
   "outputs": [],
   "source": [
    "import pandas as pd\n",
    "\n",
    "\n",
    "def newton(f, chute_inicial, precisao, max_iteracoes):\n",
    "    '''\n",
    "    - Função: newton(f, chute_inicial, precisao, max_iteracoes)\n",
    "    - Autor: Eduardo Freire Mangabeira\n",
    "    - Obtém um zero de uma função pelo método de Newton.\n",
    "    - Feito a partir das aulas do professor Hamilton(ENCE) e do livro Burden, R. L., & Faires, D. J. (1985). Numerical analysis.\n",
    "    - É precisso passar uma expressão lambda para o parâmetro 'f', fiz isso para deixar o código mais geral e menos verboso.\n",
    "    - Para expresões lambda, visitar: http://www.dsc.ufcg.edu.br/~pet/jornal/maio2013/materias/tutoriais.html.\n",
    "    '''\n",
    "    i = 1\n",
    "    derivada_numerica = lambda x: (f(x+precisao)-f(x))/ precisao\n",
    "    dados = {'n':[], 'x_n':[], 'f(x_n)':[], 'f\\'x_n':[], '|x_n - x_n-1|':[]}\n",
    "    tabela = pd.DataFrame(dados)\n",
    "    while i<= max_iteracoes:\n",
    "        solucao = chute_inicial - f(chute_inicial)/derivada_numerica(chute_inicial)\n",
    "        dados2 = {'n':[i], 'x_n':[chute_inicial], 'f(x_n)':[f(chute_inicial)], 'f\\'x_n':[derivada_numerica(chute_inicial)], \n",
    "                  '|x_n - x_n-1|':[abs(solucao - chute_inicial)]}\n",
    "        tabela2 = pd.DataFrame(dados2)\n",
    "        tabela = tabela.append(tabela2, ignore_index = True)\n",
    "        if abs(solucao - chute_inicial) < precisao:\n",
    "            print(\"O valor de x que aproxima ao zero da função é {0:.7f}\".format(solucao))\n",
    "            return tabela\n",
    "        i = i + 1\n",
    "        chute_inicial = solucao"
   ]
  },
  {
   "cell_type": "code",
   "execution_count": 47,
   "metadata": {},
   "outputs": [
    {
     "name": "stdout",
     "output_type": "stream",
     "text": [
      "\n",
      "    - Função: newton(f, chute_inicial, precisao, max_iteracoes)\n",
      "    - Autor: Eduardo Freire Mangabeira\n",
      "    - Obtém um zero de uma função pelo método de Newton.\n",
      "    - Feito a partir das aulas do professor Hamilton e do livro Burden, R. L., & Faires, D. J. (1985). Numerical analysis.\n",
      "    - É precisso passar uma expressão lambda para o parâmetro 'f', fiz isso para deixar o código mais geral e menos verboso.\n",
      "    - Para expresões lambda, visitar: http://www.dsc.ufcg.edu.br/~pet/jornal/maio2013/materias/tutoriais.html.\n",
      "    \n"
     ]
    }
   ],
   "source": [
    "print(newton.__doc__)"
   ]
  },
  {
   "cell_type": "markdown",
   "metadata": {},
   "source": [
    "Agora basta fornecer os valores dados pela questão para encontrar a solução. \n",
    "\n",
    "### Escolhendo o chute inicial\n",
    "\n",
    "Sabemos que o zero positivo está em $[0,1]$.\n",
    "\n",
    "Para escolher o $x_0$(chute_inicial), vamos escolher o extremo do intervalo que ao ser aplicado na função tem o mesmo sinal da segunda derivada.\n",
    "\n",
    "$f(0) = -10 < 0$  ,   $f(1) = 4 > 0$\n",
    "\n",
    "<br>\n",
    "\n",
    "$f'(x) = 4x^3 + 12(x^2) + 12x + 3$\n",
    "$f'(0) = 3 > 0$  ,   $f'(1) = 31 > 0$\n",
    "\n",
    "<br>\n",
    "\n",
    "$f''(x) = 12x^2 + 24x +12 $, temos $f''(x) > 0$ para x em $[0,1]$\n",
    "\n",
    "<br>\n",
    "\n",
    "Logo, a extremidade que possui o mesmo sinal da segunda derivada é $x = 1$ e será nosso chute inicial."
   ]
  },
  {
   "cell_type": "code",
   "execution_count": 85,
   "metadata": {},
   "outputs": [
    {
     "name": "stdout",
     "output_type": "stream",
     "text": [
      "O valor de x que aproxima ao zero da função é 0.8555845\n"
     ]
    },
    {
     "data": {
      "text/html": [
       "<style  type=\"text/css\" >\n",
       "</style><table id=\"T_068e6c3e_4f06_11eb_ab2a_fcaa14fc556e\" ><thead>    <tr>        <th class=\"col_heading level0 col0\" >n</th>        <th class=\"col_heading level0 col1\" >x_n</th>        <th class=\"col_heading level0 col2\" >f(x_n)</th>        <th class=\"col_heading level0 col3\" >f'x_n</th>        <th class=\"col_heading level0 col4\" >|x_n - x_n-1|</th>    </tr></thead><tbody>\n",
       "                <tr>\n",
       "                                <td id=\"T_068e6c3e_4f06_11eb_ab2a_fcaa14fc556erow0_col0\" class=\"data row0 col0\" >1</td>\n",
       "                        <td id=\"T_068e6c3e_4f06_11eb_ab2a_fcaa14fc556erow0_col1\" class=\"data row0 col1\" >1</td>\n",
       "                        <td id=\"T_068e6c3e_4f06_11eb_ab2a_fcaa14fc556erow0_col2\" class=\"data row0 col2\" >4</td>\n",
       "                        <td id=\"T_068e6c3e_4f06_11eb_ab2a_fcaa14fc556erow0_col3\" class=\"data row0 col3\" >31.0024</td>\n",
       "                        <td id=\"T_068e6c3e_4f06_11eb_ab2a_fcaa14fc556erow0_col4\" class=\"data row0 col4\" >0.129022</td>\n",
       "            </tr>\n",
       "            <tr>\n",
       "                                <td id=\"T_068e6c3e_4f06_11eb_ab2a_fcaa14fc556erow1_col0\" class=\"data row1 col0\" >2</td>\n",
       "                        <td id=\"T_068e6c3e_4f06_11eb_ab2a_fcaa14fc556erow1_col1\" class=\"data row1 col1\" >0.870978</td>\n",
       "                        <td id=\"T_068e6c3e_4f06_11eb_ab2a_fcaa14fc556erow1_col2\" class=\"data row1 col2\" >0.382926</td>\n",
       "                        <td id=\"T_068e6c3e_4f06_11eb_ab2a_fcaa14fc556erow1_col3\" class=\"data row1 col3\" >25.2</td>\n",
       "                        <td id=\"T_068e6c3e_4f06_11eb_ab2a_fcaa14fc556erow1_col4\" class=\"data row1 col4\" >0.0151955</td>\n",
       "            </tr>\n",
       "            <tr>\n",
       "                                <td id=\"T_068e6c3e_4f06_11eb_ab2a_fcaa14fc556erow2_col0\" class=\"data row2 col0\" >3</td>\n",
       "                        <td id=\"T_068e6c3e_4f06_11eb_ab2a_fcaa14fc556erow2_col1\" class=\"data row2 col1\" >0.855782</td>\n",
       "                        <td id=\"T_068e6c3e_4f06_11eb_ab2a_fcaa14fc556erow2_col2\" class=\"data row2 col2\" >0.00485546</td>\n",
       "                        <td id=\"T_068e6c3e_4f06_11eb_ab2a_fcaa14fc556erow2_col3\" class=\"data row2 col3\" >24.5668</td>\n",
       "                        <td id=\"T_068e6c3e_4f06_11eb_ab2a_fcaa14fc556erow2_col4\" class=\"data row2 col4\" >0.000197643</td>\n",
       "            </tr>\n",
       "            <tr>\n",
       "                                <td id=\"T_068e6c3e_4f06_11eb_ab2a_fcaa14fc556erow3_col0\" class=\"data row3 col0\" >4</td>\n",
       "                        <td id=\"T_068e6c3e_4f06_11eb_ab2a_fcaa14fc556erow3_col1\" class=\"data row3 col1\" >0.855585</td>\n",
       "                        <td id=\"T_068e6c3e_4f06_11eb_ab2a_fcaa14fc556erow3_col2\" class=\"data row3 col2\" >1.21554e-06</td>\n",
       "                        <td id=\"T_068e6c3e_4f06_11eb_ab2a_fcaa14fc556erow3_col3\" class=\"data row3 col3\" >24.5586</td>\n",
       "                        <td id=\"T_068e6c3e_4f06_11eb_ab2a_fcaa14fc556erow3_col4\" class=\"data row3 col4\" >4.94953e-08</td>\n",
       "            </tr>\n",
       "    </tbody></table>"
      ],
      "text/plain": [
       "<pandas.io.formats.style.Styler at 0xf927048>"
      ]
     },
     "execution_count": 85,
     "metadata": {},
     "output_type": "execute_result"
    }
   ],
   "source": [
    "f = lambda x:  x**4 + 4*(x**3) + 6*(x**2) + 3*x - 10\n",
    "chute_inicial = 1\n",
    "precisao = 1/(10**4)\n",
    "max_iteracoes = 10\n",
    "\n",
    "tabela = newton(f, chute_inicial, precisao, max_iteracoes)\n",
    "tabela.style.hide_index()"
   ]
  },
  {
   "cell_type": "markdown",
   "metadata": {},
   "source": [
    "### Resposta\n",
    "\n",
    "Precisamos de apenas 4 iterações para encontrar que o zero positivo da função é dado por $x = 0.8555845$"
   ]
  },
  {
   "cell_type": "markdown",
   "metadata": {},
   "source": [
    "# Exercício 2\n",
    "\n",
    "### Encontre $\\sqrt[4]70$ com precisão $10^{-4}$, usando o Método de Newton e 6 casas decimais nos cálculos e arredondamento."
   ]
  },
  {
   "cell_type": "markdown",
   "metadata": {},
   "source": [
    "Basta usarmos a função que escrevemos para o método de newton com os novos parâmetros!\n",
    "\n",
    "- Obs: Para alterar o número de casas decimais exibidas no resultado final, é preciso alterar a seguinte linha:\n",
    "\n",
    "- ```print(\"O valor de x que aproxima ao zero da função é {0:.7f}\".format(solucao))```\n",
    "\n",
    "- O número que está entre chaves é a quantidade de casas decimais."
   ]
  },
  {
   "cell_type": "markdown",
   "metadata": {},
   "source": [
    "### Mas onde pode estar o zero da função? \n",
    "\n",
    "É preciso enxergar uma função para aproximar o valor especificado. No caso:\n",
    "\n",
    "$$f(x) = x^4 - 70$$\n",
    "\n",
    "Sabe-se que a raiz quarta de 81 é 3, e a raiz quarta de 16 é 2.\n",
    "\n",
    "$\\sqrt[4]81 = 3$\n",
    "\n",
    "$\\sqrt[4]16 = 2$\n",
    "\n",
    "Logo, percebe-se que a raiz quarta de 70 está no intervalo $[2,3]$.\n",
    "\n",
    "\n",
    "### Escolhendo o chute inicial\n",
    "\n",
    "Para escolher o $x_0$(chute_inicial), vamos escolher o extremo do intervalo que ao ser aplicado na função tem o mesmo sinal da segunda derivada.\n",
    "\n",
    "$f(2) = 16 - 70 < 0$  ,   $f(3) = 81 - 70 > 0$\n",
    "\n",
    "<br>\n",
    "\n",
    "$f'(x) = 4x^3 $\n",
    "$f'(2) = 32 > 0$  ,   $f'(3) = 108 > 0$\n",
    "\n",
    "<br>\n",
    "\n",
    "$f''(x) = 12x^2$, temos $f''(x) > 0$ para x em $[2,3]$\n",
    "\n",
    "<br>\n",
    "\n",
    "Logo, a extremidade que possui o mesmo sinal da segunda derivada é $x = 3$ e será nosso chute inicial."
   ]
  },
  {
   "cell_type": "code",
   "execution_count": 26,
   "metadata": {},
   "outputs": [
    {
     "name": "stdout",
     "output_type": "stream",
     "text": [
      "O valor de x que aproxima ao zero da função é 2.8925076\n"
     ]
    },
    {
     "data": {
      "text/html": [
       "<style  type=\"text/css\" >\n",
       "</style><table id=\"T_a5ac2d96_584b_11eb_9725_a463a108a0eb\" ><thead>    <tr>        <th class=\"col_heading level0 col0\" >n</th>        <th class=\"col_heading level0 col1\" >x_n</th>        <th class=\"col_heading level0 col2\" >f(x_n)</th>        <th class=\"col_heading level0 col3\" >f'x_n</th>        <th class=\"col_heading level0 col4\" >|x_n - x_n-1|</th>    </tr></thead><tbody>\n",
       "                <tr>\n",
       "                                <td id=\"T_a5ac2d96_584b_11eb_9725_a463a108a0ebrow0_col0\" class=\"data row0 col0\" >1.000000</td>\n",
       "                        <td id=\"T_a5ac2d96_584b_11eb_9725_a463a108a0ebrow0_col1\" class=\"data row0 col1\" >3.000000</td>\n",
       "                        <td id=\"T_a5ac2d96_584b_11eb_9725_a463a108a0ebrow0_col2\" class=\"data row0 col2\" >11.000000</td>\n",
       "                        <td id=\"T_a5ac2d96_584b_11eb_9725_a463a108a0ebrow0_col3\" class=\"data row0 col3\" >108.005400</td>\n",
       "                        <td id=\"T_a5ac2d96_584b_11eb_9725_a463a108a0ebrow0_col4\" class=\"data row0 col4\" >0.101847</td>\n",
       "            </tr>\n",
       "            <tr>\n",
       "                                <td id=\"T_a5ac2d96_584b_11eb_9725_a463a108a0ebrow1_col0\" class=\"data row1 col0\" >2.000000</td>\n",
       "                        <td id=\"T_a5ac2d96_584b_11eb_9725_a463a108a0ebrow1_col1\" class=\"data row1 col1\" >2.898153</td>\n",
       "                        <td id=\"T_a5ac2d96_584b_11eb_9725_a463a108a0ebrow1_col2\" class=\"data row1 col2\" >0.548110</td>\n",
       "                        <td id=\"T_a5ac2d96_584b_11eb_9725_a463a108a0ebrow1_col3\" class=\"data row1 col3\" >97.374783</td>\n",
       "                        <td id=\"T_a5ac2d96_584b_11eb_9725_a463a108a0ebrow1_col4\" class=\"data row1 col4\" >0.005629</td>\n",
       "            </tr>\n",
       "            <tr>\n",
       "                                <td id=\"T_a5ac2d96_584b_11eb_9725_a463a108a0ebrow2_col0\" class=\"data row2 col0\" >3.000000</td>\n",
       "                        <td id=\"T_a5ac2d96_584b_11eb_9725_a463a108a0ebrow2_col1\" class=\"data row2 col1\" >2.892524</td>\n",
       "                        <td id=\"T_a5ac2d96_584b_11eb_9725_a463a108a0ebrow2_col2\" class=\"data row2 col2\" >0.001623</td>\n",
       "                        <td id=\"T_a5ac2d96_584b_11eb_9725_a463a108a0ebrow2_col3\" class=\"data row2 col3\" >96.808523</td>\n",
       "                        <td id=\"T_a5ac2d96_584b_11eb_9725_a463a108a0ebrow2_col4\" class=\"data row2 col4\" >0.000017</td>\n",
       "            </tr>\n",
       "    </tbody></table>"
      ],
      "text/plain": [
       "<pandas.io.formats.style.Styler at 0x6703f88>"
      ]
     },
     "execution_count": 26,
     "metadata": {},
     "output_type": "execute_result"
    }
   ],
   "source": [
    "f = lambda x: x**4 - 70\n",
    "chute_inicial = 3\n",
    "precisao = 1/(10**4)\n",
    "max_iteracoes = 10\n",
    "\n",
    "tabela = newton(f, chute_inicial, precisao, max_iteracoes)\n",
    "tabela.style.hide_index()"
   ]
  },
  {
   "cell_type": "markdown",
   "metadata": {},
   "source": [
    "### Resultado\n",
    "\n",
    "Precisamos de apenas 3 iterações para obter que a raiz quarta de 70 é aproximadamente 2.892508."
   ]
  },
  {
   "cell_type": "markdown",
   "metadata": {},
   "source": [
    "# Exercício 3"
   ]
  },
  {
   "cell_type": "markdown",
   "metadata": {},
   "source": [
    "### Seja $g(x) = sen(x) - 2e^{-x}$. Encontre a menor raiz da equação $g(x) = 0$, pelo método de Newton, usando $|g(x_n)|< 10^{-4}$ como critério de parada."
   ]
  },
  {
   "cell_type": "markdown",
   "metadata": {},
   "source": [
    "Vamos começar observando a tabela."
   ]
  },
  {
   "cell_type": "code",
   "execution_count": 64,
   "metadata": {
    "scrolled": true
   },
   "outputs": [
    {
     "data": {
      "text/html": [
       "<style  type=\"text/css\" >\n",
       "</style><table id=\"T_3d6b0964_584e_11eb_be28_a463a108a0eb\" ><thead>    <tr>        <th class=\"col_heading level0 col0\" >x</th>        <th class=\"col_heading level0 col1\" >g(x)</th>    </tr></thead><tbody>\n",
       "                <tr>\n",
       "                                <td id=\"T_3d6b0964_584e_11eb_be28_a463a108a0ebrow0_col0\" class=\"data row0 col0\" >-3</td>\n",
       "                        <td id=\"T_3d6b0964_584e_11eb_be28_a463a108a0ebrow0_col1\" class=\"data row0 col1\" >-40.312194</td>\n",
       "            </tr>\n",
       "            <tr>\n",
       "                                <td id=\"T_3d6b0964_584e_11eb_be28_a463a108a0ebrow1_col0\" class=\"data row1 col0\" >-2</td>\n",
       "                        <td id=\"T_3d6b0964_584e_11eb_be28_a463a108a0ebrow1_col1\" class=\"data row1 col1\" >-15.687410</td>\n",
       "            </tr>\n",
       "            <tr>\n",
       "                                <td id=\"T_3d6b0964_584e_11eb_be28_a463a108a0ebrow2_col0\" class=\"data row2 col0\" >-1</td>\n",
       "                        <td id=\"T_3d6b0964_584e_11eb_be28_a463a108a0ebrow2_col1\" class=\"data row2 col1\" >-6.278035</td>\n",
       "            </tr>\n",
       "            <tr>\n",
       "                                <td id=\"T_3d6b0964_584e_11eb_be28_a463a108a0ebrow3_col0\" class=\"data row3 col0\" >0</td>\n",
       "                        <td id=\"T_3d6b0964_584e_11eb_be28_a463a108a0ebrow3_col1\" class=\"data row3 col1\" >-2.000000</td>\n",
       "            </tr>\n",
       "            <tr>\n",
       "                                <td id=\"T_3d6b0964_584e_11eb_be28_a463a108a0ebrow4_col0\" class=\"data row4 col0\" >1</td>\n",
       "                        <td id=\"T_3d6b0964_584e_11eb_be28_a463a108a0ebrow4_col1\" class=\"data row4 col1\" >0.105712</td>\n",
       "            </tr>\n",
       "            <tr>\n",
       "                                <td id=\"T_3d6b0964_584e_11eb_be28_a463a108a0ebrow5_col0\" class=\"data row5 col0\" >2</td>\n",
       "                        <td id=\"T_3d6b0964_584e_11eb_be28_a463a108a0ebrow5_col1\" class=\"data row5 col1\" >0.638627</td>\n",
       "            </tr>\n",
       "            <tr>\n",
       "                                <td id=\"T_3d6b0964_584e_11eb_be28_a463a108a0ebrow6_col0\" class=\"data row6 col0\" >5</td>\n",
       "                        <td id=\"T_3d6b0964_584e_11eb_be28_a463a108a0ebrow6_col1\" class=\"data row6 col1\" >-0.972400</td>\n",
       "            </tr>\n",
       "            <tr>\n",
       "                                <td id=\"T_3d6b0964_584e_11eb_be28_a463a108a0ebrow7_col0\" class=\"data row7 col0\" >20</td>\n",
       "                        <td id=\"T_3d6b0964_584e_11eb_be28_a463a108a0ebrow7_col1\" class=\"data row7 col1\" >0.912945</td>\n",
       "            </tr>\n",
       "    </tbody></table>"
      ],
      "text/plain": [
       "<pandas.io.formats.style.Styler at 0xfd6fd18>"
      ]
     },
     "execution_count": 64,
     "metadata": {},
     "output_type": "execute_result"
    }
   ],
   "source": [
    "import pandas as pd\n",
    "import numpy as np\n",
    "\n",
    "x = [-3, -2,-1, 0, 1, 2, 5, 20]\n",
    "f_x = [np.sin(j) - 2*np.exp(-j) for j in x]\n",
    "tabela = {'x': pd.Series(data = x), 'g(x)': pd.Series(data = f_x)}\n",
    "tabela = pd.DataFrame(tabela)\n",
    "tabela.style.hide_index()"
   ]
  },
  {
   "cell_type": "markdown",
   "metadata": {},
   "source": [
    "Para valores de x menores do que zero a função é sempre negativa, pois a função exponencial cresce muito rapidamente enquanto a função seno é limitada no intervalo $[-1, 1]$. A menor raiz está portanto no intervalo $(0,1)$.\n",
    "\n",
    "\n",
    "#### Critério de parada\n",
    "\n",
    "Teremos que reescrever a função do método de Newton para que o método de parada não seja mais o erro absoluto, e sim a distância. Podemos escrever uma função que peça ao usuário para inserir qual critério de parada desejado, mas por praticidade vou apenas alterar uma linha na função original."
   ]
  },
  {
   "cell_type": "code",
   "execution_count": 11,
   "metadata": {},
   "outputs": [],
   "source": [
    "import pandas as pd\n",
    "\n",
    "\n",
    "def newton_dist(f, chute_inicial, precisao, max_iteracoes):\n",
    "    '''\n",
    "    - Função: newton_dist(f, chute_inicial, precisao, max_iteracoes)\n",
    "    - Autor: Eduardo Freire Mangabeira\n",
    "    - Obtém um zero de uma função pelo método de Newton. Toma a distância como critério de parada.\n",
    "    - Feito a partir das aulas do professor Hamilton(ENCE) e do livro Burden, R. L., & Faires, D. J. (1985). Numerical analysis.\n",
    "    - É precisso passar uma expressão lambda para o parâmetro 'f', fiz isso para deixar o código mais geral e menos verboso.\n",
    "    - Para expresões lambda, visitar: http://www.dsc.ufcg.edu.br/~pet/jornal/maio2013/materias/tutoriais.html.\n",
    "    '''\n",
    "    i = 1\n",
    "    derivada_numerica = lambda x: (f(x+precisao)-f(x))/ precisao\n",
    "    dados = {'n':[], 'x_n':[], 'f(x_n)':[], 'f\\'x_n':[], '|f(x_n)|':[]}\n",
    "    tabela = pd.DataFrame(dados)\n",
    "    while i<= max_iteracoes:\n",
    "        solucao = chute_inicial - f(chute_inicial)/derivada_numerica(chute_inicial)\n",
    "        dados2 = {'n':[i], 'x_n':[chute_inicial], 'f(x_n)':[f(chute_inicial)], 'f\\'x_n':[derivada_numerica(chute_inicial)], \n",
    "                  '|f(x_n)|':[abs(f(solucao))]}\n",
    "        tabela2 = pd.DataFrame(dados2)\n",
    "        tabela = tabela.append(tabela2, ignore_index = True)\n",
    "        if abs(f(solucao)) < precisao:\n",
    "            print(\"O valor de x que aproxima ao zero da função é {0:.7f}\".format(solucao))\n",
    "            return tabela\n",
    "        i = i + 1\n",
    "        chute_inicial = solucao"
   ]
  },
  {
   "cell_type": "markdown",
   "metadata": {},
   "source": [
    "Antes de usar a função, vamos verificar qual é o melhor chute inicial, ou seja, o extremo do intervalo que possui mesmo sinal da segunda derivada."
   ]
  },
  {
   "cell_type": "markdown",
   "metadata": {},
   "source": [
    "$f(0) = 0 - 2 = -2 < 0$, $f(1) = 0.8414 - 0.7357 > 0$"
   ]
  },
  {
   "cell_type": "code",
   "execution_count": 65,
   "metadata": {},
   "outputs": [
    {
     "data": {
      "text/html": [
       "<style  type=\"text/css\" >\n",
       "</style><table id=\"T_412af98b_584e_11eb_98d1_a463a108a0eb\" ><thead>    <tr>        <th class=\"col_heading level0 col0\" >x</th>        <th class=\"col_heading level0 col1\" >g'(x)</th>    </tr></thead><tbody>\n",
       "                <tr>\n",
       "                                <td id=\"T_412af98b_584e_11eb_98d1_a463a108a0ebrow0_col0\" class=\"data row0 col0\" >0.000000</td>\n",
       "                        <td id=\"T_412af98b_584e_11eb_98d1_a463a108a0ebrow0_col1\" class=\"data row0 col1\" >3.000000</td>\n",
       "            </tr>\n",
       "            <tr>\n",
       "                                <td id=\"T_412af98b_584e_11eb_98d1_a463a108a0ebrow1_col0\" class=\"data row1 col0\" >0.250000</td>\n",
       "                        <td id=\"T_412af98b_584e_11eb_98d1_a463a108a0ebrow1_col1\" class=\"data row1 col1\" >2.526514</td>\n",
       "            </tr>\n",
       "            <tr>\n",
       "                                <td id=\"T_412af98b_584e_11eb_98d1_a463a108a0ebrow2_col0\" class=\"data row2 col0\" >0.500000</td>\n",
       "                        <td id=\"T_412af98b_584e_11eb_98d1_a463a108a0ebrow2_col1\" class=\"data row2 col1\" >2.090644</td>\n",
       "            </tr>\n",
       "            <tr>\n",
       "                                <td id=\"T_412af98b_584e_11eb_98d1_a463a108a0ebrow3_col0\" class=\"data row3 col0\" >0.750000</td>\n",
       "                        <td id=\"T_412af98b_584e_11eb_98d1_a463a108a0ebrow3_col1\" class=\"data row3 col1\" >1.676422</td>\n",
       "            </tr>\n",
       "            <tr>\n",
       "                                <td id=\"T_412af98b_584e_11eb_98d1_a463a108a0ebrow4_col0\" class=\"data row4 col0\" >1.000000</td>\n",
       "                        <td id=\"T_412af98b_584e_11eb_98d1_a463a108a0ebrow4_col1\" class=\"data row4 col1\" >1.276061</td>\n",
       "            </tr>\n",
       "    </tbody></table>"
      ],
      "text/plain": [
       "<pandas.io.formats.style.Styler at 0xfd6fc28>"
      ]
     },
     "execution_count": 65,
     "metadata": {},
     "output_type": "execute_result"
    }
   ],
   "source": [
    "x = [0, 0.25, 0.5, 0.75, 1]\n",
    "f_x = [np.cos(j) + 2*np.exp(-j) for j in x]\n",
    "tabela = {'x': pd.Series(data = x), 'g\\'(x)': pd.Series(data = f_x)}\n",
    "tabela = pd.DataFrame(tabela)\n",
    "tabela.style.hide_index()"
   ]
  },
  {
   "cell_type": "markdown",
   "metadata": {},
   "source": [
    "Assim podemos ver que a primeira derivada da $g$ não muda de sinal no intervalo $[0,1]$.\n",
    "\n",
    "Fazendo a segunda derivada:"
   ]
  },
  {
   "cell_type": "code",
   "execution_count": 69,
   "metadata": {},
   "outputs": [
    {
     "data": {
      "text/html": [
       "<style  type=\"text/css\" >\n",
       "</style><table id=\"T_93d91439_584e_11eb_a75a_a463a108a0eb\" ><thead>    <tr>        <th class=\"col_heading level0 col0\" >x</th>        <th class=\"col_heading level0 col1\" >g''(x)</th>    </tr></thead><tbody>\n",
       "                <tr>\n",
       "                                <td id=\"T_93d91439_584e_11eb_a75a_a463a108a0ebrow0_col0\" class=\"data row0 col0\" >0.000000</td>\n",
       "                        <td id=\"T_93d91439_584e_11eb_a75a_a463a108a0ebrow0_col1\" class=\"data row0 col1\" >-2.000000</td>\n",
       "            </tr>\n",
       "            <tr>\n",
       "                                <td id=\"T_93d91439_584e_11eb_a75a_a463a108a0ebrow1_col0\" class=\"data row1 col0\" >0.250000</td>\n",
       "                        <td id=\"T_93d91439_584e_11eb_a75a_a463a108a0ebrow1_col1\" class=\"data row1 col1\" >-1.805006</td>\n",
       "            </tr>\n",
       "            <tr>\n",
       "                                <td id=\"T_93d91439_584e_11eb_a75a_a463a108a0ebrow2_col0\" class=\"data row2 col0\" >0.500000</td>\n",
       "                        <td id=\"T_93d91439_584e_11eb_a75a_a463a108a0ebrow2_col1\" class=\"data row2 col1\" >-1.692487</td>\n",
       "            </tr>\n",
       "            <tr>\n",
       "                                <td id=\"T_93d91439_584e_11eb_a75a_a463a108a0ebrow3_col0\" class=\"data row3 col0\" >0.750000</td>\n",
       "                        <td id=\"T_93d91439_584e_11eb_a75a_a463a108a0ebrow3_col1\" class=\"data row3 col1\" >-1.626372</td>\n",
       "            </tr>\n",
       "            <tr>\n",
       "                                <td id=\"T_93d91439_584e_11eb_a75a_a463a108a0ebrow4_col0\" class=\"data row4 col0\" >1.000000</td>\n",
       "                        <td id=\"T_93d91439_584e_11eb_a75a_a463a108a0ebrow4_col1\" class=\"data row4 col1\" >-1.577230</td>\n",
       "            </tr>\n",
       "    </tbody></table>"
      ],
      "text/plain": [
       "<pandas.io.formats.style.Styler at 0xfd6f760>"
      ]
     },
     "execution_count": 69,
     "metadata": {},
     "output_type": "execute_result"
    }
   ],
   "source": [
    "x = [0, 0.25, 0.5, 0.75, 1]\n",
    "f_x = [-np.sin(j) - 2*np.exp(-j) for j in x]\n",
    "tabela = {'x': pd.Series(data = x), 'g\\'\\'(x)': pd.Series(data = f_x)}\n",
    "tabela = pd.DataFrame(tabela)\n",
    "tabela.style.hide_index()"
   ]
  },
  {
   "cell_type": "markdown",
   "metadata": {},
   "source": [
    "    \n",
    "$f''(x) = - [sen(x) + 2 e^{-x}]$ < 0, para $x \\in [0,1]$."
   ]
  },
  {
   "cell_type": "markdown",
   "metadata": {},
   "source": [
    "Agora basta aplicar o método com o novo critério."
   ]
  },
  {
   "cell_type": "code",
   "execution_count": 70,
   "metadata": {},
   "outputs": [
    {
     "name": "stdout",
     "output_type": "stream",
     "text": [
      "O valor de x que aproxima ao zero da função é 0.9210245\n"
     ]
    },
    {
     "data": {
      "text/html": [
       "<style  type=\"text/css\" >\n",
       "</style><table id=\"T_a940f2d9_584e_11eb_9cfd_a463a108a0eb\" ><thead>    <tr>        <th class=\"col_heading level0 col0\" >n</th>        <th class=\"col_heading level0 col1\" >x_n</th>        <th class=\"col_heading level0 col2\" >f(x_n)</th>        <th class=\"col_heading level0 col3\" >f'x_n</th>        <th class=\"col_heading level0 col4\" >|f(x_n)|</th>    </tr></thead><tbody>\n",
       "                <tr>\n",
       "                                <td id=\"T_a940f2d9_584e_11eb_9cfd_a463a108a0ebrow0_col0\" class=\"data row0 col0\" >1.000000</td>\n",
       "                        <td id=\"T_a940f2d9_584e_11eb_9cfd_a463a108a0ebrow0_col1\" class=\"data row0 col1\" >0.000000</td>\n",
       "                        <td id=\"T_a940f2d9_584e_11eb_9cfd_a463a108a0ebrow0_col2\" class=\"data row0 col2\" >-2.000000</td>\n",
       "                        <td id=\"T_a940f2d9_584e_11eb_9cfd_a463a108a0ebrow0_col3\" class=\"data row0 col3\" >2.999900</td>\n",
       "                        <td id=\"T_a940f2d9_584e_11eb_9cfd_a463a108a0ebrow0_col4\" class=\"data row0 col4\" >0.408424</td>\n",
       "            </tr>\n",
       "            <tr>\n",
       "                                <td id=\"T_a940f2d9_584e_11eb_9cfd_a463a108a0ebrow1_col0\" class=\"data row1 col0\" >2.000000</td>\n",
       "                        <td id=\"T_a940f2d9_584e_11eb_9cfd_a463a108a0ebrow1_col1\" class=\"data row1 col1\" >0.666689</td>\n",
       "                        <td id=\"T_a940f2d9_584e_11eb_9cfd_a463a108a0ebrow1_col2\" class=\"data row1 col2\" >-0.408424</td>\n",
       "                        <td id=\"T_a940f2d9_584e_11eb_9cfd_a463a108a0ebrow1_col3\" class=\"data row1 col3\" >1.812603</td>\n",
       "                        <td id=\"T_a940f2d9_584e_11eb_9cfd_a463a108a0ebrow1_col4\" class=\"data row1 col4\" >0.041322</td>\n",
       "            </tr>\n",
       "            <tr>\n",
       "                                <td id=\"T_a940f2d9_584e_11eb_9cfd_a463a108a0ebrow2_col0\" class=\"data row2 col0\" >3.000000</td>\n",
       "                        <td id=\"T_a940f2d9_584e_11eb_9cfd_a463a108a0ebrow2_col1\" class=\"data row2 col1\" >0.892014</td>\n",
       "                        <td id=\"T_a940f2d9_584e_11eb_9cfd_a463a108a0ebrow2_col2\" class=\"data row2 col2\" >-0.041322</td>\n",
       "                        <td id=\"T_a940f2d9_584e_11eb_9cfd_a463a108a0ebrow2_col3\" class=\"data row2 col3\" >1.447426</td>\n",
       "                        <td id=\"T_a940f2d9_584e_11eb_9cfd_a463a108a0ebrow2_col4\" class=\"data row2 col4\" >0.000648</td>\n",
       "            </tr>\n",
       "            <tr>\n",
       "                                <td id=\"T_a940f2d9_584e_11eb_9cfd_a463a108a0ebrow3_col0\" class=\"data row3 col0\" >4.000000</td>\n",
       "                        <td id=\"T_a940f2d9_584e_11eb_9cfd_a463a108a0ebrow3_col1\" class=\"data row3 col1\" >0.920562</td>\n",
       "                        <td id=\"T_a940f2d9_584e_11eb_9cfd_a463a108a0ebrow3_col2\" class=\"data row3 col2\" >-0.000648</td>\n",
       "                        <td id=\"T_a940f2d9_584e_11eb_9cfd_a463a108a0ebrow3_col3\" class=\"data row3 col3\" >1.401883</td>\n",
       "                        <td id=\"T_a940f2d9_584e_11eb_9cfd_a463a108a0ebrow3_col4\" class=\"data row3 col4\" >0.000000</td>\n",
       "            </tr>\n",
       "    </tbody></table>"
      ],
      "text/plain": [
       "<pandas.io.formats.style.Styler at 0xfd6f448>"
      ]
     },
     "execution_count": 70,
     "metadata": {},
     "output_type": "execute_result"
    }
   ],
   "source": [
    "f = lambda x: np.sin(x) - 2*np.exp(-x)\n",
    "chute_inicial = 0\n",
    "precisao = 1/(10**4)\n",
    "max_iteracoes = 10\n",
    "\n",
    "tabela = newton_dist(f, chute_inicial, precisao, max_iteracoes)\n",
    "tabela.style.hide_index()"
   ]
  },
  {
   "cell_type": "markdown",
   "metadata": {},
   "source": [
    "Aqui ocorreu um comportamento estranho, pois ter chutado $1$ como valor inicial teria sido muito melhor. Não sei se entendi bem o critério."
   ]
  },
  {
   "cell_type": "code",
   "execution_count": 71,
   "metadata": {},
   "outputs": [
    {
     "name": "stdout",
     "output_type": "stream",
     "text": [
      "O valor de x que aproxima ao zero da função é 0.9210163\n"
     ]
    },
    {
     "data": {
      "text/html": [
       "<style  type=\"text/css\" >\n",
       "</style><table id=\"T_d2e50133_584e_11eb_b4d7_a463a108a0eb\" ><thead>    <tr>        <th class=\"col_heading level0 col0\" >n</th>        <th class=\"col_heading level0 col1\" >x_n</th>        <th class=\"col_heading level0 col2\" >f(x_n)</th>        <th class=\"col_heading level0 col3\" >f'x_n</th>        <th class=\"col_heading level0 col4\" >|f(x_n)|</th>    </tr></thead><tbody>\n",
       "                <tr>\n",
       "                                <td id=\"T_d2e50133_584e_11eb_b4d7_a463a108a0ebrow0_col0\" class=\"data row0 col0\" >1.000000</td>\n",
       "                        <td id=\"T_d2e50133_584e_11eb_b4d7_a463a108a0ebrow0_col1\" class=\"data row0 col1\" >1.000000</td>\n",
       "                        <td id=\"T_d2e50133_584e_11eb_b4d7_a463a108a0ebrow0_col2\" class=\"data row0 col2\" >0.105712</td>\n",
       "                        <td id=\"T_d2e50133_584e_11eb_b4d7_a463a108a0ebrow0_col3\" class=\"data row0 col3\" >1.275982</td>\n",
       "                        <td id=\"T_d2e50133_584e_11eb_b4d7_a463a108a0ebrow0_col4\" class=\"data row0 col4\" >0.005438</td>\n",
       "            </tr>\n",
       "            <tr>\n",
       "                                <td id=\"T_d2e50133_584e_11eb_b4d7_a463a108a0ebrow1_col0\" class=\"data row1 col0\" >2.000000</td>\n",
       "                        <td id=\"T_d2e50133_584e_11eb_b4d7_a463a108a0ebrow1_col1\" class=\"data row1 col1\" >0.917152</td>\n",
       "                        <td id=\"T_d2e50133_584e_11eb_b4d7_a463a108a0ebrow1_col2\" class=\"data row1 col2\" >-0.005438</td>\n",
       "                        <td id=\"T_d2e50133_584e_11eb_b4d7_a463a108a0ebrow1_col3\" class=\"data row1 col3\" >1.407315</td>\n",
       "                        <td id=\"T_d2e50133_584e_11eb_b4d7_a463a108a0ebrow1_col4\" class=\"data row1 col4\" >0.000012</td>\n",
       "            </tr>\n",
       "    </tbody></table>"
      ],
      "text/plain": [
       "<pandas.io.formats.style.Styler at 0xfd6f658>"
      ]
     },
     "execution_count": 71,
     "metadata": {},
     "output_type": "execute_result"
    }
   ],
   "source": [
    "f = lambda x: np.sin(x) - 2*np.exp(-x)\n",
    "chute_inicial = 1\n",
    "precisao = 1/(10**4)\n",
    "max_iteracoes = 10\n",
    "\n",
    "tabela = newton_dist(f, chute_inicial, precisao, max_iteracoes)\n",
    "tabela.style.hide_index()"
   ]
  },
  {
   "cell_type": "markdown",
   "metadata": {},
   "source": [
    "### Resultado\n",
    "\n",
    "De qualquer forma, 0.9210163 é o valor de x que aproxima ao zero da função."
   ]
  },
  {
   "cell_type": "markdown",
   "metadata": {},
   "source": [
    "# Exercício 4\n",
    "\n",
    "\n"
   ]
  },
  {
   "cell_type": "markdown",
   "metadata": {},
   "source": [
    "### Ache os pontos de máximo e mínimo globais da função $f(x) = x^4 + 2x^2 + 12x-3$ no intervalo $[-2, 1]$."
   ]
  },
  {
   "cell_type": "markdown",
   "metadata": {},
   "source": [
    "Começaremos observando os valores de $f$."
   ]
  },
  {
   "cell_type": "code",
   "execution_count": 62,
   "metadata": {},
   "outputs": [
    {
     "data": {
      "text/html": [
       "<style  type=\"text/css\" >\n",
       "</style><table id=\"T_d3e8edd8_5923_11eb_a8b2_a463a108a0eb\" ><thead>    <tr>        <th class=\"col_heading level0 col0\" >x</th>        <th class=\"col_heading level0 col1\" >f(x)</th>    </tr></thead><tbody>\n",
       "                <tr>\n",
       "                                <td id=\"T_d3e8edd8_5923_11eb_a8b2_a463a108a0ebrow0_col0\" class=\"data row0 col0\" >-2</td>\n",
       "                        <td id=\"T_d3e8edd8_5923_11eb_a8b2_a463a108a0ebrow0_col1\" class=\"data row0 col1\" >-4</td>\n",
       "            </tr>\n",
       "            <tr>\n",
       "                                <td id=\"T_d3e8edd8_5923_11eb_a8b2_a463a108a0ebrow1_col0\" class=\"data row1 col0\" >-1</td>\n",
       "                        <td id=\"T_d3e8edd8_5923_11eb_a8b2_a463a108a0ebrow1_col1\" class=\"data row1 col1\" >-13</td>\n",
       "            </tr>\n",
       "            <tr>\n",
       "                                <td id=\"T_d3e8edd8_5923_11eb_a8b2_a463a108a0ebrow2_col0\" class=\"data row2 col0\" >0</td>\n",
       "                        <td id=\"T_d3e8edd8_5923_11eb_a8b2_a463a108a0ebrow2_col1\" class=\"data row2 col1\" >-4</td>\n",
       "            </tr>\n",
       "            <tr>\n",
       "                                <td id=\"T_d3e8edd8_5923_11eb_a8b2_a463a108a0ebrow3_col0\" class=\"data row3 col0\" >1</td>\n",
       "                        <td id=\"T_d3e8edd8_5923_11eb_a8b2_a463a108a0ebrow3_col1\" class=\"data row3 col1\" >11</td>\n",
       "            </tr>\n",
       "    </tbody></table>"
      ],
      "text/plain": [
       "<pandas.io.formats.style.Styler at 0x11e2cdf0>"
      ]
     },
     "execution_count": 62,
     "metadata": {},
     "output_type": "execute_result"
    }
   ],
   "source": [
    "import pandas as pd\n",
    "\n",
    "x = [-2, -1, 0, 1]\n",
    "f_x = [j**4 + 2*j**2 + 12*j -4 for j in x]\n",
    "tabela = {'x': pd.Series(data = x), 'f(x)': pd.Series(data = f_x)}\n",
    "tabela = pd.DataFrame(tabela)\n",
    "tabela.style.hide_index()"
   ]
  },
  {
   "cell_type": "markdown",
   "metadata": {},
   "source": [
    "Vamos definir $f'(x) = g(x)$, para fins de praticidade. Os pontos críticos da $f$ são necessariamente mínimos, máximos ou de inflexão, ou seja, os pontos onde $g(x) = 0$. Olharemos a tabela para identificar onde estão os pontos extremos."
   ]
  },
  {
   "cell_type": "code",
   "execution_count": 59,
   "metadata": {},
   "outputs": [
    {
     "data": {
      "text/html": [
       "<style  type=\"text/css\" >\n",
       "</style><table id=\"T_05450777_5923_11eb_967a_a463a108a0eb\" ><thead>    <tr>        <th class=\"col_heading level0 col0\" >x</th>        <th class=\"col_heading level0 col1\" >g(x)</th>    </tr></thead><tbody>\n",
       "                <tr>\n",
       "                                <td id=\"T_05450777_5923_11eb_967a_a463a108a0ebrow0_col0\" class=\"data row0 col0\" >-2</td>\n",
       "                        <td id=\"T_05450777_5923_11eb_967a_a463a108a0ebrow0_col1\" class=\"data row0 col1\" >-28</td>\n",
       "            </tr>\n",
       "            <tr>\n",
       "                                <td id=\"T_05450777_5923_11eb_967a_a463a108a0ebrow1_col0\" class=\"data row1 col0\" >-1</td>\n",
       "                        <td id=\"T_05450777_5923_11eb_967a_a463a108a0ebrow1_col1\" class=\"data row1 col1\" >4</td>\n",
       "            </tr>\n",
       "            <tr>\n",
       "                                <td id=\"T_05450777_5923_11eb_967a_a463a108a0ebrow2_col0\" class=\"data row2 col0\" >0</td>\n",
       "                        <td id=\"T_05450777_5923_11eb_967a_a463a108a0ebrow2_col1\" class=\"data row2 col1\" >12</td>\n",
       "            </tr>\n",
       "            <tr>\n",
       "                                <td id=\"T_05450777_5923_11eb_967a_a463a108a0ebrow3_col0\" class=\"data row3 col0\" >1</td>\n",
       "                        <td id=\"T_05450777_5923_11eb_967a_a463a108a0ebrow3_col1\" class=\"data row3 col1\" >20</td>\n",
       "            </tr>\n",
       "    </tbody></table>"
      ],
      "text/plain": [
       "<pandas.io.formats.style.Styler at 0x11e2c9e8>"
      ]
     },
     "execution_count": 59,
     "metadata": {},
     "output_type": "execute_result"
    }
   ],
   "source": [
    "import pandas as pd\n",
    "\n",
    "x = [-2,-1, 0, 1]\n",
    "f_x = [4*j**3 + 4*j + 12 for j in x]\n",
    "tabela = {'x': pd.Series(data = x), 'g(x)': pd.Series(data = f_x)}\n",
    "tabela = pd.DataFrame(tabela)\n",
    "tabela.style.hide_index()"
   ]
  },
  {
   "cell_type": "markdown",
   "metadata": {},
   "source": [
    "- No intervalo $[-2, 1]$, aparentemente há apenas um ponto crítico. Podemos ver também que esse ponto **parece** ser ponto de mínimo, pois a $g$ é negativa à esquerda do ponto e positiva à direita do ponto. \n",
    "\n",
    "- $x=1$ é ponto de máximo local e $x=-2$ é ponto de mínimo local. Temos certeza que $x=1$ é máximo global, pois não existe valor maior que $f(1)$ no intervalo. Falta apenas encontrar o mínimo global, que pode ser dado tanto por $x=-2$ quando pelo ponto crítico que não sabemos ainda qual é. \n",
    "\n",
    "- Encontraremos o ponto que é zero da função $g$ usando o método de Newton, tomando $10^{-4}$ de precisão."
   ]
  },
  {
   "cell_type": "markdown",
   "metadata": {},
   "source": [
    "#### Escolha do $x_0$, ou chute inicial"
   ]
  },
  {
   "cell_type": "markdown",
   "metadata": {},
   "source": [
    "$g(-2) = -28 < 0$, $g(1) = 20 > 0$\n",
    "\n",
    "\n",
    "#### A primeira derivada muda de sinal no intervalo?"
   ]
  },
  {
   "cell_type": "code",
   "execution_count": 57,
   "metadata": {},
   "outputs": [
    {
     "data": {
      "text/html": [
       "<style  type=\"text/css\" >\n",
       "</style><table id=\"T_c1ea4da2_5922_11eb_aaaa_a463a108a0eb\" ><thead>    <tr>        <th class=\"col_heading level0 col0\" >x</th>        <th class=\"col_heading level0 col1\" >g'(x)</th>    </tr></thead><tbody>\n",
       "                <tr>\n",
       "                                <td id=\"T_c1ea4da2_5922_11eb_aaaa_a463a108a0ebrow0_col0\" class=\"data row0 col0\" >-2</td>\n",
       "                        <td id=\"T_c1ea4da2_5922_11eb_aaaa_a463a108a0ebrow0_col1\" class=\"data row0 col1\" >52</td>\n",
       "            </tr>\n",
       "            <tr>\n",
       "                                <td id=\"T_c1ea4da2_5922_11eb_aaaa_a463a108a0ebrow1_col0\" class=\"data row1 col0\" >-1</td>\n",
       "                        <td id=\"T_c1ea4da2_5922_11eb_aaaa_a463a108a0ebrow1_col1\" class=\"data row1 col1\" >16</td>\n",
       "            </tr>\n",
       "            <tr>\n",
       "                                <td id=\"T_c1ea4da2_5922_11eb_aaaa_a463a108a0ebrow2_col0\" class=\"data row2 col0\" >0</td>\n",
       "                        <td id=\"T_c1ea4da2_5922_11eb_aaaa_a463a108a0ebrow2_col1\" class=\"data row2 col1\" >4</td>\n",
       "            </tr>\n",
       "            <tr>\n",
       "                                <td id=\"T_c1ea4da2_5922_11eb_aaaa_a463a108a0ebrow3_col0\" class=\"data row3 col0\" >1</td>\n",
       "                        <td id=\"T_c1ea4da2_5922_11eb_aaaa_a463a108a0ebrow3_col1\" class=\"data row3 col1\" >16</td>\n",
       "            </tr>\n",
       "    </tbody></table>"
      ],
      "text/plain": [
       "<pandas.io.formats.style.Styler at 0x11e45bb0>"
      ]
     },
     "execution_count": 57,
     "metadata": {},
     "output_type": "execute_result"
    }
   ],
   "source": [
    "import pandas as pd\n",
    "\n",
    "x = [-2,-1, 0, 1]\n",
    "f_x = [12*j**2 + 4 for j in x]\n",
    "tabela = {'x': pd.Series(data = x), 'g\\'(x)': pd.Series(data = f_x)}\n",
    "tabela = pd.DataFrame(tabela)\n",
    "tabela.style.hide_index()"
   ]
  },
  {
   "cell_type": "markdown",
   "metadata": {},
   "source": [
    "Como a primeira derivada não muda de sinal, podemos usar esse intervalo."
   ]
  },
  {
   "cell_type": "markdown",
   "metadata": {},
   "source": [
    "#### Qual é o sinal da segunda derivada?"
   ]
  },
  {
   "cell_type": "code",
   "execution_count": 56,
   "metadata": {},
   "outputs": [
    {
     "data": {
      "text/html": [
       "<style  type=\"text/css\" >\n",
       "</style><table id=\"T_bf0ed1c9_5922_11eb_b8f2_a463a108a0eb\" ><thead>    <tr>        <th class=\"col_heading level0 col0\" >x</th>        <th class=\"col_heading level0 col1\" >g''(x)</th>    </tr></thead><tbody>\n",
       "                <tr>\n",
       "                                <td id=\"T_bf0ed1c9_5922_11eb_b8f2_a463a108a0ebrow0_col0\" class=\"data row0 col0\" >-2</td>\n",
       "                        <td id=\"T_bf0ed1c9_5922_11eb_b8f2_a463a108a0ebrow0_col1\" class=\"data row0 col1\" >-48</td>\n",
       "            </tr>\n",
       "            <tr>\n",
       "                                <td id=\"T_bf0ed1c9_5922_11eb_b8f2_a463a108a0ebrow1_col0\" class=\"data row1 col0\" >-1</td>\n",
       "                        <td id=\"T_bf0ed1c9_5922_11eb_b8f2_a463a108a0ebrow1_col1\" class=\"data row1 col1\" >-24</td>\n",
       "            </tr>\n",
       "            <tr>\n",
       "                                <td id=\"T_bf0ed1c9_5922_11eb_b8f2_a463a108a0ebrow2_col0\" class=\"data row2 col0\" >0</td>\n",
       "                        <td id=\"T_bf0ed1c9_5922_11eb_b8f2_a463a108a0ebrow2_col1\" class=\"data row2 col1\" >0</td>\n",
       "            </tr>\n",
       "            <tr>\n",
       "                                <td id=\"T_bf0ed1c9_5922_11eb_b8f2_a463a108a0ebrow3_col0\" class=\"data row3 col0\" >1</td>\n",
       "                        <td id=\"T_bf0ed1c9_5922_11eb_b8f2_a463a108a0ebrow3_col1\" class=\"data row3 col1\" >24</td>\n",
       "            </tr>\n",
       "    </tbody></table>"
      ],
      "text/plain": [
       "<pandas.io.formats.style.Styler at 0x11e45400>"
      ]
     },
     "execution_count": 56,
     "metadata": {},
     "output_type": "execute_result"
    }
   ],
   "source": [
    "import pandas as pd\n",
    "\n",
    "x = [-2,-1, 0, 1]\n",
    "f_x = [24*j for j in x]\n",
    "tabela = {'x': pd.Series(data = x), 'g\\'\\'(x)': pd.Series(data = f_x)}\n",
    "tabela = pd.DataFrame(tabela)\n",
    "tabela.style.hide_index()"
   ]
  },
  {
   "cell_type": "markdown",
   "metadata": {},
   "source": [
    "Nesse caso a segunda derivada muda de sinal no intervalo. Vamos subdividir $[-2,1]$ em dois subintervalos, um com $g''(x) > 0$  outro com $g''(x) < 0$. Irei escolher $[-2, 0]$ e $[0,1]$."
   ]
  },
  {
   "cell_type": "markdown",
   "metadata": {},
   "source": [
    "Olhando a tabela da g: $g(-2) < 0$ e $g(0) > 0$. Logo, iremos escolher o intervalo $[-2, 0]$. Vimos que $g'(x)$ não muda de sinal nesse intervalo, nem $g''(x)$. Já que $x=-2$ tem o mesmo sinal da segunda derivada, esse será o chute inicial."
   ]
  },
  {
   "cell_type": "code",
   "execution_count": 60,
   "metadata": {},
   "outputs": [
    {
     "name": "stdout",
     "output_type": "stream",
     "text": [
      "O valor de x que aproxima ao zero da função é -1.2134117\n"
     ]
    },
    {
     "data": {
      "text/html": [
       "<style  type=\"text/css\" >\n",
       "</style><table id=\"T_52b7aecf_5923_11eb_a436_a463a108a0eb\" ><thead>    <tr>        <th class=\"col_heading level0 col0\" >n</th>        <th class=\"col_heading level0 col1\" >x_n</th>        <th class=\"col_heading level0 col2\" >f(x_n)</th>        <th class=\"col_heading level0 col3\" >f'x_n</th>        <th class=\"col_heading level0 col4\" >|x_n - x_n-1|</th>    </tr></thead><tbody>\n",
       "                <tr>\n",
       "                                <td id=\"T_52b7aecf_5923_11eb_a436_a463a108a0ebrow0_col0\" class=\"data row0 col0\" >1.000000</td>\n",
       "                        <td id=\"T_52b7aecf_5923_11eb_a436_a463a108a0ebrow0_col1\" class=\"data row0 col1\" >-2.000000</td>\n",
       "                        <td id=\"T_52b7aecf_5923_11eb_a436_a463a108a0ebrow0_col2\" class=\"data row0 col2\" >-28.000000</td>\n",
       "                        <td id=\"T_52b7aecf_5923_11eb_a436_a463a108a0ebrow0_col3\" class=\"data row0 col3\" >51.997600</td>\n",
       "                        <td id=\"T_52b7aecf_5923_11eb_a436_a463a108a0ebrow0_col4\" class=\"data row0 col4\" >0.538486</td>\n",
       "            </tr>\n",
       "            <tr>\n",
       "                                <td id=\"T_52b7aecf_5923_11eb_a436_a463a108a0ebrow1_col0\" class=\"data row1 col0\" >2.000000</td>\n",
       "                        <td id=\"T_52b7aecf_5923_11eb_a436_a463a108a0ebrow1_col1\" class=\"data row1 col1\" >-1.461514</td>\n",
       "                        <td id=\"T_52b7aecf_5923_11eb_a436_a463a108a0ebrow1_col2\" class=\"data row1 col2\" >-6.333355</td>\n",
       "                        <td id=\"T_52b7aecf_5923_11eb_a436_a463a108a0ebrow1_col3\" class=\"data row1 col3\" >29.630511</td>\n",
       "                        <td id=\"T_52b7aecf_5923_11eb_a436_a463a108a0ebrow1_col4\" class=\"data row1 col4\" >0.213744</td>\n",
       "            </tr>\n",
       "            <tr>\n",
       "                                <td id=\"T_52b7aecf_5923_11eb_a436_a463a108a0ebrow2_col0\" class=\"data row2 col0\" >3.000000</td>\n",
       "                        <td id=\"T_52b7aecf_5923_11eb_a436_a463a108a0ebrow2_col1\" class=\"data row2 col1\" >-1.247769</td>\n",
       "                        <td id=\"T_52b7aecf_5923_11eb_a436_a463a108a0ebrow2_col2\" class=\"data row2 col2\" >-0.761824</td>\n",
       "                        <td id=\"T_52b7aecf_5923_11eb_a436_a463a108a0ebrow2_col3\" class=\"data row2 col3\" >22.681639</td>\n",
       "                        <td id=\"T_52b7aecf_5923_11eb_a436_a463a108a0ebrow2_col4\" class=\"data row2 col4\" >0.033588</td>\n",
       "            </tr>\n",
       "            <tr>\n",
       "                                <td id=\"T_52b7aecf_5923_11eb_a436_a463a108a0ebrow3_col0\" class=\"data row3 col0\" >4.000000</td>\n",
       "                        <td id=\"T_52b7aecf_5923_11eb_a436_a463a108a0ebrow3_col1\" class=\"data row3 col1\" >-1.214182</td>\n",
       "                        <td id=\"T_52b7aecf_5923_11eb_a436_a463a108a0ebrow3_col2\" class=\"data row3 col2\" >-0.016690</td>\n",
       "                        <td id=\"T_52b7aecf_5923_11eb_a436_a463a108a0ebrow3_col3\" class=\"data row3 col3\" >21.689384</td>\n",
       "                        <td id=\"T_52b7aecf_5923_11eb_a436_a463a108a0ebrow3_col4\" class=\"data row3 col4\" >0.000769</td>\n",
       "            </tr>\n",
       "            <tr>\n",
       "                                <td id=\"T_52b7aecf_5923_11eb_a436_a463a108a0ebrow4_col0\" class=\"data row4 col0\" >5.000000</td>\n",
       "                        <td id=\"T_52b7aecf_5923_11eb_a436_a463a108a0ebrow4_col1\" class=\"data row4 col1\" >-1.213412</td>\n",
       "                        <td id=\"T_52b7aecf_5923_11eb_a436_a463a108a0ebrow4_col2\" class=\"data row4 col2\" >-0.000008</td>\n",
       "                        <td id=\"T_52b7aecf_5923_11eb_a436_a463a108a0ebrow4_col3\" class=\"data row4 col3\" >21.666968</td>\n",
       "                        <td id=\"T_52b7aecf_5923_11eb_a436_a463a108a0ebrow4_col4\" class=\"data row4 col4\" >0.000000</td>\n",
       "            </tr>\n",
       "    </tbody></table>"
      ],
      "text/plain": [
       "<pandas.io.formats.style.Styler at 0x11e456a0>"
      ]
     },
     "execution_count": 60,
     "metadata": {},
     "output_type": "execute_result"
    }
   ],
   "source": [
    "f = lambda x: 4*x**3 + 4*x + 12\n",
    "chute_inicial = -2\n",
    "precisao = 1/(10**4)\n",
    "max_iteracoes = 10\n",
    "\n",
    "tabela = newton(f, chute_inicial, precisao, max_iteracoes)\n",
    "tabela.style.hide_index()"
   ]
  },
  {
   "cell_type": "markdown",
   "metadata": {},
   "source": [
    "#### Quem é mínimo global?\n",
    "\n",
    "Vimos que $f(-2) = -4$. Porém, $f(-1.2134117) = -13.448337$. Portanto, o ponto crítico que encontramos é mínimo global.\n",
    "\n",
    "\n",
    "#### Vamos observar graficamente"
   ]
  },
  {
   "cell_type": "code",
   "execution_count": 50,
   "metadata": {},
   "outputs": [
    {
     "data": {
      "text/plain": [
       "<function matplotlib.pyplot.show(close=None, block=None)>"
      ]
     },
     "execution_count": 50,
     "metadata": {},
     "output_type": "execute_result"
    },
    {
     "data": {
      "image/png": "[encoded data removed]",
      "text/plain": [
       "<Figure size 432x288 with 1 Axes>"
      ]
     },
     "metadata": {
      "needs_background": "light"
     },
     "output_type": "display_data"
    }
   ],
   "source": [
    "import matplotlib.pyplot as plt\n",
    "import numpy as np\n",
    "\n",
    "x = np.linspace(-2, 1, 100)\n",
    "y = x**4 + 2*x**2 + 12*x -4\n",
    "plt.plot(x, y)\n",
    "plt.show"
   ]
  },
  {
   "cell_type": "markdown",
   "metadata": {},
   "source": [
    "### Resultado\n",
    "\n",
    "- Máximo global: $x=1$\n",
    "- Mínimo global: $x= -1.2134117$"
   ]
  },
  {
   "cell_type": "markdown",
   "metadata": {},
   "source": [
    "# Exercício 5"
   ]
  },
  {
   "cell_type": "markdown",
   "metadata": {},
   "source": [
    "### A partir dos dados da tabela abaixo, encontre f(0,6), usando:\n",
    "\n",
    "\n",
    "Usaremos a função do numpy polyfit() para fazer a interpolação dos pontos. Olhando a tabela:"
   ]
  },
  {
   "cell_type": "code",
   "execution_count": 13,
   "metadata": {},
   "outputs": [
    {
     "data": {
      "text/html": [
       "<style  type=\"text/css\" >\n",
       "</style><table id=\"T_fb326234_60da_11eb_aa30_fcaa14fc556e\" ><thead>    <tr>        <th class=\"col_heading level0 col0\" >n</th>        <th class=\"col_heading level0 col1\" >x</th>        <th class=\"col_heading level0 col2\" >f(x)</th>    </tr></thead><tbody>\n",
       "                <tr>\n",
       "                                <td id=\"T_fb326234_60da_11eb_aa30_fcaa14fc556erow0_col0\" class=\"data row0 col0\" >0</td>\n",
       "                        <td id=\"T_fb326234_60da_11eb_aa30_fcaa14fc556erow0_col1\" class=\"data row0 col1\" >0.1</td>\n",
       "                        <td id=\"T_fb326234_60da_11eb_aa30_fcaa14fc556erow0_col2\" class=\"data row0 col2\" >0.101</td>\n",
       "            </tr>\n",
       "            <tr>\n",
       "                                <td id=\"T_fb326234_60da_11eb_aa30_fcaa14fc556erow1_col0\" class=\"data row1 col0\" >1</td>\n",
       "                        <td id=\"T_fb326234_60da_11eb_aa30_fcaa14fc556erow1_col1\" class=\"data row1 col1\" >0.3</td>\n",
       "                        <td id=\"T_fb326234_60da_11eb_aa30_fcaa14fc556erow1_col2\" class=\"data row1 col2\" >0.327</td>\n",
       "            </tr>\n",
       "            <tr>\n",
       "                                <td id=\"T_fb326234_60da_11eb_aa30_fcaa14fc556erow2_col0\" class=\"data row2 col0\" >2</td>\n",
       "                        <td id=\"T_fb326234_60da_11eb_aa30_fcaa14fc556erow2_col1\" class=\"data row2 col1\" >0.5</td>\n",
       "                        <td id=\"T_fb326234_60da_11eb_aa30_fcaa14fc556erow2_col2\" class=\"data row2 col2\" >0.625</td>\n",
       "            </tr>\n",
       "            <tr>\n",
       "                                <td id=\"T_fb326234_60da_11eb_aa30_fcaa14fc556erow3_col0\" class=\"data row3 col0\" >3</td>\n",
       "                        <td id=\"T_fb326234_60da_11eb_aa30_fcaa14fc556erow3_col1\" class=\"data row3 col1\" >0.7</td>\n",
       "                        <td id=\"T_fb326234_60da_11eb_aa30_fcaa14fc556erow3_col2\" class=\"data row3 col2\" >1.043</td>\n",
       "            </tr>\n",
       "    </tbody></table>"
      ],
      "text/plain": [
       "<pandas.io.formats.style.Styler at 0xf5317f0>"
      ]
     },
     "execution_count": 13,
     "metadata": {},
     "output_type": "execute_result"
    }
   ],
   "source": [
    "import pandas as pd\n",
    "n = [0, 1, 2, 3]\n",
    "x = [0.1, 0.3, 0.5, 0.7]\n",
    "f_x = [0.1010, 0.3270, 0.6250, 1.0430]\n",
    "\n",
    "tabela = {'n':pd.Series(data = n), 'x': pd.Series(data = x), 'f(x)': pd.Series(data = f_x)}\n",
    "tabela = pd.DataFrame(tabela)\n",
    "tabela.style.hide_index()"
   ]
  },
  {
   "cell_type": "markdown",
   "metadata": {},
   "source": [
    "#### (a) polinômio de grau 1"
   ]
  },
  {
   "cell_type": "code",
   "execution_count": 23,
   "metadata": {},
   "outputs": [
    {
     "name": "stdout",
     "output_type": "stream",
     "text": [
      "0.8364000000000004\n",
      "[ 1.562  -0.1008]\n"
     ]
    }
   ],
   "source": [
    "import numpy as np\n",
    "x = [0.1, 0.3, 0.5, 0.7]\n",
    "f_x = [0.1010, 0.3270, 0.6250, 1.0430]\n",
    "coef_poli_interpolador = np.polyfit(x, f_x, 1)\n",
    "curva_ajustada = np.poly1d(coef_poli_interpolador)\n",
    "print(curva_ajustada(0.6))\n",
    "print(coef_poli_interpolador)"
   ]
  },
  {
   "cell_type": "markdown",
   "metadata": {},
   "source": [
    "#### Resposta\n",
    "\n",
    "$f(0,6) \\approx 0.8364$\n",
    "\n",
    "polinômio interpolador: $y = 1.563 x - 0.1008$\n"
   ]
  },
  {
   "cell_type": "markdown",
   "metadata": {},
   "source": [
    "#### (b) polinômio de grau 2, com 3 pontos"
   ]
  },
  {
   "cell_type": "code",
   "execution_count": 16,
   "metadata": {},
   "outputs": [
    {
     "data": {
      "text/plain": [
       "0.8190000000000002"
      ]
     },
     "execution_count": 16,
     "metadata": {},
     "output_type": "execute_result"
    }
   ],
   "source": [
    "import numpy as np\n",
    "x = [0.3, 0.5, 0.7]\n",
    "f_x = [0.3270, 0.6250, 1.0430]\n",
    "coef_poli_interpolador = np.polyfit(x, f_x, 2)\n",
    "curva_ajustada = np.poly1d(coef_poli_interpolador)\n",
    "curva_ajustada(0.6)"
   ]
  },
  {
   "cell_type": "markdown",
   "metadata": {},
   "source": [
    "$f(0.6) \\approx 0.819$"
   ]
  },
  {
   "cell_type": "markdown",
   "metadata": {},
   "source": [
    "#### (c) polinômio de grau 3, todos os pontos"
   ]
  },
  {
   "cell_type": "code",
   "execution_count": 19,
   "metadata": {},
   "outputs": [
    {
     "data": {
      "text/plain": [
       "0.8160000000000002"
      ]
     },
     "execution_count": 19,
     "metadata": {},
     "output_type": "execute_result"
    }
   ],
   "source": [
    "import numpy as np\n",
    "x = [0.1, 0.3, 0.5, 0.7]\n",
    "f_x = [0.1010, 0.3270, 0.6250, 1.0430]\n",
    "coef_poli_interpolador = np.polyfit(x, f_x, 3)\n",
    "curva_ajustada = np.poly1d(coef_poli_interpolador)\n",
    "curva_ajustada(0.6)"
   ]
  },
  {
   "cell_type": "markdown",
   "metadata": {},
   "source": [
    "$f(0.6) \\approx 0.816$"
   ]
  },
  {
   "cell_type": "markdown",
   "metadata": {},
   "source": [
    "#### (d) estimando o erro\n",
    "\n"
   ]
  },
  {
   "cell_type": "markdown",
   "metadata": {},
   "source": [
    "Para obter o erro usamos a fórmula:\n",
    "\n",
    "$$|R_n(x)| \\leq \\frac{|x-x_0||x-x_1|...|x-x_n|}{(n+1)!} \\max_{t\\in[0,1;0,7]} |f^{n+1}(t)|$$\n",
    "\n",
    "- No caso da letra (a), temos um polinômio de grau 1. Logo:\n",
    "\n",
    "$$|R_1(x)|\\leq \\frac{|x-x_0||x-x_1|}{(2)!} \\max_{t\\in[0,1;0,7]} |f''(t)|$$\n",
    "\n",
    "\n",
    "$$|R_1(0.6)|\\leq \\frac{|0,6-0,1||0,6-0,3|}{(2)!} \\max_{t\\in[0,1;0,7]} |f''(t)|$$\n",
    "\n",
    "\n",
    "$$|R_1(0.6)|\\leq 0,075 \\max_{t\\in[0,1;0,7]} |f''(t)|$$"
   ]
  },
  {
   "cell_type": "markdown",
   "metadata": {},
   "source": [
    "# E agora?\n",
    "\n",
    "Porém, temos um problema, não conhecemos $f(t)$. Para contornar o problema usaremos a fórmula alternativa do erro, onde $Dd_{n+1}$ denota as diferenças divididas de ordem n+1.\n",
    "\n",
    "$$|R_n(x)| \\leq |x-x_0||x-x_1|...|x-x_n| max|Dd_{n+1}$$"
   ]
  },
  {
   "cell_type": "markdown",
   "metadata": {},
   "source": [
    "Tentei criar um algoritmo que obtenha as diferenças divididas, mas não deu certo. Soluções da Internet também não ajudaram. Como só tem essa questão, vou fazer a tabela manualmente."
   ]
  },
  {
   "cell_type": "markdown",
   "metadata": {},
   "source": [
    "\n"
   ]
  },
  {
   "cell_type": "markdown",
   "metadata": {},
   "source": [
    "# Exercício 6\n"
   ]
  },
  {
   "cell_type": "markdown",
   "metadata": {},
   "source": [
    "### Dada a tabela, determine f(1) sabendo que f é um polinômio de grau 3."
   ]
  },
  {
   "cell_type": "code",
   "execution_count": 151,
   "metadata": {},
   "outputs": [
    {
     "data": {
      "text/html": [
       "<style  type=\"text/css\" >\n",
       "</style><table id=\"T_a0e13a66_6456_11eb_9baf_fcaa14fc556e\" ><thead>    <tr>        <th class=\"col_heading level0 col0\" >x</th>        <th class=\"col_heading level0 col1\" >f(x)</th>    </tr></thead><tbody>\n",
       "                <tr>\n",
       "                                <td id=\"T_a0e13a66_6456_11eb_9baf_fcaa14fc556erow0_col0\" class=\"data row0 col0\" >-2</td>\n",
       "                        <td id=\"T_a0e13a66_6456_11eb_9baf_fcaa14fc556erow0_col1\" class=\"data row0 col1\" >-7</td>\n",
       "            </tr>\n",
       "            <tr>\n",
       "                                <td id=\"T_a0e13a66_6456_11eb_9baf_fcaa14fc556erow1_col0\" class=\"data row1 col0\" >-1</td>\n",
       "                        <td id=\"T_a0e13a66_6456_11eb_9baf_fcaa14fc556erow1_col1\" class=\"data row1 col1\" >0</td>\n",
       "            </tr>\n",
       "            <tr>\n",
       "                                <td id=\"T_a0e13a66_6456_11eb_9baf_fcaa14fc556erow2_col0\" class=\"data row2 col0\" >0</td>\n",
       "                        <td id=\"T_a0e13a66_6456_11eb_9baf_fcaa14fc556erow2_col1\" class=\"data row2 col1\" >1</td>\n",
       "            </tr>\n",
       "            <tr>\n",
       "                                <td id=\"T_a0e13a66_6456_11eb_9baf_fcaa14fc556erow3_col0\" class=\"data row3 col0\" >1</td>\n",
       "                        <td id=\"T_a0e13a66_6456_11eb_9baf_fcaa14fc556erow3_col1\" class=\"data row3 col1\" >k</td>\n",
       "            </tr>\n",
       "            <tr>\n",
       "                                <td id=\"T_a0e13a66_6456_11eb_9baf_fcaa14fc556erow4_col0\" class=\"data row4 col0\" >2</td>\n",
       "                        <td id=\"T_a0e13a66_6456_11eb_9baf_fcaa14fc556erow4_col1\" class=\"data row4 col1\" >9</td>\n",
       "            </tr>\n",
       "            <tr>\n",
       "                                <td id=\"T_a0e13a66_6456_11eb_9baf_fcaa14fc556erow5_col0\" class=\"data row5 col0\" >3</td>\n",
       "                        <td id=\"T_a0e13a66_6456_11eb_9baf_fcaa14fc556erow5_col1\" class=\"data row5 col1\" >28</td>\n",
       "            </tr>\n",
       "    </tbody></table>"
      ],
      "text/plain": [
       "<pandas.io.formats.style.Styler at 0x116ec0f0>"
      ]
     },
     "execution_count": 151,
     "metadata": {},
     "output_type": "execute_result"
    }
   ],
   "source": [
    "import pandas as pd\n",
    "\n",
    "x = [-2, -1, 0, 1, 2, 3]\n",
    "f_x = [-7, 0, 1, 'k', 9, 28]\n",
    "tabela = {'x': pd.Series(data = x), 'f(x)': pd.Series(data = f_x)}\n",
    "tabela = pd.DataFrame(tabela)\n",
    "tabela.style.hide_index()"
   ]
  },
  {
   "cell_type": "markdown",
   "metadata": {},
   "source": [
    "Vamos usar interpolar os pontos que conhecemos para encontrar f(1)."
   ]
  },
  {
   "cell_type": "code",
   "execution_count": 157,
   "metadata": {},
   "outputs": [
    {
     "name": "stdout",
     "output_type": "stream",
     "text": [
      "coeficientes:[ 1.00000000e+00 -9.98226367e-16 -2.09345661e-15  1.00000000e+00]\n"
     ]
    }
   ],
   "source": [
    "import numpy as np\n",
    "x = [-2, -1, 0, 2, 3]\n",
    "f_x = [-7, 0, 1, 9, 28]\n",
    "coef_poli_interpolador = np.polyfit(x, f_x, 3)\n",
    "print(\"coeficientes:{}\".format(coef_poli_interpolador))"
   ]
  },
  {
   "cell_type": "markdown",
   "metadata": {},
   "source": [
    "Assim temos $p(x) = x^4 - 9,98 e^{-16} - 2,093 e^{-15} + 1$\n",
    "\n",
    "Logo, $p(1) = 1,99999999999$\n",
    "\n",
    "### E por fim, $f(1) = 2$"
   ]
  },
  {
   "cell_type": "markdown",
   "metadata": {},
   "source": [
    "#  Exercício 7\n",
    "\n",
    "### A temperatura, T (em ºC), em um tanque com água é uma função da profundidade x (em metros). São dadas algumas informações na tabela abaixo. Em uma determinada profundidade, menor do que 2 metros, a segunda derivada de T(x) muda de sinal. Estime esta profundidade utilizando interpolação polinomial e todos os pontos da tabela. Considerar três casas decimais.\n"
   ]
  },
  {
   "cell_type": "code",
   "execution_count": 118,
   "metadata": {},
   "outputs": [
    {
     "data": {
      "text/html": [
       "<style  type=\"text/css\" >\n",
       "</style><table id=\"T_df4562d0_644f_11eb_af3f_fcaa14fc556e\" ><thead>    <tr>        <th class=\"col_heading level0 col0\" >x</th>        <th class=\"col_heading level0 col1\" >f(x)</th>    </tr></thead><tbody>\n",
       "                <tr>\n",
       "                                <td id=\"T_df4562d0_644f_11eb_af3f_fcaa14fc556erow0_col0\" class=\"data row0 col0\" >1</td>\n",
       "                        <td id=\"T_df4562d0_644f_11eb_af3f_fcaa14fc556erow0_col1\" class=\"data row0 col1\" >66</td>\n",
       "            </tr>\n",
       "            <tr>\n",
       "                                <td id=\"T_df4562d0_644f_11eb_af3f_fcaa14fc556erow1_col0\" class=\"data row1 col0\" >1.5</td>\n",
       "                        <td id=\"T_df4562d0_644f_11eb_af3f_fcaa14fc556erow1_col1\" class=\"data row1 col1\" >52</td>\n",
       "            </tr>\n",
       "            <tr>\n",
       "                                <td id=\"T_df4562d0_644f_11eb_af3f_fcaa14fc556erow2_col0\" class=\"data row2 col0\" >2</td>\n",
       "                        <td id=\"T_df4562d0_644f_11eb_af3f_fcaa14fc556erow2_col1\" class=\"data row2 col1\" >18</td>\n",
       "            </tr>\n",
       "            <tr>\n",
       "                                <td id=\"T_df4562d0_644f_11eb_af3f_fcaa14fc556erow3_col0\" class=\"data row3 col0\" >2.5</td>\n",
       "                        <td id=\"T_df4562d0_644f_11eb_af3f_fcaa14fc556erow3_col1\" class=\"data row3 col1\" >11</td>\n",
       "            </tr>\n",
       "            <tr>\n",
       "                                <td id=\"T_df4562d0_644f_11eb_af3f_fcaa14fc556erow4_col0\" class=\"data row4 col0\" >3</td>\n",
       "                        <td id=\"T_df4562d0_644f_11eb_af3f_fcaa14fc556erow4_col1\" class=\"data row4 col1\" >10</td>\n",
       "            </tr>\n",
       "    </tbody></table>"
      ],
      "text/plain": [
       "<pandas.io.formats.style.Styler at 0x6f8ca58>"
      ]
     },
     "execution_count": 118,
     "metadata": {},
     "output_type": "execute_result"
    }
   ],
   "source": [
    "import pandas as pd\n",
    "\n",
    "x = [1, 1.5, 2, 2.5, 3]\n",
    "f_x = [66, 52, 18, 11, 10]\n",
    "tabela = {'x': pd.Series(data = x), 'f(x)': pd.Series(data = f_x)}\n",
    "tabela = pd.DataFrame(tabela)\n",
    "tabela.style.hide_index()"
   ]
  },
  {
   "cell_type": "code",
   "execution_count": 127,
   "metadata": {},
   "outputs": [
    {
     "name": "stdout",
     "output_type": "stream",
     "text": [
      "coeficientes:[  -45.33333333   380.         -1126.66666667  1352.\n",
      "  -494.        ]\n"
     ]
    }
   ],
   "source": [
    "import numpy as np\n",
    "x = [1, 1.5, 2, 2.5, 3]\n",
    "f_x = [66, 52, 18, 11, 10]\n",
    "coef_poli_interpolador = np.polyfit(x, f_x, 4)\n",
    "print(\"coeficientes:{}\".format(coef_poli_interpolador))"
   ]
  },
  {
   "cell_type": "markdown",
   "metadata": {},
   "source": [
    "### $p(x) = -45,333 x^4 + 380x^3 - 1126,667 x^2 + 1352x -494$\n",
    "\n",
    "\n",
    "Vamos estudar o sinal da segunda derivada do polinômio encontrado, tomando o intervalo $[0, 2]$.\n",
    "\n",
    "$p''(x) = - 543,996x^2 + 2280 - 2253.334$\n"
   ]
  },
  {
   "cell_type": "code",
   "execution_count": 137,
   "metadata": {},
   "outputs": [
    {
     "data": {
      "text/html": [
       "<style  type=\"text/css\" >\n",
       "</style><table id=\"T_0fba7354_6455_11eb_8bc8_fcaa14fc556e\" ><thead>    <tr>        <th class=\"col_heading level0 col0\" >x</th>        <th class=\"col_heading level0 col1\" >p''(x)</th>    </tr></thead><tbody>\n",
       "                <tr>\n",
       "                                <td id=\"T_0fba7354_6455_11eb_8bc8_fcaa14fc556erow0_col0\" class=\"data row0 col0\" >0</td>\n",
       "                        <td id=\"T_0fba7354_6455_11eb_8bc8_fcaa14fc556erow0_col1\" class=\"data row0 col1\" >-2253.33</td>\n",
       "            </tr>\n",
       "            <tr>\n",
       "                                <td id=\"T_0fba7354_6455_11eb_8bc8_fcaa14fc556erow1_col0\" class=\"data row1 col0\" >1</td>\n",
       "                        <td id=\"T_0fba7354_6455_11eb_8bc8_fcaa14fc556erow1_col1\" class=\"data row1 col1\" >-5077.33</td>\n",
       "            </tr>\n",
       "            <tr>\n",
       "                                <td id=\"T_0fba7354_6455_11eb_8bc8_fcaa14fc556erow2_col0\" class=\"data row2 col0\" >2</td>\n",
       "                        <td id=\"T_0fba7354_6455_11eb_8bc8_fcaa14fc556erow2_col1\" class=\"data row2 col1\" >-8989.32</td>\n",
       "            </tr>\n",
       "    </tbody></table>"
      ],
      "text/plain": [
       "<pandas.io.formats.style.Styler at 0xf666ac8>"
      ]
     },
     "execution_count": 137,
     "metadata": {},
     "output_type": "execute_result"
    }
   ],
   "source": [
    "x = [0, 1, 2]\n",
    "f_x = [- 543.996*(j**2) - 2280*j - 2253.334 for j in x]\n",
    "tabela = {'x': pd.Series(data = x), 'p\\'\\'(x)': pd.Series(data = f_x)}\n",
    "tabela = pd.DataFrame(tabela)\n",
    "tabela.style.hide_index()"
   ]
  },
  {
   "cell_type": "markdown",
   "metadata": {},
   "source": [
    "Chegamos a um problema de encontrar o zero da função, e para resolvê-lo iremos usar o método de newton, que é mais rápido. Dessa vez vou escolher o chute inicial arbitrariamente, apenas por praticidade."
   ]
  },
  {
   "cell_type": "code",
   "execution_count": 146,
   "metadata": {},
   "outputs": [
    {
     "name": "stdout",
     "output_type": "stream",
     "text": [
      "O valor de x que aproxima ao zero da função é 1.5962380\n"
     ]
    },
    {
     "data": {
      "text/html": [
       "<style  type=\"text/css\" >\n",
       "</style><table id=\"T_6607d8c6_6455_11eb_bab8_fcaa14fc556e\" ><thead>    <tr>        <th class=\"col_heading level0 col0\" >n</th>        <th class=\"col_heading level0 col1\" >x_n</th>        <th class=\"col_heading level0 col2\" >f(x_n)</th>        <th class=\"col_heading level0 col3\" >f'x_n</th>        <th class=\"col_heading level0 col4\" >|x_n - x_n-1|</th>    </tr></thead><tbody>\n",
       "                <tr>\n",
       "                                <td id=\"T_6607d8c6_6455_11eb_bab8_fcaa14fc556erow0_col0\" class=\"data row0 col0\" >1</td>\n",
       "                        <td id=\"T_6607d8c6_6455_11eb_bab8_fcaa14fc556erow0_col1\" class=\"data row0 col1\" >1</td>\n",
       "                        <td id=\"T_6607d8c6_6455_11eb_bab8_fcaa14fc556erow0_col2\" class=\"data row0 col2\" >-517.33</td>\n",
       "                        <td id=\"T_6607d8c6_6455_11eb_bab8_fcaa14fc556erow0_col3\" class=\"data row0 col3\" >1191.95</td>\n",
       "                        <td id=\"T_6607d8c6_6455_11eb_bab8_fcaa14fc556erow0_col4\" class=\"data row0 col4\" >0.434019</td>\n",
       "            </tr>\n",
       "            <tr>\n",
       "                                <td id=\"T_6607d8c6_6455_11eb_bab8_fcaa14fc556erow1_col0\" class=\"data row1 col0\" >2</td>\n",
       "                        <td id=\"T_6607d8c6_6455_11eb_bab8_fcaa14fc556erow1_col1\" class=\"data row1 col1\" >1.43402</td>\n",
       "                        <td id=\"T_6607d8c6_6455_11eb_bab8_fcaa14fc556erow1_col2\" class=\"data row1 col2\" >-102.45</td>\n",
       "                        <td id=\"T_6607d8c6_6455_11eb_bab8_fcaa14fc556erow1_col3\" class=\"data row1 col3\" >719.745</td>\n",
       "                        <td id=\"T_6607d8c6_6455_11eb_bab8_fcaa14fc556erow1_col4\" class=\"data row1 col4\" >0.142342</td>\n",
       "            </tr>\n",
       "            <tr>\n",
       "                                <td id=\"T_6607d8c6_6455_11eb_bab8_fcaa14fc556erow2_col0\" class=\"data row2 col0\" >3</td>\n",
       "                        <td id=\"T_6607d8c6_6455_11eb_bab8_fcaa14fc556erow2_col1\" class=\"data row2 col1\" >1.57636</td>\n",
       "                        <td id=\"T_6607d8c6_6455_11eb_bab8_fcaa14fc556erow2_col2\" class=\"data row2 col2\" >-11.0143</td>\n",
       "                        <td id=\"T_6607d8c6_6455_11eb_bab8_fcaa14fc556erow2_col3\" class=\"data row2 col3\" >564.878</td>\n",
       "                        <td id=\"T_6607d8c6_6455_11eb_bab8_fcaa14fc556erow2_col4\" class=\"data row2 col4\" >0.0194986</td>\n",
       "            </tr>\n",
       "            <tr>\n",
       "                                <td id=\"T_6607d8c6_6455_11eb_bab8_fcaa14fc556erow3_col0\" class=\"data row3 col0\" >4</td>\n",
       "                        <td id=\"T_6607d8c6_6455_11eb_bab8_fcaa14fc556erow3_col1\" class=\"data row3 col1\" >1.59586</td>\n",
       "                        <td id=\"T_6607d8c6_6455_11eb_bab8_fcaa14fc556erow3_col2\" class=\"data row3 col2\" >-0.205764</td>\n",
       "                        <td id=\"T_6607d8c6_6455_11eb_bab8_fcaa14fc556erow3_col3\" class=\"data row3 col3\" >543.663</td>\n",
       "                        <td id=\"T_6607d8c6_6455_11eb_bab8_fcaa14fc556erow3_col4\" class=\"data row3 col4\" >0.000378477</td>\n",
       "            </tr>\n",
       "            <tr>\n",
       "                                <td id=\"T_6607d8c6_6455_11eb_bab8_fcaa14fc556erow4_col0\" class=\"data row4 col0\" >5</td>\n",
       "                        <td id=\"T_6607d8c6_6455_11eb_bab8_fcaa14fc556erow4_col1\" class=\"data row4 col1\" >1.59624</td>\n",
       "                        <td id=\"T_6607d8c6_6455_11eb_bab8_fcaa14fc556erow4_col2\" class=\"data row4 col2\" >-5.73356e-05</td>\n",
       "                        <td id=\"T_6607d8c6_6455_11eb_bab8_fcaa14fc556erow4_col3\" class=\"data row4 col3\" >543.252</td>\n",
       "                        <td id=\"T_6607d8c6_6455_11eb_bab8_fcaa14fc556erow4_col4\" class=\"data row4 col4\" >1.05542e-07</td>\n",
       "            </tr>\n",
       "    </tbody></table>"
      ],
      "text/plain": [
       "<pandas.io.formats.style.Styler at 0x116e83c8>"
      ]
     },
     "execution_count": 146,
     "metadata": {},
     "output_type": "execute_result"
    }
   ],
   "source": [
    "f = lambda x: -543.996*(x**2) + 2280*x - 2253.334\n",
    "chute_inicial = 1\n",
    "precisao = 1/(10**4)\n",
    "max_iteracoes = 10\n",
    "\n",
    "tabela = newton(f, chute_inicial, precisao, max_iteracoes)\n",
    "tabela.style.hide_index()"
   ]
  },
  {
   "cell_type": "markdown",
   "metadata": {},
   "source": [
    "### Portanto, a profundidade estimada é de 1,596m"
   ]
  },
  {
   "cell_type": "markdown",
   "metadata": {},
   "source": [
    "#  Exercício 8\n",
    "\n",
    "### Encontre $\\int_{0}^{2} f(x) dx$ pelas regras do Trapézio generalizado e Simpson, sabendo que $f(0)=0$, $f(1)=2$, $f(2)=\\frac{1}{2}$.\n",
    "\n",
    "\n",
    "Vamos começar observando os pontos da f."
   ]
  },
  {
   "cell_type": "code",
   "execution_count": 13,
   "metadata": {},
   "outputs": [
    {
     "data": {
      "text/html": [
       "<style  type=\"text/css\" >\n",
       "</style><table id=\"T_1fafa702_6400_11eb_8966_fcaa14fc556e\" ><thead>    <tr>        <th class=\"col_heading level0 col0\" >x</th>        <th class=\"col_heading level0 col1\" >f(x)</th>    </tr></thead><tbody>\n",
       "                <tr>\n",
       "                                <td id=\"T_1fafa702_6400_11eb_8966_fcaa14fc556erow0_col0\" class=\"data row0 col0\" >0</td>\n",
       "                        <td id=\"T_1fafa702_6400_11eb_8966_fcaa14fc556erow0_col1\" class=\"data row0 col1\" >0</td>\n",
       "            </tr>\n",
       "            <tr>\n",
       "                                <td id=\"T_1fafa702_6400_11eb_8966_fcaa14fc556erow1_col0\" class=\"data row1 col0\" >1</td>\n",
       "                        <td id=\"T_1fafa702_6400_11eb_8966_fcaa14fc556erow1_col1\" class=\"data row1 col1\" >2</td>\n",
       "            </tr>\n",
       "            <tr>\n",
       "                                <td id=\"T_1fafa702_6400_11eb_8966_fcaa14fc556erow2_col0\" class=\"data row2 col0\" >2</td>\n",
       "                        <td id=\"T_1fafa702_6400_11eb_8966_fcaa14fc556erow2_col1\" class=\"data row2 col1\" >0.5</td>\n",
       "            </tr>\n",
       "    </tbody></table>"
      ],
      "text/plain": [
       "<pandas.io.formats.style.Styler at 0xf599b00>"
      ]
     },
     "execution_count": 13,
     "metadata": {},
     "output_type": "execute_result"
    }
   ],
   "source": [
    "import pandas as pd\n",
    "x = [0, 1, 2]\n",
    "f_x = [0, 2, 0.5]\n",
    "\n",
    "tabela = {'x': pd.Series(data = x), 'f(x)': pd.Series(data = f_x)}\n",
    "tabela = pd.DataFrame(tabela)\n",
    "tabela.style.hide_index()"
   ]
  },
  {
   "cell_type": "markdown",
   "metadata": {},
   "source": [
    "Esse exemplo é simples o suficiente para resolver a questão no papel, mas iremos construir algoritmos para poder replicar as técnicas utilizadas."
   ]
  },
  {
   "cell_type": "code",
   "execution_count": 20,
   "metadata": {},
   "outputs": [],
   "source": [
    "def trapezio_generalizado_pontos(x, y):\n",
    "    soma = 0\n",
    "    for i in range(0, len(x)-1):\n",
    "        h = (x[i+1]-x[i])\n",
    "        trapezio = ((y[i+1]+ y[i])* h)/2\n",
    "        soma = soma + trapezio\n",
    "    \n",
    "    return soma"
   ]
  },
  {
   "cell_type": "code",
   "execution_count": 22,
   "metadata": {},
   "outputs": [
    {
     "name": "stdout",
     "output_type": "stream",
     "text": [
      "2.25\n"
     ]
    }
   ],
   "source": [
    "x = [0, 1, 2]\n",
    "f_x = [0, 2, 0.5]\n",
    "print(trapezio_generalizado_pontos(x,f_x))"
   ]
  },
  {
   "cell_type": "markdown",
   "metadata": {},
   "source": [
    "#### Pelo método do trapézio generalizado, encontramos que $\\int_{0}^{2} f(x) dx \\approx 2,25$.\n",
    "\n",
    "Agora vamos à regra de Simpson."
   ]
  },
  {
   "cell_type": "code",
   "execution_count": 34,
   "metadata": {},
   "outputs": [],
   "source": [
    "# apenas para  3 pontos\n",
    "def simpson_pontos(x, y):\n",
    "    h = (x[2] - x[0])/2\n",
    "    simpson = (h/3)*(y[0] + 4*y[1] + y[2])\n",
    "    return simpson   "
   ]
  },
  {
   "cell_type": "code",
   "execution_count": 35,
   "metadata": {},
   "outputs": [
    {
     "name": "stdout",
     "output_type": "stream",
     "text": [
      "2.833333333333333\n"
     ]
    }
   ],
   "source": [
    "x = [0, 1, 2]\n",
    "f_x = [0, 2, 0.5]\n",
    "print(simpson_pontos(x,f_x))"
   ]
  },
  {
   "cell_type": "markdown",
   "metadata": {},
   "source": [
    "#### Pela Regra de Simpson, $\\int_{0}^{2} f(x) dx \\approx 2,83333$."
   ]
  },
  {
   "cell_type": "markdown",
   "metadata": {},
   "source": [
    "#  Exercício 9\n",
    "\n",
    "### Calcule pela regra do Trapézio e pela regra de Simpson, usando 4 subdivisões do intervalo. Estime os erros.\n",
    "\n",
    "\n",
    "### (a) $\\int_{1}^{2.2} sen^2(\\frac{\\pi}{2}x) dx$"
   ]
  },
  {
   "cell_type": "code",
   "execution_count": 69,
   "metadata": {},
   "outputs": [],
   "source": [
    "def trapezio_generalizado_funcao(f, a, b, n):\n",
    "    '''\n",
    "    - Função: trapezio_generalizado_funcao(f, a, b, n)\n",
    "    - Autor: Eduardo Freire Mangabeira\n",
    "    - Aproxima o valor de uma integral definida usando a regra do trapézio.\n",
    "    - Feito a partir das aulas do professor Hamilton(ENCE), notas de aula da Unesp \\ \n",
    "    e do livro Burden, R. L., & Faires, D. J. (1985). Numerical analysis.\n",
    "    - É precisso passar uma expressão lambda para o parâmetro 'f', fiz isso para deixar o código mais geral e menos verboso.\n",
    "    - Para expresões lambda, visitar: http://www.dsc.ufcg.edu.br/~pet/jornal/maio2013/materias/tutoriais.html.\n",
    "    '''\n",
    "    h = (b-a)/(n)\n",
    "    x = a + h\n",
    "    soma = 0\n",
    "    for i in range(1, n):\n",
    "        soma = soma + f(x)\n",
    "        x = x + h\n",
    "        \n",
    "    integral = h * ((f(a)+f(b))/2+soma)\n",
    "    return integral"
   ]
  },
  {
   "cell_type": "code",
   "execution_count": 66,
   "metadata": {},
   "outputs": [
    {
     "data": {
      "text/plain": [
       "0.5134804866652349"
      ]
     },
     "execution_count": 66,
     "metadata": {},
     "output_type": "execute_result"
    }
   ],
   "source": [
    "import numpy as np\n",
    "f = lambda x: (np.sin((np.pi/2) * x)) ** 2\n",
    "a = 1\n",
    "b = 2.2\n",
    "n = 4\n",
    "trapezio_generalizado_funcao(f, a, b, n)"
   ]
  },
  {
   "cell_type": "markdown",
   "metadata": {},
   "source": [
    "#### Temos que  $\\int_{1}^{2.2} sen^2(\\frac{\\pi}{2}x) dx \\approx 0.5135 $\n",
    "\n",
    "Para estimar o erro, usamos a fórmula:\n",
    "\n",
    "$$|E_{TG}| \\leq \\frac{nh^3}{12} \\max_{t\\in[a;b]} |f''(t)|$$\n",
    "\n",
    "\n",
    "Como $f''(t) = -\\dfrac{{\\pi}^2\\left(\\sin^2\\left(\\frac{{\\pi}t}{2}\\right)-\\cos^2\\left(\\frac{{\\pi}t}{2}\\right)\\right)}{2}$\n",
    "\n",
    "Observando o gráfico, o máximo de $f''(t)$ é em $t = 2$(o mesmo resultado poderia ser obtido calculando os pontos críticos).\n",
    "\n",
    "Logo,\n",
    "\n",
    "$$|E_{TG}| \\leq \\frac{nh^3}{12} \\frac{\\pi^2}{2}$$\n",
    "\n",
    "$$|E_{TG}| \\leq \\frac{4(0.3)^3}{12} \\frac{\\pi^2}{2}$$\n",
    "\n",
    "$$|E_{TG}| \\leq 0,0444$$"
   ]
  },
  {
   "cell_type": "markdown",
   "metadata": {},
   "source": [
    "##### Agora iremos usar a regra de Simpson\n",
    "\n",
    "\n",
    "\n",
    "\n"
   ]
  },
  {
   "cell_type": "code",
   "execution_count": 87,
   "metadata": {},
   "outputs": [],
   "source": [
    "def simpson_generalizado_funcao(f, a, b, n):\n",
    "    '''\n",
    "    - Função: trapezio_generalizado_funcao(f, a, b, n)\n",
    "    - Autor: Eduardo Freire Mangabeira\n",
    "    - Aproxima o valor de uma integral definida usando a regra de Simpson.\n",
    "    - Feito a partir das aulas do professor Hamilton(ENCE), notas de aula da Unesp \\ \n",
    "    e do livro Burden, R. L., & Faires, D. J. (1985). Numerical analysis.\n",
    "    - É precisso passar uma expressão lambda para o parâmetro 'f', fiz isso para deixar o código mais geral e menos verboso.\n",
    "    - Para expresões lambda, visitar: http://www.dsc.ufcg.edu.br/~pet/jornal/maio2013/materias/tutoriais.html.\n",
    "    '''\n",
    "    h = (b-a)/(n)\n",
    "    x = a + h\n",
    "    soma_pares = 0\n",
    "    soma_impares = 0\n",
    "    for i in range (1, n):\n",
    "        if i%2 == 0:\n",
    "            soma_pares = soma_pares + f(x)\n",
    "        else:\n",
    "            soma_impares = soma_impares + f(x)\n",
    "        x = x + h\n",
    "    integral = (h/3)*(f(a)+f(b)+4*soma_impares+2*soma_pares)\n",
    "    return integral"
   ]
  },
  {
   "cell_type": "code",
   "execution_count": 89,
   "metadata": {},
   "outputs": [
    {
     "data": {
      "text/plain": [
       "0.505993198043222"
      ]
     },
     "execution_count": 89,
     "metadata": {},
     "output_type": "execute_result"
    }
   ],
   "source": [
    "import numpy as np\n",
    "f = lambda x: (np.sin((np.pi/2) * x)) ** 2\n",
    "a = 1\n",
    "b = 2.2\n",
    "n = 4\n",
    "simpson_generalizado_funcao(f, a, b, n)"
   ]
  },
  {
   "cell_type": "markdown",
   "metadata": {},
   "source": [
    "#### Temos que  $\\int_{1}^{2.2} sen^2(\\frac{\\pi}{2}x) dx \\approx 0.506 $\n",
    "\n",
    "Para estimar o erro, usamos a fórmula:\n",
    "\n",
    "$$|E_{SG}| \\leq \\frac{nh^5}{180} \\max_{t\\in[a;b]} |f^{(4)}(t)|$$\n",
    "\n",
    "Temos que $f^{(4)}(t) = \\dfrac{{\\pi}^4\\left(\\sin^2\\left(\\frac{{\\pi}t}{2}\\right)-\\cos^2\\left(\\frac{{\\pi}t}{2}\\right)\\right)}{2}$\n",
    "\n",
    "Observando o  gráfico da função, o máximo de $f^{(4)}(t)$ ocorre em $t = 1$.\n",
    "\n",
    "Logo,\n",
    "\n",
    "$$|E_{SG}| \\leq \\frac{nh^5}{180} \\dfrac{\\pi^4}{2}$$\n",
    "\n",
    "$$|E_{SG}| \\leq \\frac{4(0.3^5)}{180} \\dfrac{\\pi^4}{2}$$\n",
    "\n",
    "$$|E_{SG}| \\leq 0,0026$$"
   ]
  },
  {
   "cell_type": "markdown",
   "metadata": {},
   "source": [
    "### (b)  $\\int_{2}^{4} ln(x) dx$\n",
    "\n",
    "### Trapézio"
   ]
  },
  {
   "cell_type": "code",
   "execution_count": 92,
   "metadata": {},
   "outputs": [
    {
     "data": {
      "text/plain": [
       "2.1536933799387756"
      ]
     },
     "execution_count": 92,
     "metadata": {},
     "output_type": "execute_result"
    }
   ],
   "source": [
    "import numpy as np\n",
    "# No numpy ln(x) é obtido por np.log(x). Para base 10 usar np.log10(x).\n",
    "f = lambda x: np.log(x)\n",
    "a = 2\n",
    "b = 4\n",
    "n = 4\n",
    "trapezio_generalizado_funcao(f, a, b, n)"
   ]
  },
  {
   "cell_type": "markdown",
   "metadata": {},
   "source": [
    "#### Temos que  $\\int_{2}^{4} ln(x) dx \\approx 2.1537 $\n",
    "\n",
    "Vamos encontrar o erro.\n",
    "\n",
    "$f''(t) = -\\dfrac{1}{t^2}$\n",
    "\n",
    "O máximo da segunda derivada no intervalo ocorre em $t = 4$.\n",
    "\n",
    "$$|E_{TG}| \\leq \\frac{4\\Big(\\dfrac{1}{2}\\Big)^3}{12} 0,0625$$\n",
    "\n",
    "$$|E_{TG}| \\leq 0,0026 $$\n",
    "\n",
    "\n",
    "### Simpson"
   ]
  },
  {
   "cell_type": "code",
   "execution_count": 93,
   "metadata": {},
   "outputs": [
    {
     "data": {
      "text/plain": [
       "2.1588134867490245"
      ]
     },
     "execution_count": 93,
     "metadata": {},
     "output_type": "execute_result"
    }
   ],
   "source": [
    "import numpy as np\n",
    "# No numpy ln(x) é obtido por np.log(x). Para base 10 usar np.log10(x).\n",
    "f = lambda x: np.log(x)\n",
    "a = 2\n",
    "b = 4\n",
    "n = 4\n",
    "simpson_generalizado_funcao(f, a, b, n)"
   ]
  },
  {
   "cell_type": "markdown",
   "metadata": {},
   "source": [
    "#### Temos que  $\\int_{2}^{4} ln(x) dx \\approx 2.1588 $\n",
    "\n",
    "Vamos encontrar o erro.\n",
    "\n",
    "$f^{(4)}(t) = -\\dfrac{6}{t^4}$\n",
    "\n",
    "O máximo da segunda derivada no intervalo ocorre em $t = 4$.\n",
    "\n",
    "\n",
    "$$|E_{SG}| \\leq \\frac{4\\Big(\\frac{1}{2}\\Big)^5}{180} \\frac{3}{128}$$\n",
    "\n",
    "\n",
    "$$|E_{SG}| \\leq 0,000016 $$"
   ]
  },
  {
   "cell_type": "markdown",
   "metadata": {},
   "source": [
    "#  Exercício 10\n",
    "\n",
    "### O PROCON tem recebido reclamações com relação ao peso dos pacotes de açúcar de 5kg. Com a finalidade de verificar a validade das reclamações, foi coletada uma amostra de 100 pacotes. Com isto, chegou-se à conclusão de que para determinar a probabilidade de um pacote de açúcar pesar menos do que 5kg deve ser avaliada a expressão a seguir.\n",
    "\n",
    "$$F = 0,5 + \\dfrac{1}{\\sqrt{2\\pi}} \\int_{0}^{1,8}e^{-0,5x^2} dx$$\n",
    "\n",
    "### Estime essa probabilidade e o erro cometido utilizando a Regra de Simpson. Divida o intervalo de integração em 6 partes e faça os cálculos com 4 casas decimais.\n",
    "\n",
    "\n",
    "Para fazer a aproximação por 4 casas decimais, vamos precisar da ajuda de uma função.\n"
   ]
  },
  {
   "cell_type": "code",
   "execution_count": 102,
   "metadata": {},
   "outputs": [],
   "source": [
    "def truncate(n, decimals=0):\n",
    "    multiplier = 10 ** decimals\n",
    "    return int(n * multiplier) / multiplier"
   ]
  },
  {
   "cell_type": "code",
   "execution_count": 112,
   "metadata": {},
   "outputs": [
    {
     "data": {
      "text/plain": [
       "0.964"
      ]
     },
     "execution_count": 112,
     "metadata": {},
     "output_type": "execute_result"
    }
   ],
   "source": [
    "import numpy as np\n",
    "f = lambda x: np.exp(-0.5*(x**2))\n",
    "a = 0\n",
    "b = 1.8\n",
    "n = 6\n",
    "resultado = 0.5 + simpson_generalizado_funcao(f, a, b, n)/ np.sqrt(2*np.pi)\n",
    "truncate(resultado, 4)"
   ]
  },
  {
   "cell_type": "markdown",
   "metadata": {},
   "source": [
    "#### Logo, seja X uma variável aleatória tal que X: \"peso do pacote\".\n",
    "\n",
    "$$P(X<5) \\approx 0.9635$$\n",
    "\n",
    "\n",
    "\n",
    "Agora vamos encontrar o erro associado.\n",
    "\n",
    "Seja $f(t) = e^{0,5x^2}$.\n",
    "\n",
    "$f^{(4)}(t) = \\left(t^4+6t^2+3\\right)\\mathrm{e}^\\frac{t^2}{2}$\n",
    "\n",
    "o máximo ocorre em $t = 1,8$.\n",
    "\n",
    "\n",
    "$$|E_{SG}| \\leq \\frac{6\\Big(\\frac{1,8}{6}\\Big)^5}{180} 166,437$$\n",
    "\n",
    "$$|E_{SG}| \\leq 0,0013$$\n",
    "\n"
   ]
  },
  {
   "cell_type": "markdown",
   "metadata": {},
   "source": [
    "#  Exercício 11\n",
    "\n",
    "### Encontre a parábola que melhor se ajusta aos pontos da tabela abaixo, pelo Método dos Mínimos Quadrados.\n",
    "\n",
    "Vamos olhar a tabela."
   ]
  },
  {
   "cell_type": "code",
   "execution_count": 114,
   "metadata": {},
   "outputs": [
    {
     "data": {
      "text/html": [
       "<style  type=\"text/css\" >\n",
       "</style><table id=\"T_0787c95e_644f_11eb_8b5d_fcaa14fc556e\" ><thead>    <tr>        <th class=\"col_heading level0 col0\" >x</th>        <th class=\"col_heading level0 col1\" >f(x)</th>    </tr></thead><tbody>\n",
       "                <tr>\n",
       "                                <td id=\"T_0787c95e_644f_11eb_8b5d_fcaa14fc556erow0_col0\" class=\"data row0 col0\" >-2</td>\n",
       "                        <td id=\"T_0787c95e_644f_11eb_8b5d_fcaa14fc556erow0_col1\" class=\"data row0 col1\" >-30.5</td>\n",
       "            </tr>\n",
       "            <tr>\n",
       "                                <td id=\"T_0787c95e_644f_11eb_8b5d_fcaa14fc556erow1_col0\" class=\"data row1 col0\" >-1.5</td>\n",
       "                        <td id=\"T_0787c95e_644f_11eb_8b5d_fcaa14fc556erow1_col1\" class=\"data row1 col1\" >-20.2</td>\n",
       "            </tr>\n",
       "            <tr>\n",
       "                                <td id=\"T_0787c95e_644f_11eb_8b5d_fcaa14fc556erow2_col0\" class=\"data row2 col0\" >0</td>\n",
       "                        <td id=\"T_0787c95e_644f_11eb_8b5d_fcaa14fc556erow2_col1\" class=\"data row2 col1\" >-3.3</td>\n",
       "            </tr>\n",
       "            <tr>\n",
       "                                <td id=\"T_0787c95e_644f_11eb_8b5d_fcaa14fc556erow3_col0\" class=\"data row3 col0\" >1</td>\n",
       "                        <td id=\"T_0787c95e_644f_11eb_8b5d_fcaa14fc556erow3_col1\" class=\"data row3 col1\" >8.9</td>\n",
       "            </tr>\n",
       "            <tr>\n",
       "                                <td id=\"T_0787c95e_644f_11eb_8b5d_fcaa14fc556erow4_col0\" class=\"data row4 col0\" >2.2</td>\n",
       "                        <td id=\"T_0787c95e_644f_11eb_8b5d_fcaa14fc556erow4_col1\" class=\"data row4 col1\" >16.8</td>\n",
       "            </tr>\n",
       "            <tr>\n",
       "                                <td id=\"T_0787c95e_644f_11eb_8b5d_fcaa14fc556erow5_col0\" class=\"data row5 col0\" >3.1</td>\n",
       "                        <td id=\"T_0787c95e_644f_11eb_8b5d_fcaa14fc556erow5_col1\" class=\"data row5 col1\" >21.4</td>\n",
       "            </tr>\n",
       "    </tbody></table>"
      ],
      "text/plain": [
       "<pandas.io.formats.style.Styler at 0xf6507f0>"
      ]
     },
     "execution_count": 114,
     "metadata": {},
     "output_type": "execute_result"
    }
   ],
   "source": [
    "import pandas as pd\n",
    "\n",
    "x = [-2,-1.5, 0, 1, 2.2, 3.1]\n",
    "f_x = [-30.5, -20.2, -3.3, 8.9, 16.8, 21.4]\n",
    "tabela = {'x': pd.Series(data = x), 'f(x)': pd.Series(data = f_x)}\n",
    "tabela = pd.DataFrame(tabela)\n",
    "tabela.style.hide_index()"
   ]
  },
  {
   "cell_type": "markdown",
   "metadata": {},
   "source": [
    "Basta usar o np.polyfit(), que aplica o método dos mínimos quadrados."
   ]
  },
  {
   "cell_type": "code",
   "execution_count": 117,
   "metadata": {},
   "outputs": [
    {
     "name": "stdout",
     "output_type": "stream",
     "text": [
      "coeficientes:[-1.22223104 11.33154761 -2.01765329]\n"
     ]
    }
   ],
   "source": [
    "import numpy as np\n",
    "x = [-2,-1.5, 0, 1, 2.2, 3.1]\n",
    "f_x = [-30.5, -20.2, -3.3, 8.9, 16.8, 21.4]\n",
    "coef_poli_interpolador = np.polyfit(x, f_x, 2)\n",
    "print(\"coeficientes:{}\".format(coef_poli_interpolador))"
   ]
  },
  {
   "cell_type": "markdown",
   "metadata": {},
   "source": [
    "Portanto,\n",
    "\n",
    "### $y = -1,222 x^2 + 11,33x - 2,018$ "
   ]
  }
 ],
 "metadata": {
  "kernelspec": {
   "display_name": "Python 3",
   "language": "python",
   "name": "python3"
  },
  "language_info": {
   "codemirror_mode": {
    "name": "ipython",
    "version": 3
   },
   "file_extension": ".py",
   "mimetype": "text/x-python",
   "name": "python",
   "nbconvert_exporter": "python",
   "pygments_lexer": "ipython3",
   "version": "3.6.5"
  }
 },
 "nbformat": 4,
 "nbformat_minor": 2
}
