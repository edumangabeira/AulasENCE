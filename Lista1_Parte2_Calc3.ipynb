{
 "cells": [
  {
   "cell_type": "markdown",
   "metadata": {},
   "source": [
    "# Exercício 1\n",
    "\n",
    "a função $f(x) = x^4 + 4x^3 + 6x^2 + 3x -10$ possui um zero positivo e um zero negativo. Pede-se:\n",
    "\n",
    "#### a) Encontre, pelo Método da Bissecção, o zero positivo de $f$, partindo de um intervalo de comprimento 1, com precisão de $10^{-3}$"
   ]
  },
  {
   "cell_type": "code",
   "execution_count": 79,
   "metadata": {},
   "outputs": [
    {
     "data": {
      "text/html": [
       "<style  type=\"text/css\" >\n",
       "</style><table id=\"T_f58dc1c2_4f05_11eb_858e_fcaa14fc556e\" ><thead>    <tr>        <th class=\"col_heading level0 col0\" >x</th>        <th class=\"col_heading level0 col1\" >f(x)</th>    </tr></thead><tbody>\n",
       "                <tr>\n",
       "                                <td id=\"T_f58dc1c2_4f05_11eb_858e_fcaa14fc556erow0_col0\" class=\"data row0 col0\" >-20</td>\n",
       "                        <td id=\"T_f58dc1c2_4f05_11eb_858e_fcaa14fc556erow0_col1\" class=\"data row0 col1\" >130330</td>\n",
       "            </tr>\n",
       "            <tr>\n",
       "                                <td id=\"T_f58dc1c2_4f05_11eb_858e_fcaa14fc556erow1_col0\" class=\"data row1 col0\" >-5</td>\n",
       "                        <td id=\"T_f58dc1c2_4f05_11eb_858e_fcaa14fc556erow1_col1\" class=\"data row1 col1\" >250</td>\n",
       "            </tr>\n",
       "            <tr>\n",
       "                                <td id=\"T_f58dc1c2_4f05_11eb_858e_fcaa14fc556erow2_col0\" class=\"data row2 col0\" >-3</td>\n",
       "                        <td id=\"T_f58dc1c2_4f05_11eb_858e_fcaa14fc556erow2_col1\" class=\"data row2 col1\" >8</td>\n",
       "            </tr>\n",
       "            <tr>\n",
       "                                <td id=\"T_f58dc1c2_4f05_11eb_858e_fcaa14fc556erow3_col0\" class=\"data row3 col0\" >-2</td>\n",
       "                        <td id=\"T_f58dc1c2_4f05_11eb_858e_fcaa14fc556erow3_col1\" class=\"data row3 col1\" >-8</td>\n",
       "            </tr>\n",
       "            <tr>\n",
       "                                <td id=\"T_f58dc1c2_4f05_11eb_858e_fcaa14fc556erow4_col0\" class=\"data row4 col0\" >-1</td>\n",
       "                        <td id=\"T_f58dc1c2_4f05_11eb_858e_fcaa14fc556erow4_col1\" class=\"data row4 col1\" >-10</td>\n",
       "            </tr>\n",
       "            <tr>\n",
       "                                <td id=\"T_f58dc1c2_4f05_11eb_858e_fcaa14fc556erow5_col0\" class=\"data row5 col0\" >0</td>\n",
       "                        <td id=\"T_f58dc1c2_4f05_11eb_858e_fcaa14fc556erow5_col1\" class=\"data row5 col1\" >-10</td>\n",
       "            </tr>\n",
       "            <tr>\n",
       "                                <td id=\"T_f58dc1c2_4f05_11eb_858e_fcaa14fc556erow6_col0\" class=\"data row6 col0\" >1</td>\n",
       "                        <td id=\"T_f58dc1c2_4f05_11eb_858e_fcaa14fc556erow6_col1\" class=\"data row6 col1\" >4</td>\n",
       "            </tr>\n",
       "            <tr>\n",
       "                                <td id=\"T_f58dc1c2_4f05_11eb_858e_fcaa14fc556erow7_col0\" class=\"data row7 col0\" >5</td>\n",
       "                        <td id=\"T_f58dc1c2_4f05_11eb_858e_fcaa14fc556erow7_col1\" class=\"data row7 col1\" >1280</td>\n",
       "            </tr>\n",
       "            <tr>\n",
       "                                <td id=\"T_f58dc1c2_4f05_11eb_858e_fcaa14fc556erow8_col0\" class=\"data row8 col0\" >20</td>\n",
       "                        <td id=\"T_f58dc1c2_4f05_11eb_858e_fcaa14fc556erow8_col1\" class=\"data row8 col1\" >194450</td>\n",
       "            </tr>\n",
       "    </tbody></table>"
      ],
      "text/plain": [
       "<pandas.io.formats.style.Styler at 0xf927b00>"
      ]
     },
     "execution_count": 79,
     "metadata": {},
     "output_type": "execute_result"
    }
   ],
   "source": [
    "import pandas as pd\n",
    "\n",
    "x = [-20, -5, -3, -2,-1, 0, 1, 5, 20]\n",
    "f_x = [j**4 + 4*(j**3) + 6*(j**2) + 3*j - 10 for j in x]\n",
    "tabela = {'x': pd.Series(data = x), 'f(x)': pd.Series(data = f_x)}\n",
    "tabela = pd.DataFrame(tabela)\n",
    "tabela.style.hide_index()"
   ]
  },
  {
   "cell_type": "markdown",
   "metadata": {},
   "source": [
    "Pela tabela acima, é possível ver que o zero negativo está entre $[-3, -2]$ e o zero positivo está entre $[0,1]$. Como só queremos o zero positivo, usaremos o segundo intervalo. No código abaixo se tem uma função usada para executar o método da bissecção e gerar uma tabela."
   ]
  },
  {
   "cell_type": "code",
   "execution_count": 80,
   "metadata": {},
   "outputs": [],
   "source": [
    "import pandas as pd\n",
    "\n",
    "\n",
    "def bissecao(f, a, b, precisao, max_iteracoes):\n",
    "    '''\n",
    "    - Função: bissecao(f, a, b, precisao, max_iteracoes)\n",
    "    - Autor: Eduardo Freire Mangabeira\n",
    "    - Obtém um zero de uma função pelo método da bisseção.\n",
    "    - Feito a partir das aulas do professor Hamilton e do livro Burden, R. L., & Faires, D. J. (1985). Numerical analysis.\n",
    "    - É precisso passar uma expressão lambda para o parâmetro 'f', fiz isso para deixar o código mais geral e menos verboso.\n",
    "    - Para expresões lambda, visitar: http://www.dsc.ufcg.edu.br/~pet/jornal/maio2013/materias/tutoriais.html.\n",
    "    '''\n",
    "    i = 1\n",
    "    f_a = f(a)\n",
    "    p = a + (b-a)/2\n",
    "    f_p = f(p)\n",
    "    dados = {'n': [], 'a_n': [], 'b_n': [], 'x_n': [], 'f(a_n)': [], 'f(b_n)': [], 'f(x_n)': []}\n",
    "    tabela = pd.DataFrame(dados)\n",
    "    while i <= max_iteracoes:\n",
    "        p = a + (b-a)/2\n",
    "        f_p = f(p)\n",
    "        f_b = f(b)\n",
    "        dados_2 = {'n': [i], 'a_n': [a], 'b_n': [b], 'x_n': [p], 'f(a_n)': [f_a], 'f(b_n)': [f_b], 'f(x_n)': [f_p]}\n",
    "        tabela_2 = pd.DataFrame(dados_2)\n",
    "        tabela = tabela.append(tabela_2, ignore_index = True)\n",
    "        if f_p == 0 or (b-a)/2 < precisao:\n",
    "            print(\"O valor de x que aproxima ao zero da função é: {}\".format(p))\n",
    "            return tabela\n",
    "        i = i + 1\n",
    "        if f_a * f_p > 0:\n",
    "            a = p\n",
    "            f_a = f_p\n",
    "        else:\n",
    "            b = p"
   ]
  },
  {
   "cell_type": "code",
   "execution_count": 42,
   "metadata": {
    "scrolled": true
   },
   "outputs": [
    {
     "name": "stdout",
     "output_type": "stream",
     "text": [
      "\n",
      "    - Função: bissecao(f, a, b, precisao, max_iteracoes)\n",
      "    - Autor: Eduardo Freire Mangabeira\n",
      "    - Obtém um zero de uma função pelo método da bisseção.\n",
      "    - Feito a partir das aulas do professor Hamilton e do livro Burden, R. L., & Faires, D. J. (1985). Numerical analysis.\n",
      "    - É precisso passar uma expressão lambda para o parâmetro 'f', fiz isso para deixar o código mais geral e menos verboso.\n",
      "    - Para expresões lambda, visitar: http://www.dsc.ufcg.edu.br/~pet/jornal/maio2013/materias/tutoriais.html.\n",
      "    \n"
     ]
    }
   ],
   "source": [
    "print(bissecao.__doc__)"
   ]
  },
  {
   "cell_type": "markdown",
   "metadata": {},
   "source": [
    "Agora basta usar os valores dados na questão, considerando o intervalo $[0,1]$."
   ]
  },
  {
   "cell_type": "code",
   "execution_count": 81,
   "metadata": {},
   "outputs": [
    {
     "name": "stdout",
     "output_type": "stream",
     "text": [
      "O valor de x que aproxima ao zero da função é: 0.8564453125\n"
     ]
    },
    {
     "data": {
      "text/html": [
       "<style  type=\"text/css\" >\n",
       "</style><table id=\"T_fb9c7198_4f05_11eb_b94c_fcaa14fc556e\" ><thead>    <tr>        <th class=\"col_heading level0 col0\" >n</th>        <th class=\"col_heading level0 col1\" >a_n</th>        <th class=\"col_heading level0 col2\" >b_n</th>        <th class=\"col_heading level0 col3\" >x_n</th>        <th class=\"col_heading level0 col4\" >f(a_n)</th>        <th class=\"col_heading level0 col5\" >f(b_n)</th>        <th class=\"col_heading level0 col6\" >f(x_n)</th>    </tr></thead><tbody>\n",
       "                <tr>\n",
       "                                <td id=\"T_fb9c7198_4f05_11eb_b94c_fcaa14fc556erow0_col0\" class=\"data row0 col0\" >1</td>\n",
       "                        <td id=\"T_fb9c7198_4f05_11eb_b94c_fcaa14fc556erow0_col1\" class=\"data row0 col1\" >0</td>\n",
       "                        <td id=\"T_fb9c7198_4f05_11eb_b94c_fcaa14fc556erow0_col2\" class=\"data row0 col2\" >1</td>\n",
       "                        <td id=\"T_fb9c7198_4f05_11eb_b94c_fcaa14fc556erow0_col3\" class=\"data row0 col3\" >0.5</td>\n",
       "                        <td id=\"T_fb9c7198_4f05_11eb_b94c_fcaa14fc556erow0_col4\" class=\"data row0 col4\" >-10</td>\n",
       "                        <td id=\"T_fb9c7198_4f05_11eb_b94c_fcaa14fc556erow0_col5\" class=\"data row0 col5\" >4</td>\n",
       "                        <td id=\"T_fb9c7198_4f05_11eb_b94c_fcaa14fc556erow0_col6\" class=\"data row0 col6\" >-6.4375</td>\n",
       "            </tr>\n",
       "            <tr>\n",
       "                                <td id=\"T_fb9c7198_4f05_11eb_b94c_fcaa14fc556erow1_col0\" class=\"data row1 col0\" >2</td>\n",
       "                        <td id=\"T_fb9c7198_4f05_11eb_b94c_fcaa14fc556erow1_col1\" class=\"data row1 col1\" >0.5</td>\n",
       "                        <td id=\"T_fb9c7198_4f05_11eb_b94c_fcaa14fc556erow1_col2\" class=\"data row1 col2\" >1</td>\n",
       "                        <td id=\"T_fb9c7198_4f05_11eb_b94c_fcaa14fc556erow1_col3\" class=\"data row1 col3\" >0.75</td>\n",
       "                        <td id=\"T_fb9c7198_4f05_11eb_b94c_fcaa14fc556erow1_col4\" class=\"data row1 col4\" >-6.4375</td>\n",
       "                        <td id=\"T_fb9c7198_4f05_11eb_b94c_fcaa14fc556erow1_col5\" class=\"data row1 col5\" >4</td>\n",
       "                        <td id=\"T_fb9c7198_4f05_11eb_b94c_fcaa14fc556erow1_col6\" class=\"data row1 col6\" >-2.37109</td>\n",
       "            </tr>\n",
       "            <tr>\n",
       "                                <td id=\"T_fb9c7198_4f05_11eb_b94c_fcaa14fc556erow2_col0\" class=\"data row2 col0\" >3</td>\n",
       "                        <td id=\"T_fb9c7198_4f05_11eb_b94c_fcaa14fc556erow2_col1\" class=\"data row2 col1\" >0.75</td>\n",
       "                        <td id=\"T_fb9c7198_4f05_11eb_b94c_fcaa14fc556erow2_col2\" class=\"data row2 col2\" >1</td>\n",
       "                        <td id=\"T_fb9c7198_4f05_11eb_b94c_fcaa14fc556erow2_col3\" class=\"data row2 col3\" >0.875</td>\n",
       "                        <td id=\"T_fb9c7198_4f05_11eb_b94c_fcaa14fc556erow2_col4\" class=\"data row2 col4\" >-2.37109</td>\n",
       "                        <td id=\"T_fb9c7198_4f05_11eb_b94c_fcaa14fc556erow2_col5\" class=\"data row2 col5\" >4</td>\n",
       "                        <td id=\"T_fb9c7198_4f05_11eb_b94c_fcaa14fc556erow2_col6\" class=\"data row2 col6\" >0.484619</td>\n",
       "            </tr>\n",
       "            <tr>\n",
       "                                <td id=\"T_fb9c7198_4f05_11eb_b94c_fcaa14fc556erow3_col0\" class=\"data row3 col0\" >4</td>\n",
       "                        <td id=\"T_fb9c7198_4f05_11eb_b94c_fcaa14fc556erow3_col1\" class=\"data row3 col1\" >0.75</td>\n",
       "                        <td id=\"T_fb9c7198_4f05_11eb_b94c_fcaa14fc556erow3_col2\" class=\"data row3 col2\" >0.875</td>\n",
       "                        <td id=\"T_fb9c7198_4f05_11eb_b94c_fcaa14fc556erow3_col3\" class=\"data row3 col3\" >0.8125</td>\n",
       "                        <td id=\"T_fb9c7198_4f05_11eb_b94c_fcaa14fc556erow3_col4\" class=\"data row3 col4\" >-2.37109</td>\n",
       "                        <td id=\"T_fb9c7198_4f05_11eb_b94c_fcaa14fc556erow3_col5\" class=\"data row3 col5\" >0.484619</td>\n",
       "                        <td id=\"T_fb9c7198_4f05_11eb_b94c_fcaa14fc556erow3_col6\" class=\"data row3 col6\" >-1.02025</td>\n",
       "            </tr>\n",
       "            <tr>\n",
       "                                <td id=\"T_fb9c7198_4f05_11eb_b94c_fcaa14fc556erow4_col0\" class=\"data row4 col0\" >5</td>\n",
       "                        <td id=\"T_fb9c7198_4f05_11eb_b94c_fcaa14fc556erow4_col1\" class=\"data row4 col1\" >0.8125</td>\n",
       "                        <td id=\"T_fb9c7198_4f05_11eb_b94c_fcaa14fc556erow4_col2\" class=\"data row4 col2\" >0.875</td>\n",
       "                        <td id=\"T_fb9c7198_4f05_11eb_b94c_fcaa14fc556erow4_col3\" class=\"data row4 col3\" >0.84375</td>\n",
       "                        <td id=\"T_fb9c7198_4f05_11eb_b94c_fcaa14fc556erow4_col4\" class=\"data row4 col4\" >-1.02025</td>\n",
       "                        <td id=\"T_fb9c7198_4f05_11eb_b94c_fcaa14fc556erow4_col5\" class=\"data row4 col5\" >0.484619</td>\n",
       "                        <td id=\"T_fb9c7198_4f05_11eb_b94c_fcaa14fc556erow4_col6\" class=\"data row4 col6\" >-0.287734</td>\n",
       "            </tr>\n",
       "            <tr>\n",
       "                                <td id=\"T_fb9c7198_4f05_11eb_b94c_fcaa14fc556erow5_col0\" class=\"data row5 col0\" >6</td>\n",
       "                        <td id=\"T_fb9c7198_4f05_11eb_b94c_fcaa14fc556erow5_col1\" class=\"data row5 col1\" >0.84375</td>\n",
       "                        <td id=\"T_fb9c7198_4f05_11eb_b94c_fcaa14fc556erow5_col2\" class=\"data row5 col2\" >0.875</td>\n",
       "                        <td id=\"T_fb9c7198_4f05_11eb_b94c_fcaa14fc556erow5_col3\" class=\"data row5 col3\" >0.859375</td>\n",
       "                        <td id=\"T_fb9c7198_4f05_11eb_b94c_fcaa14fc556erow5_col4\" class=\"data row5 col4\" >-0.287734</td>\n",
       "                        <td id=\"T_fb9c7198_4f05_11eb_b94c_fcaa14fc556erow5_col5\" class=\"data row5 col5\" >0.484619</td>\n",
       "                        <td id=\"T_fb9c7198_4f05_11eb_b94c_fcaa14fc556erow5_col6\" class=\"data row5 col6\" >0.0933781</td>\n",
       "            </tr>\n",
       "            <tr>\n",
       "                                <td id=\"T_fb9c7198_4f05_11eb_b94c_fcaa14fc556erow6_col0\" class=\"data row6 col0\" >7</td>\n",
       "                        <td id=\"T_fb9c7198_4f05_11eb_b94c_fcaa14fc556erow6_col1\" class=\"data row6 col1\" >0.84375</td>\n",
       "                        <td id=\"T_fb9c7198_4f05_11eb_b94c_fcaa14fc556erow6_col2\" class=\"data row6 col2\" >0.859375</td>\n",
       "                        <td id=\"T_fb9c7198_4f05_11eb_b94c_fcaa14fc556erow6_col3\" class=\"data row6 col3\" >0.851562</td>\n",
       "                        <td id=\"T_fb9c7198_4f05_11eb_b94c_fcaa14fc556erow6_col4\" class=\"data row6 col4\" >-0.287734</td>\n",
       "                        <td id=\"T_fb9c7198_4f05_11eb_b94c_fcaa14fc556erow6_col5\" class=\"data row6 col5\" >0.0933781</td>\n",
       "                        <td id=\"T_fb9c7198_4f05_11eb_b94c_fcaa14fc556erow6_col6\" class=\"data row6 col6\" >-0.0984334</td>\n",
       "            </tr>\n",
       "            <tr>\n",
       "                                <td id=\"T_fb9c7198_4f05_11eb_b94c_fcaa14fc556erow7_col0\" class=\"data row7 col0\" >8</td>\n",
       "                        <td id=\"T_fb9c7198_4f05_11eb_b94c_fcaa14fc556erow7_col1\" class=\"data row7 col1\" >0.851562</td>\n",
       "                        <td id=\"T_fb9c7198_4f05_11eb_b94c_fcaa14fc556erow7_col2\" class=\"data row7 col2\" >0.859375</td>\n",
       "                        <td id=\"T_fb9c7198_4f05_11eb_b94c_fcaa14fc556erow7_col3\" class=\"data row7 col3\" >0.855469</td>\n",
       "                        <td id=\"T_fb9c7198_4f05_11eb_b94c_fcaa14fc556erow7_col4\" class=\"data row7 col4\" >-0.0984334</td>\n",
       "                        <td id=\"T_fb9c7198_4f05_11eb_b94c_fcaa14fc556erow7_col5\" class=\"data row7 col5\" >0.0933781</td>\n",
       "                        <td id=\"T_fb9c7198_4f05_11eb_b94c_fcaa14fc556erow7_col6\" class=\"data row7 col6\" >-0.00284285</td>\n",
       "            </tr>\n",
       "            <tr>\n",
       "                                <td id=\"T_fb9c7198_4f05_11eb_b94c_fcaa14fc556erow8_col0\" class=\"data row8 col0\" >9</td>\n",
       "                        <td id=\"T_fb9c7198_4f05_11eb_b94c_fcaa14fc556erow8_col1\" class=\"data row8 col1\" >0.855469</td>\n",
       "                        <td id=\"T_fb9c7198_4f05_11eb_b94c_fcaa14fc556erow8_col2\" class=\"data row8 col2\" >0.859375</td>\n",
       "                        <td id=\"T_fb9c7198_4f05_11eb_b94c_fcaa14fc556erow8_col3\" class=\"data row8 col3\" >0.857422</td>\n",
       "                        <td id=\"T_fb9c7198_4f05_11eb_b94c_fcaa14fc556erow8_col4\" class=\"data row8 col4\" >-0.00284285</td>\n",
       "                        <td id=\"T_fb9c7198_4f05_11eb_b94c_fcaa14fc556erow8_col5\" class=\"data row8 col5\" >0.0933781</td>\n",
       "                        <td id=\"T_fb9c7198_4f05_11eb_b94c_fcaa14fc556erow8_col6\" class=\"data row8 col6\" >0.0451887</td>\n",
       "            </tr>\n",
       "            <tr>\n",
       "                                <td id=\"T_fb9c7198_4f05_11eb_b94c_fcaa14fc556erow9_col0\" class=\"data row9 col0\" >10</td>\n",
       "                        <td id=\"T_fb9c7198_4f05_11eb_b94c_fcaa14fc556erow9_col1\" class=\"data row9 col1\" >0.855469</td>\n",
       "                        <td id=\"T_fb9c7198_4f05_11eb_b94c_fcaa14fc556erow9_col2\" class=\"data row9 col2\" >0.857422</td>\n",
       "                        <td id=\"T_fb9c7198_4f05_11eb_b94c_fcaa14fc556erow9_col3\" class=\"data row9 col3\" >0.856445</td>\n",
       "                        <td id=\"T_fb9c7198_4f05_11eb_b94c_fcaa14fc556erow9_col4\" class=\"data row9 col4\" >-0.00284285</td>\n",
       "                        <td id=\"T_fb9c7198_4f05_11eb_b94c_fcaa14fc556erow9_col5\" class=\"data row9 col5\" >0.0451887</td>\n",
       "                        <td id=\"T_fb9c7198_4f05_11eb_b94c_fcaa14fc556erow9_col6\" class=\"data row9 col6\" >0.0211532</td>\n",
       "            </tr>\n",
       "    </tbody></table>"
      ],
      "text/plain": [
       "<pandas.io.formats.style.Styler at 0xf917e80>"
      ]
     },
     "execution_count": 81,
     "metadata": {},
     "output_type": "execute_result"
    }
   ],
   "source": [
    "# f(x) = x^4 + 4(x^3) + 6(x^2) + 3^x - 10\n",
    "f = lambda x:  x**4 + 4*(x**3) + 6*(x**2) + 3*x - 10\n",
    "a = 0\n",
    "b = 1\n",
    "precisao = 1/(10**3)\n",
    "max_iteracoes = 20\n",
    "tabela = bissecao(f, a, b, precisao, max_iteracoes)\n",
    "tabela.style.hide_index()"
   ]
  },
  {
   "cell_type": "markdown",
   "metadata": {},
   "source": [
    "### Resposta\n",
    "\n",
    "Pela tabela, vemos que o zero da função com a precisão especificada é encontrado na décima iteração e é dada por $x =  0.8564453125$"
   ]
  },
  {
   "cell_type": "markdown",
   "metadata": {},
   "source": [
    "#### b)  Repita o exercício anterior partindo de um intervalo de comprimento 0,4\n",
    "\n",
    "Primeiro vamos checar onde está o zero positivo para um intervalo de 0,4."
   ]
  },
  {
   "cell_type": "code",
   "execution_count": 82,
   "metadata": {},
   "outputs": [
    {
     "data": {
      "text/html": [
       "<style  type=\"text/css\" >\n",
       "</style><table id=\"T_fd44d09e_4f05_11eb_805b_fcaa14fc556e\" ><thead>    <tr>        <th class=\"col_heading level0 col0\" >x</th>        <th class=\"col_heading level0 col1\" >f(x)</th>    </tr></thead><tbody>\n",
       "                <tr>\n",
       "                                <td id=\"T_fd44d09e_4f05_11eb_805b_fcaa14fc556erow0_col0\" class=\"data row0 col0\" >0.5</td>\n",
       "                        <td id=\"T_fd44d09e_4f05_11eb_805b_fcaa14fc556erow0_col1\" class=\"data row0 col1\" >-6.4375</td>\n",
       "            </tr>\n",
       "            <tr>\n",
       "                                <td id=\"T_fd44d09e_4f05_11eb_805b_fcaa14fc556erow1_col0\" class=\"data row1 col0\" >0.9</td>\n",
       "                        <td id=\"T_fd44d09e_4f05_11eb_805b_fcaa14fc556erow1_col1\" class=\"data row1 col1\" >1.1321</td>\n",
       "            </tr>\n",
       "    </tbody></table>"
      ],
      "text/plain": [
       "<pandas.io.formats.style.Styler at 0xf9175c0>"
      ]
     },
     "execution_count": 82,
     "metadata": {},
     "output_type": "execute_result"
    }
   ],
   "source": [
    "x = [0.5, 0.9]\n",
    "f_x = [j**4 + 4*(j**3) + 6*(j**2) + 3*j - 10 for j in x]\n",
    "tabela = {'x': pd.Series(data = x), 'f(x)': pd.Series(data = f_x)}\n",
    "tabela = pd.DataFrame(tabela)\n",
    "tabela.style.hide_index()"
   ]
  },
  {
   "cell_type": "markdown",
   "metadata": {},
   "source": [
    "O intervalo $[0.5, 0.9]$ é um bom candidato. Vamos executar o método da bisseção com esses novos parâmetros"
   ]
  },
  {
   "cell_type": "code",
   "execution_count": 83,
   "metadata": {},
   "outputs": [
    {
     "name": "stdout",
     "output_type": "stream",
     "text": [
      "O valor de x que aproxima ao zero da função é: 0.85546875\n"
     ]
    },
    {
     "data": {
      "text/html": [
       "<style  type=\"text/css\" >\n",
       "</style><table id=\"T_fe6e60da_4f05_11eb_afc9_fcaa14fc556e\" ><thead>    <tr>        <th class=\"col_heading level0 col0\" >n</th>        <th class=\"col_heading level0 col1\" >a_n</th>        <th class=\"col_heading level0 col2\" >b_n</th>        <th class=\"col_heading level0 col3\" >x_n</th>        <th class=\"col_heading level0 col4\" >f(a_n)</th>        <th class=\"col_heading level0 col5\" >f(b_n)</th>        <th class=\"col_heading level0 col6\" >f(x_n)</th>    </tr></thead><tbody>\n",
       "                <tr>\n",
       "                                <td id=\"T_fe6e60da_4f05_11eb_afc9_fcaa14fc556erow0_col0\" class=\"data row0 col0\" >1</td>\n",
       "                        <td id=\"T_fe6e60da_4f05_11eb_afc9_fcaa14fc556erow0_col1\" class=\"data row0 col1\" >0.5</td>\n",
       "                        <td id=\"T_fe6e60da_4f05_11eb_afc9_fcaa14fc556erow0_col2\" class=\"data row0 col2\" >0.9</td>\n",
       "                        <td id=\"T_fe6e60da_4f05_11eb_afc9_fcaa14fc556erow0_col3\" class=\"data row0 col3\" >0.7</td>\n",
       "                        <td id=\"T_fe6e60da_4f05_11eb_afc9_fcaa14fc556erow0_col4\" class=\"data row0 col4\" >-6.4375</td>\n",
       "                        <td id=\"T_fe6e60da_4f05_11eb_afc9_fcaa14fc556erow0_col5\" class=\"data row0 col5\" >1.1321</td>\n",
       "                        <td id=\"T_fe6e60da_4f05_11eb_afc9_fcaa14fc556erow0_col6\" class=\"data row0 col6\" >-3.3479</td>\n",
       "            </tr>\n",
       "            <tr>\n",
       "                                <td id=\"T_fe6e60da_4f05_11eb_afc9_fcaa14fc556erow1_col0\" class=\"data row1 col0\" >2</td>\n",
       "                        <td id=\"T_fe6e60da_4f05_11eb_afc9_fcaa14fc556erow1_col1\" class=\"data row1 col1\" >0.7</td>\n",
       "                        <td id=\"T_fe6e60da_4f05_11eb_afc9_fcaa14fc556erow1_col2\" class=\"data row1 col2\" >0.9</td>\n",
       "                        <td id=\"T_fe6e60da_4f05_11eb_afc9_fcaa14fc556erow1_col3\" class=\"data row1 col3\" >0.8</td>\n",
       "                        <td id=\"T_fe6e60da_4f05_11eb_afc9_fcaa14fc556erow1_col4\" class=\"data row1 col4\" >-3.3479</td>\n",
       "                        <td id=\"T_fe6e60da_4f05_11eb_afc9_fcaa14fc556erow1_col5\" class=\"data row1 col5\" >1.1321</td>\n",
       "                        <td id=\"T_fe6e60da_4f05_11eb_afc9_fcaa14fc556erow1_col6\" class=\"data row1 col6\" >-1.3024</td>\n",
       "            </tr>\n",
       "            <tr>\n",
       "                                <td id=\"T_fe6e60da_4f05_11eb_afc9_fcaa14fc556erow2_col0\" class=\"data row2 col0\" >3</td>\n",
       "                        <td id=\"T_fe6e60da_4f05_11eb_afc9_fcaa14fc556erow2_col1\" class=\"data row2 col1\" >0.8</td>\n",
       "                        <td id=\"T_fe6e60da_4f05_11eb_afc9_fcaa14fc556erow2_col2\" class=\"data row2 col2\" >0.9</td>\n",
       "                        <td id=\"T_fe6e60da_4f05_11eb_afc9_fcaa14fc556erow2_col3\" class=\"data row2 col3\" >0.85</td>\n",
       "                        <td id=\"T_fe6e60da_4f05_11eb_afc9_fcaa14fc556erow2_col4\" class=\"data row2 col4\" >-1.3024</td>\n",
       "                        <td id=\"T_fe6e60da_4f05_11eb_afc9_fcaa14fc556erow2_col5\" class=\"data row2 col5\" >1.1321</td>\n",
       "                        <td id=\"T_fe6e60da_4f05_11eb_afc9_fcaa14fc556erow2_col6\" class=\"data row2 col6\" >-0.136494</td>\n",
       "            </tr>\n",
       "            <tr>\n",
       "                                <td id=\"T_fe6e60da_4f05_11eb_afc9_fcaa14fc556erow3_col0\" class=\"data row3 col0\" >4</td>\n",
       "                        <td id=\"T_fe6e60da_4f05_11eb_afc9_fcaa14fc556erow3_col1\" class=\"data row3 col1\" >0.85</td>\n",
       "                        <td id=\"T_fe6e60da_4f05_11eb_afc9_fcaa14fc556erow3_col2\" class=\"data row3 col2\" >0.9</td>\n",
       "                        <td id=\"T_fe6e60da_4f05_11eb_afc9_fcaa14fc556erow3_col3\" class=\"data row3 col3\" >0.875</td>\n",
       "                        <td id=\"T_fe6e60da_4f05_11eb_afc9_fcaa14fc556erow3_col4\" class=\"data row3 col4\" >-0.136494</td>\n",
       "                        <td id=\"T_fe6e60da_4f05_11eb_afc9_fcaa14fc556erow3_col5\" class=\"data row3 col5\" >1.1321</td>\n",
       "                        <td id=\"T_fe6e60da_4f05_11eb_afc9_fcaa14fc556erow3_col6\" class=\"data row3 col6\" >0.484619</td>\n",
       "            </tr>\n",
       "            <tr>\n",
       "                                <td id=\"T_fe6e60da_4f05_11eb_afc9_fcaa14fc556erow4_col0\" class=\"data row4 col0\" >5</td>\n",
       "                        <td id=\"T_fe6e60da_4f05_11eb_afc9_fcaa14fc556erow4_col1\" class=\"data row4 col1\" >0.85</td>\n",
       "                        <td id=\"T_fe6e60da_4f05_11eb_afc9_fcaa14fc556erow4_col2\" class=\"data row4 col2\" >0.875</td>\n",
       "                        <td id=\"T_fe6e60da_4f05_11eb_afc9_fcaa14fc556erow4_col3\" class=\"data row4 col3\" >0.8625</td>\n",
       "                        <td id=\"T_fe6e60da_4f05_11eb_afc9_fcaa14fc556erow4_col4\" class=\"data row4 col4\" >-0.136494</td>\n",
       "                        <td id=\"T_fe6e60da_4f05_11eb_afc9_fcaa14fc556erow4_col5\" class=\"data row4 col5\" >0.484619</td>\n",
       "                        <td id=\"T_fe6e60da_4f05_11eb_afc9_fcaa14fc556erow4_col6\" class=\"data row4 col6\" >0.170811</td>\n",
       "            </tr>\n",
       "            <tr>\n",
       "                                <td id=\"T_fe6e60da_4f05_11eb_afc9_fcaa14fc556erow5_col0\" class=\"data row5 col0\" >6</td>\n",
       "                        <td id=\"T_fe6e60da_4f05_11eb_afc9_fcaa14fc556erow5_col1\" class=\"data row5 col1\" >0.85</td>\n",
       "                        <td id=\"T_fe6e60da_4f05_11eb_afc9_fcaa14fc556erow5_col2\" class=\"data row5 col2\" >0.8625</td>\n",
       "                        <td id=\"T_fe6e60da_4f05_11eb_afc9_fcaa14fc556erow5_col3\" class=\"data row5 col3\" >0.85625</td>\n",
       "                        <td id=\"T_fe6e60da_4f05_11eb_afc9_fcaa14fc556erow5_col4\" class=\"data row5 col4\" >-0.136494</td>\n",
       "                        <td id=\"T_fe6e60da_4f05_11eb_afc9_fcaa14fc556erow5_col5\" class=\"data row5 col5\" >0.170811</td>\n",
       "                        <td id=\"T_fe6e60da_4f05_11eb_afc9_fcaa14fc556erow5_col6\" class=\"data row5 col6\" >0.0163508</td>\n",
       "            </tr>\n",
       "            <tr>\n",
       "                                <td id=\"T_fe6e60da_4f05_11eb_afc9_fcaa14fc556erow6_col0\" class=\"data row6 col0\" >7</td>\n",
       "                        <td id=\"T_fe6e60da_4f05_11eb_afc9_fcaa14fc556erow6_col1\" class=\"data row6 col1\" >0.85</td>\n",
       "                        <td id=\"T_fe6e60da_4f05_11eb_afc9_fcaa14fc556erow6_col2\" class=\"data row6 col2\" >0.85625</td>\n",
       "                        <td id=\"T_fe6e60da_4f05_11eb_afc9_fcaa14fc556erow6_col3\" class=\"data row6 col3\" >0.853125</td>\n",
       "                        <td id=\"T_fe6e60da_4f05_11eb_afc9_fcaa14fc556erow6_col4\" class=\"data row6 col4\" >-0.136494</td>\n",
       "                        <td id=\"T_fe6e60da_4f05_11eb_afc9_fcaa14fc556erow6_col5\" class=\"data row6 col5\" >0.0163508</td>\n",
       "                        <td id=\"T_fe6e60da_4f05_11eb_afc9_fcaa14fc556erow6_col6\" class=\"data row6 col6\" >-0.0602727</td>\n",
       "            </tr>\n",
       "            <tr>\n",
       "                                <td id=\"T_fe6e60da_4f05_11eb_afc9_fcaa14fc556erow7_col0\" class=\"data row7 col0\" >8</td>\n",
       "                        <td id=\"T_fe6e60da_4f05_11eb_afc9_fcaa14fc556erow7_col1\" class=\"data row7 col1\" >0.853125</td>\n",
       "                        <td id=\"T_fe6e60da_4f05_11eb_afc9_fcaa14fc556erow7_col2\" class=\"data row7 col2\" >0.85625</td>\n",
       "                        <td id=\"T_fe6e60da_4f05_11eb_afc9_fcaa14fc556erow7_col3\" class=\"data row7 col3\" >0.854688</td>\n",
       "                        <td id=\"T_fe6e60da_4f05_11eb_afc9_fcaa14fc556erow7_col4\" class=\"data row7 col4\" >-0.0602727</td>\n",
       "                        <td id=\"T_fe6e60da_4f05_11eb_afc9_fcaa14fc556erow7_col5\" class=\"data row7 col5\" >0.0163508</td>\n",
       "                        <td id=\"T_fe6e60da_4f05_11eb_afc9_fcaa14fc556erow7_col6\" class=\"data row7 col6\" >-0.0220113</td>\n",
       "            </tr>\n",
       "            <tr>\n",
       "                                <td id=\"T_fe6e60da_4f05_11eb_afc9_fcaa14fc556erow8_col0\" class=\"data row8 col0\" >9</td>\n",
       "                        <td id=\"T_fe6e60da_4f05_11eb_afc9_fcaa14fc556erow8_col1\" class=\"data row8 col1\" >0.854688</td>\n",
       "                        <td id=\"T_fe6e60da_4f05_11eb_afc9_fcaa14fc556erow8_col2\" class=\"data row8 col2\" >0.85625</td>\n",
       "                        <td id=\"T_fe6e60da_4f05_11eb_afc9_fcaa14fc556erow8_col3\" class=\"data row8 col3\" >0.855469</td>\n",
       "                        <td id=\"T_fe6e60da_4f05_11eb_afc9_fcaa14fc556erow8_col4\" class=\"data row8 col4\" >-0.0220113</td>\n",
       "                        <td id=\"T_fe6e60da_4f05_11eb_afc9_fcaa14fc556erow8_col5\" class=\"data row8 col5\" >0.0163508</td>\n",
       "                        <td id=\"T_fe6e60da_4f05_11eb_afc9_fcaa14fc556erow8_col6\" class=\"data row8 col6\" >-0.00284285</td>\n",
       "            </tr>\n",
       "    </tbody></table>"
      ],
      "text/plain": [
       "<pandas.io.formats.style.Styler at 0xf927128>"
      ]
     },
     "execution_count": 83,
     "metadata": {},
     "output_type": "execute_result"
    }
   ],
   "source": [
    "f = lambda x:  x**4 + 4*(x**3) + 6*(x**2) + 3*x - 10\n",
    "a = 0.5\n",
    "b = 0.9\n",
    "precisao = 1/(10**3)\n",
    "max_iteracoes = 20\n",
    "tabela = bissecao(f, a, b, precisao, max_iteracoes)\n",
    "tabela.style.hide_index()"
   ]
  },
  {
   "cell_type": "markdown",
   "metadata": {},
   "source": [
    "### Resposta\n",
    "\n",
    "Foi necessária uma iteração a menos nesse caso! O zero da função encontrado:  $0.85546875$."
   ]
  },
  {
   "cell_type": "markdown",
   "metadata": {},
   "source": [
    " \n",
    "#### c) Encontre, pelo Método de Newton, o zero positivo de f. Use como critério de parada $|x_n - x_{n-1}| < 10^{-4}$.\n",
    "\n",
    "#### Use 7 casas decimais nos cálculos e arredondamento."
   ]
  },
  {
   "cell_type": "markdown",
   "metadata": {},
   "source": [
    "Precisamos escrever uma função também para o método de newton. Também é preciso escrever a derivada de uma função na sua forma  numérica(diferenças finitas)."
   ]
  },
  {
   "cell_type": "code",
   "execution_count": 24,
   "metadata": {},
   "outputs": [],
   "source": [
    "import pandas as pd\n",
    "\n",
    "\n",
    "def newton(f, chute_inicial, precisao, max_iteracoes):\n",
    "    '''\n",
    "    - Função: newton(f, chute_inicial, precisao, max_iteracoes)\n",
    "    - Autor: Eduardo Freire Mangabeira\n",
    "    - Obtém um zero de uma função pelo método de Newton.\n",
    "    - Feito a partir das aulas do professor Hamilton e do livro Burden, R. L., & Faires, D. J. (1985). Numerical analysis.\n",
    "    - É precisso passar uma expressão lambda para o parâmetro 'f', fiz isso para deixar o código mais geral e menos verboso.\n",
    "    - Para expresões lambda, visitar: http://www.dsc.ufcg.edu.br/~pet/jornal/maio2013/materias/tutoriais.html.\n",
    "    '''\n",
    "    i = 1\n",
    "    derivada_numerica = lambda x: (f(x+precisao)-f(x))/ precisao\n",
    "    dados = {'n':[], 'x_n':[], 'f(x_n)':[], 'f\\'x_n':[], '|x_n - x_n-1|':[]}\n",
    "    tabela = pd.DataFrame(dados)\n",
    "    while i<= max_iteracoes:\n",
    "        solucao = chute_inicial - f(chute_inicial)/derivada_numerica(chute_inicial)\n",
    "        dados2 = {'n':[i], 'x_n':[chute_inicial], 'f(x_n)':[f(chute_inicial)], 'f\\'x_n':[derivada_numerica(chute_inicial)], \n",
    "                  '|x_n - x_n-1|':[abs(solucao - chute_inicial)]}\n",
    "        tabela2 = pd.DataFrame(dados2)\n",
    "        tabela = tabela.append(tabela2, ignore_index = True)\n",
    "        if abs(solucao - chute_inicial) < precisao:\n",
    "            print(\"O valor de x que aproxima ao zero da função é {0:.7f}\".format(solucao))\n",
    "            return tabela\n",
    "        i = i + 1\n",
    "        chute_inicial = solucao"
   ]
  },
  {
   "cell_type": "code",
   "execution_count": 47,
   "metadata": {},
   "outputs": [
    {
     "name": "stdout",
     "output_type": "stream",
     "text": [
      "\n",
      "    - Função: newton(f, chute_inicial, precisao, max_iteracoes)\n",
      "    - Autor: Eduardo Freire Mangabeira\n",
      "    - Obtém um zero de uma função pelo método de Newton.\n",
      "    - Feito a partir das aulas do professor Hamilton e do livro Burden, R. L., & Faires, D. J. (1985). Numerical analysis.\n",
      "    - É precisso passar uma expressão lambda para o parâmetro 'f', fiz isso para deixar o código mais geral e menos verboso.\n",
      "    - Para expresões lambda, visitar: http://www.dsc.ufcg.edu.br/~pet/jornal/maio2013/materias/tutoriais.html.\n",
      "    \n"
     ]
    }
   ],
   "source": [
    "print(newton.__doc__)"
   ]
  },
  {
   "cell_type": "markdown",
   "metadata": {},
   "source": [
    "Agora basta fornecer os valores dados pela questão para encontrar a solução. \n",
    "\n",
    "### Escolhendo o chute inicial\n",
    "\n",
    "Sabemos que o zero positivo está em $[0,1]$.\n",
    "\n",
    "Para escolher o $x_0$(chute_inicial), vamos escolher o extremo do intervalo que ao ser aplicado na função tem o mesmo sinal da segunda derivada.\n",
    "\n",
    "$f(0) = -10 < 0$  ,   $f(1) = 4 > 0$\n",
    "\n",
    "<br>\n",
    "\n",
    "$f'(x) = 4x^3 + 12(x^2) + 12x + 3$\n",
    "$f'(0) = 3 > 0$  ,   $f'(1) = 31 > 0$\n",
    "\n",
    "<br>\n",
    "\n",
    "$f''(x) = 12x^2 + 24x +12 $, temos $f''(x) > 0$ para x em $[0,1]$\n",
    "\n",
    "<br>\n",
    "\n",
    "Logo, a extremidade que possui o mesmo sinal da segunda derivada é $x = 1$ e será nosso chute inicial."
   ]
  },
  {
   "cell_type": "code",
   "execution_count": 85,
   "metadata": {},
   "outputs": [
    {
     "name": "stdout",
     "output_type": "stream",
     "text": [
      "O valor de x que aproxima ao zero da função é 0.8555845\n"
     ]
    },
    {
     "data": {
      "text/html": [
       "<style  type=\"text/css\" >\n",
       "</style><table id=\"T_068e6c3e_4f06_11eb_ab2a_fcaa14fc556e\" ><thead>    <tr>        <th class=\"col_heading level0 col0\" >n</th>        <th class=\"col_heading level0 col1\" >x_n</th>        <th class=\"col_heading level0 col2\" >f(x_n)</th>        <th class=\"col_heading level0 col3\" >f'x_n</th>        <th class=\"col_heading level0 col4\" >|x_n - x_n-1|</th>    </tr></thead><tbody>\n",
       "                <tr>\n",
       "                                <td id=\"T_068e6c3e_4f06_11eb_ab2a_fcaa14fc556erow0_col0\" class=\"data row0 col0\" >1</td>\n",
       "                        <td id=\"T_068e6c3e_4f06_11eb_ab2a_fcaa14fc556erow0_col1\" class=\"data row0 col1\" >1</td>\n",
       "                        <td id=\"T_068e6c3e_4f06_11eb_ab2a_fcaa14fc556erow0_col2\" class=\"data row0 col2\" >4</td>\n",
       "                        <td id=\"T_068e6c3e_4f06_11eb_ab2a_fcaa14fc556erow0_col3\" class=\"data row0 col3\" >31.0024</td>\n",
       "                        <td id=\"T_068e6c3e_4f06_11eb_ab2a_fcaa14fc556erow0_col4\" class=\"data row0 col4\" >0.129022</td>\n",
       "            </tr>\n",
       "            <tr>\n",
       "                                <td id=\"T_068e6c3e_4f06_11eb_ab2a_fcaa14fc556erow1_col0\" class=\"data row1 col0\" >2</td>\n",
       "                        <td id=\"T_068e6c3e_4f06_11eb_ab2a_fcaa14fc556erow1_col1\" class=\"data row1 col1\" >0.870978</td>\n",
       "                        <td id=\"T_068e6c3e_4f06_11eb_ab2a_fcaa14fc556erow1_col2\" class=\"data row1 col2\" >0.382926</td>\n",
       "                        <td id=\"T_068e6c3e_4f06_11eb_ab2a_fcaa14fc556erow1_col3\" class=\"data row1 col3\" >25.2</td>\n",
       "                        <td id=\"T_068e6c3e_4f06_11eb_ab2a_fcaa14fc556erow1_col4\" class=\"data row1 col4\" >0.0151955</td>\n",
       "            </tr>\n",
       "            <tr>\n",
       "                                <td id=\"T_068e6c3e_4f06_11eb_ab2a_fcaa14fc556erow2_col0\" class=\"data row2 col0\" >3</td>\n",
       "                        <td id=\"T_068e6c3e_4f06_11eb_ab2a_fcaa14fc556erow2_col1\" class=\"data row2 col1\" >0.855782</td>\n",
       "                        <td id=\"T_068e6c3e_4f06_11eb_ab2a_fcaa14fc556erow2_col2\" class=\"data row2 col2\" >0.00485546</td>\n",
       "                        <td id=\"T_068e6c3e_4f06_11eb_ab2a_fcaa14fc556erow2_col3\" class=\"data row2 col3\" >24.5668</td>\n",
       "                        <td id=\"T_068e6c3e_4f06_11eb_ab2a_fcaa14fc556erow2_col4\" class=\"data row2 col4\" >0.000197643</td>\n",
       "            </tr>\n",
       "            <tr>\n",
       "                                <td id=\"T_068e6c3e_4f06_11eb_ab2a_fcaa14fc556erow3_col0\" class=\"data row3 col0\" >4</td>\n",
       "                        <td id=\"T_068e6c3e_4f06_11eb_ab2a_fcaa14fc556erow3_col1\" class=\"data row3 col1\" >0.855585</td>\n",
       "                        <td id=\"T_068e6c3e_4f06_11eb_ab2a_fcaa14fc556erow3_col2\" class=\"data row3 col2\" >1.21554e-06</td>\n",
       "                        <td id=\"T_068e6c3e_4f06_11eb_ab2a_fcaa14fc556erow3_col3\" class=\"data row3 col3\" >24.5586</td>\n",
       "                        <td id=\"T_068e6c3e_4f06_11eb_ab2a_fcaa14fc556erow3_col4\" class=\"data row3 col4\" >4.94953e-08</td>\n",
       "            </tr>\n",
       "    </tbody></table>"
      ],
      "text/plain": [
       "<pandas.io.formats.style.Styler at 0xf927048>"
      ]
     },
     "execution_count": 85,
     "metadata": {},
     "output_type": "execute_result"
    }
   ],
   "source": [
    "f = lambda x:  x**4 + 4*(x**3) + 6*(x**2) + 3*x - 10\n",
    "chute_inicial = 1\n",
    "precisao = 1/(10**4)\n",
    "max_iteracoes = 10\n",
    "\n",
    "tabela = newton(f, chute_inicial, precisao, max_iteracoes)\n",
    "tabela.style.hide_index()"
   ]
  },
  {
   "cell_type": "markdown",
   "metadata": {},
   "source": [
    "### Resposta\n",
    "\n",
    "Precisamos de apenas 4 iterações para encontrar que o zero positivo da função é dado por $x = 0.8555845$"
   ]
  },
  {
   "cell_type": "markdown",
   "metadata": {},
   "source": [
    "# Exercício 2\n",
    "\n",
    "Encontre $\\sqrt[4]70$ com precisão $10^{-4}$, usando o Método de Newton e 6 casas decimais nos cálculos e arredondamento."
   ]
  },
  {
   "cell_type": "markdown",
   "metadata": {},
   "source": [
    "Basta usarmos a função que escrevemos para o método de newton com os novos parâmetros!\n",
    "\n",
    "- Obs: Para alterar o número de casas decimais exibidas no resultado final, é preciso alterar a seguinte linha:\n",
    "\n",
    "- ```print(\"O valor de x que aproxima ao zero da função é {0:.7f}\".format(solucao))```\n",
    "\n",
    "- O número que está entre chaves é a quantidade de casas decimais."
   ]
  },
  {
   "cell_type": "markdown",
   "metadata": {},
   "source": [
    "### Mas onde pode estar o zero da função? \n",
    "\n",
    "É preciso enxergar uma função para aproximar o valor especificado. No caso:\n",
    "\n",
    "$$f(x) = x^4 - 70$$\n",
    "\n",
    "Sabe-se que a raiz quarta de 81 é 3, e a raiz quarta de 16 é 2.\n",
    "\n",
    "$\\sqrt[4]81 = 3$\n",
    "\n",
    "$\\sqrt[4]16 = 2$\n",
    "\n",
    "Logo, percebe-se que a raiz quarta de 70 está no intervalo $[2,3]$.\n",
    "\n",
    "\n",
    "### Escolhendo o chute inicial\n",
    "\n",
    "Para escolher o $x_0$(chute_inicial), vamos escolher o extremo do intervalo que ao ser aplicado na função tem o mesmo sinal da segunda derivada.\n",
    "\n",
    "$f(2) = 16 - 70 < 0$  ,   $f(3) = 81 - 70 > 0$\n",
    "\n",
    "<br>\n",
    "\n",
    "$f'(x) = 4x^3 $\n",
    "$f'(2) = 32 > 0$  ,   $f'(3) = 108 > 0$\n",
    "\n",
    "<br>\n",
    "\n",
    "$f''(x) = 12x^2$, temos $f''(x) > 0$ para x em $[2,3]$\n",
    "\n",
    "<br>\n",
    "\n",
    "Logo, a extremidade que possui o mesmo sinal da segunda derivada é $x = 3$ e será nosso chute inicial."
   ]
  },
  {
   "cell_type": "code",
   "execution_count": 26,
   "metadata": {},
   "outputs": [
    {
     "name": "stdout",
     "output_type": "stream",
     "text": [
      "O valor de x que aproxima ao zero da função é 2.8925076\n"
     ]
    },
    {
     "data": {
      "text/html": [
       "<style  type=\"text/css\" >\n",
       "</style><table id=\"T_a5ac2d96_584b_11eb_9725_a463a108a0eb\" ><thead>    <tr>        <th class=\"col_heading level0 col0\" >n</th>        <th class=\"col_heading level0 col1\" >x_n</th>        <th class=\"col_heading level0 col2\" >f(x_n)</th>        <th class=\"col_heading level0 col3\" >f'x_n</th>        <th class=\"col_heading level0 col4\" >|x_n - x_n-1|</th>    </tr></thead><tbody>\n",
       "                <tr>\n",
       "                                <td id=\"T_a5ac2d96_584b_11eb_9725_a463a108a0ebrow0_col0\" class=\"data row0 col0\" >1.000000</td>\n",
       "                        <td id=\"T_a5ac2d96_584b_11eb_9725_a463a108a0ebrow0_col1\" class=\"data row0 col1\" >3.000000</td>\n",
       "                        <td id=\"T_a5ac2d96_584b_11eb_9725_a463a108a0ebrow0_col2\" class=\"data row0 col2\" >11.000000</td>\n",
       "                        <td id=\"T_a5ac2d96_584b_11eb_9725_a463a108a0ebrow0_col3\" class=\"data row0 col3\" >108.005400</td>\n",
       "                        <td id=\"T_a5ac2d96_584b_11eb_9725_a463a108a0ebrow0_col4\" class=\"data row0 col4\" >0.101847</td>\n",
       "            </tr>\n",
       "            <tr>\n",
       "                                <td id=\"T_a5ac2d96_584b_11eb_9725_a463a108a0ebrow1_col0\" class=\"data row1 col0\" >2.000000</td>\n",
       "                        <td id=\"T_a5ac2d96_584b_11eb_9725_a463a108a0ebrow1_col1\" class=\"data row1 col1\" >2.898153</td>\n",
       "                        <td id=\"T_a5ac2d96_584b_11eb_9725_a463a108a0ebrow1_col2\" class=\"data row1 col2\" >0.548110</td>\n",
       "                        <td id=\"T_a5ac2d96_584b_11eb_9725_a463a108a0ebrow1_col3\" class=\"data row1 col3\" >97.374783</td>\n",
       "                        <td id=\"T_a5ac2d96_584b_11eb_9725_a463a108a0ebrow1_col4\" class=\"data row1 col4\" >0.005629</td>\n",
       "            </tr>\n",
       "            <tr>\n",
       "                                <td id=\"T_a5ac2d96_584b_11eb_9725_a463a108a0ebrow2_col0\" class=\"data row2 col0\" >3.000000</td>\n",
       "                        <td id=\"T_a5ac2d96_584b_11eb_9725_a463a108a0ebrow2_col1\" class=\"data row2 col1\" >2.892524</td>\n",
       "                        <td id=\"T_a5ac2d96_584b_11eb_9725_a463a108a0ebrow2_col2\" class=\"data row2 col2\" >0.001623</td>\n",
       "                        <td id=\"T_a5ac2d96_584b_11eb_9725_a463a108a0ebrow2_col3\" class=\"data row2 col3\" >96.808523</td>\n",
       "                        <td id=\"T_a5ac2d96_584b_11eb_9725_a463a108a0ebrow2_col4\" class=\"data row2 col4\" >0.000017</td>\n",
       "            </tr>\n",
       "    </tbody></table>"
      ],
      "text/plain": [
       "<pandas.io.formats.style.Styler at 0x6703f88>"
      ]
     },
     "execution_count": 26,
     "metadata": {},
     "output_type": "execute_result"
    }
   ],
   "source": [
    "f = lambda x: x**4 - 70\n",
    "chute_inicial = 3\n",
    "precisao = 1/(10**4)\n",
    "max_iteracoes = 10\n",
    "\n",
    "tabela = newton(f, chute_inicial, precisao, max_iteracoes)\n",
    "tabela.style.hide_index()"
   ]
  },
  {
   "cell_type": "markdown",
   "metadata": {},
   "source": [
    "### Resultado\n",
    "\n",
    "Precisamos de apenas 3 iterações para obter que a raiz quarta de 70 é aproximadamente 2.892508."
   ]
  },
  {
   "cell_type": "markdown",
   "metadata": {},
   "source": [
    "# Exercício 3"
   ]
  },
  {
   "cell_type": "markdown",
   "metadata": {},
   "source": [
    " Seja $g(x) = sen(x) - 2e^{-x}$. Encontre a menor raiz da equação $g(x) = 0$, pelo método de Newton, usando $|g(x_n)|< 10^{−4}$\n",
    "como critério de parada."
   ]
  },
  {
   "cell_type": "markdown",
   "metadata": {},
   "source": [
    "Vamos começar observando a tabela."
   ]
  },
  {
   "cell_type": "code",
   "execution_count": 64,
   "metadata": {},
   "outputs": [
    {
     "data": {
      "text/html": [
       "<style  type=\"text/css\" >\n",
       "</style><table id=\"T_3d6b0964_584e_11eb_be28_a463a108a0eb\" ><thead>    <tr>        <th class=\"col_heading level0 col0\" >x</th>        <th class=\"col_heading level0 col1\" >g(x)</th>    </tr></thead><tbody>\n",
       "                <tr>\n",
       "                                <td id=\"T_3d6b0964_584e_11eb_be28_a463a108a0ebrow0_col0\" class=\"data row0 col0\" >-3</td>\n",
       "                        <td id=\"T_3d6b0964_584e_11eb_be28_a463a108a0ebrow0_col1\" class=\"data row0 col1\" >-40.312194</td>\n",
       "            </tr>\n",
       "            <tr>\n",
       "                                <td id=\"T_3d6b0964_584e_11eb_be28_a463a108a0ebrow1_col0\" class=\"data row1 col0\" >-2</td>\n",
       "                        <td id=\"T_3d6b0964_584e_11eb_be28_a463a108a0ebrow1_col1\" class=\"data row1 col1\" >-15.687410</td>\n",
       "            </tr>\n",
       "            <tr>\n",
       "                                <td id=\"T_3d6b0964_584e_11eb_be28_a463a108a0ebrow2_col0\" class=\"data row2 col0\" >-1</td>\n",
       "                        <td id=\"T_3d6b0964_584e_11eb_be28_a463a108a0ebrow2_col1\" class=\"data row2 col1\" >-6.278035</td>\n",
       "            </tr>\n",
       "            <tr>\n",
       "                                <td id=\"T_3d6b0964_584e_11eb_be28_a463a108a0ebrow3_col0\" class=\"data row3 col0\" >0</td>\n",
       "                        <td id=\"T_3d6b0964_584e_11eb_be28_a463a108a0ebrow3_col1\" class=\"data row3 col1\" >-2.000000</td>\n",
       "            </tr>\n",
       "            <tr>\n",
       "                                <td id=\"T_3d6b0964_584e_11eb_be28_a463a108a0ebrow4_col0\" class=\"data row4 col0\" >1</td>\n",
       "                        <td id=\"T_3d6b0964_584e_11eb_be28_a463a108a0ebrow4_col1\" class=\"data row4 col1\" >0.105712</td>\n",
       "            </tr>\n",
       "            <tr>\n",
       "                                <td id=\"T_3d6b0964_584e_11eb_be28_a463a108a0ebrow5_col0\" class=\"data row5 col0\" >2</td>\n",
       "                        <td id=\"T_3d6b0964_584e_11eb_be28_a463a108a0ebrow5_col1\" class=\"data row5 col1\" >0.638627</td>\n",
       "            </tr>\n",
       "            <tr>\n",
       "                                <td id=\"T_3d6b0964_584e_11eb_be28_a463a108a0ebrow6_col0\" class=\"data row6 col0\" >5</td>\n",
       "                        <td id=\"T_3d6b0964_584e_11eb_be28_a463a108a0ebrow6_col1\" class=\"data row6 col1\" >-0.972400</td>\n",
       "            </tr>\n",
       "            <tr>\n",
       "                                <td id=\"T_3d6b0964_584e_11eb_be28_a463a108a0ebrow7_col0\" class=\"data row7 col0\" >20</td>\n",
       "                        <td id=\"T_3d6b0964_584e_11eb_be28_a463a108a0ebrow7_col1\" class=\"data row7 col1\" >0.912945</td>\n",
       "            </tr>\n",
       "    </tbody></table>"
      ],
      "text/plain": [
       "<pandas.io.formats.style.Styler at 0xfd6fd18>"
      ]
     },
     "execution_count": 64,
     "metadata": {},
     "output_type": "execute_result"
    }
   ],
   "source": [
    "import pandas as pd\n",
    "import numpy as np\n",
    "\n",
    "x = [-3, -2,-1, 0, 1, 2, 5, 20]\n",
    "f_x = [np.sin(j) - 2*np.exp(-j) for j in x]\n",
    "tabela = {'x': pd.Series(data = x), 'g(x)': pd.Series(data = f_x)}\n",
    "tabela = pd.DataFrame(tabela)\n",
    "tabela.style.hide_index()"
   ]
  },
  {
   "cell_type": "markdown",
   "metadata": {},
   "source": [
    "Para valores de x menores do que zero a função é sempre negativa, pois a função exponencial cresce muito rapidamente enquanto a função seno é limitada ao intervalo $[-1, 1]$. A menor raiz está portanto no intervalo $[0,1]$.\n",
    "\n",
    "\n",
    "#### Critério de parada\n",
    "\n",
    "Teremos que reescrever a função do método de Newton para que o método de parada não seja mais o erro absoluto, e sim a distância. Podemos escrever uma função que peça ao usuário para inserir qual critério de parada desejado, mas por praticidade vou apenas alterar uma linha na função original."
   ]
  },
  {
   "cell_type": "code",
   "execution_count": 11,
   "metadata": {},
   "outputs": [],
   "source": [
    "import pandas as pd\n",
    "\n",
    "\n",
    "def newton_dist(f, chute_inicial, precisao, max_iteracoes):\n",
    "    '''\n",
    "    - Função: newton_dist(f, chute_inicial, precisao, max_iteracoes)\n",
    "    - Autor: Eduardo Freire Mangabeira\n",
    "    - Obtém um zero de uma função pelo método de Newton. Toma a distância como critério de parada.\n",
    "    - Feito a partir das aulas do professor Hamilton e do livro Burden, R. L., & Faires, D. J. (1985). Numerical analysis.\n",
    "    - É precisso passar uma expressão lambda para o parâmetro 'f', fiz isso para deixar o código mais geral e menos verboso.\n",
    "    - Para expresões lambda, visitar: http://www.dsc.ufcg.edu.br/~pet/jornal/maio2013/materias/tutoriais.html.\n",
    "    '''\n",
    "    i = 1\n",
    "    derivada_numerica = lambda x: (f(x+precisao)-f(x))/ precisao\n",
    "    dados = {'n':[], 'x_n':[], 'f(x_n)':[], 'f\\'x_n':[], '|f(x_n)|':[]}\n",
    "    tabela = pd.DataFrame(dados)\n",
    "    while i<= max_iteracoes:\n",
    "        solucao = chute_inicial - f(chute_inicial)/derivada_numerica(chute_inicial)\n",
    "        dados2 = {'n':[i], 'x_n':[chute_inicial], 'f(x_n)':[f(chute_inicial)], 'f\\'x_n':[derivada_numerica(chute_inicial)], \n",
    "                  '|f(x_n)|':[abs(f(solucao))]}\n",
    "        tabela2 = pd.DataFrame(dados2)\n",
    "        tabela = tabela.append(tabela2, ignore_index = True)\n",
    "        if abs(f(solucao)) < precisao:\n",
    "            print(\"O valor de x que aproxima ao zero da função é {0:.7f}\".format(solucao))\n",
    "            return tabela\n",
    "        i = i + 1\n",
    "        chute_inicial = solucao"
   ]
  },
  {
   "cell_type": "markdown",
   "metadata": {},
   "source": [
    "Antes de usar a função, vamos verificar qual é o melhor chute inicial, ou seja, o extremo do intervalo que possui mesmo sinal da segunda derivada."
   ]
  },
  {
   "cell_type": "markdown",
   "metadata": {},
   "source": [
    "$f(0) = 0 - 2 = -2 < 0$, $f(1) = 0.8414 - 0.7357 > 0$"
   ]
  },
  {
   "cell_type": "code",
   "execution_count": 65,
   "metadata": {},
   "outputs": [
    {
     "data": {
      "text/html": [
       "<style  type=\"text/css\" >\n",
       "</style><table id=\"T_412af98b_584e_11eb_98d1_a463a108a0eb\" ><thead>    <tr>        <th class=\"col_heading level0 col0\" >x</th>        <th class=\"col_heading level0 col1\" >g'(x)</th>    </tr></thead><tbody>\n",
       "                <tr>\n",
       "                                <td id=\"T_412af98b_584e_11eb_98d1_a463a108a0ebrow0_col0\" class=\"data row0 col0\" >0.000000</td>\n",
       "                        <td id=\"T_412af98b_584e_11eb_98d1_a463a108a0ebrow0_col1\" class=\"data row0 col1\" >3.000000</td>\n",
       "            </tr>\n",
       "            <tr>\n",
       "                                <td id=\"T_412af98b_584e_11eb_98d1_a463a108a0ebrow1_col0\" class=\"data row1 col0\" >0.250000</td>\n",
       "                        <td id=\"T_412af98b_584e_11eb_98d1_a463a108a0ebrow1_col1\" class=\"data row1 col1\" >2.526514</td>\n",
       "            </tr>\n",
       "            <tr>\n",
       "                                <td id=\"T_412af98b_584e_11eb_98d1_a463a108a0ebrow2_col0\" class=\"data row2 col0\" >0.500000</td>\n",
       "                        <td id=\"T_412af98b_584e_11eb_98d1_a463a108a0ebrow2_col1\" class=\"data row2 col1\" >2.090644</td>\n",
       "            </tr>\n",
       "            <tr>\n",
       "                                <td id=\"T_412af98b_584e_11eb_98d1_a463a108a0ebrow3_col0\" class=\"data row3 col0\" >0.750000</td>\n",
       "                        <td id=\"T_412af98b_584e_11eb_98d1_a463a108a0ebrow3_col1\" class=\"data row3 col1\" >1.676422</td>\n",
       "            </tr>\n",
       "            <tr>\n",
       "                                <td id=\"T_412af98b_584e_11eb_98d1_a463a108a0ebrow4_col0\" class=\"data row4 col0\" >1.000000</td>\n",
       "                        <td id=\"T_412af98b_584e_11eb_98d1_a463a108a0ebrow4_col1\" class=\"data row4 col1\" >1.276061</td>\n",
       "            </tr>\n",
       "    </tbody></table>"
      ],
      "text/plain": [
       "<pandas.io.formats.style.Styler at 0xfd6fc28>"
      ]
     },
     "execution_count": 65,
     "metadata": {},
     "output_type": "execute_result"
    }
   ],
   "source": [
    "x = [0, 0.25, 0.5, 0.75, 1]\n",
    "f_x = [np.cos(j) + 2*np.exp(-j) for j in x]\n",
    "tabela = {'x': pd.Series(data = x), 'g\\'(x)': pd.Series(data = f_x)}\n",
    "tabela = pd.DataFrame(tabela)\n",
    "tabela.style.hide_index()"
   ]
  },
  {
   "cell_type": "markdown",
   "metadata": {},
   "source": [
    "Assim podemos ver que a primeira derivada da $g$ não muda de sinal no intervalo $[0,1]$.\n",
    "\n",
    "Fazendo a segunda derivada:"
   ]
  },
  {
   "cell_type": "code",
   "execution_count": 69,
   "metadata": {},
   "outputs": [
    {
     "data": {
      "text/html": [
       "<style  type=\"text/css\" >\n",
       "</style><table id=\"T_93d91439_584e_11eb_a75a_a463a108a0eb\" ><thead>    <tr>        <th class=\"col_heading level0 col0\" >x</th>        <th class=\"col_heading level0 col1\" >g''(x)</th>    </tr></thead><tbody>\n",
       "                <tr>\n",
       "                                <td id=\"T_93d91439_584e_11eb_a75a_a463a108a0ebrow0_col0\" class=\"data row0 col0\" >0.000000</td>\n",
       "                        <td id=\"T_93d91439_584e_11eb_a75a_a463a108a0ebrow0_col1\" class=\"data row0 col1\" >-2.000000</td>\n",
       "            </tr>\n",
       "            <tr>\n",
       "                                <td id=\"T_93d91439_584e_11eb_a75a_a463a108a0ebrow1_col0\" class=\"data row1 col0\" >0.250000</td>\n",
       "                        <td id=\"T_93d91439_584e_11eb_a75a_a463a108a0ebrow1_col1\" class=\"data row1 col1\" >-1.805006</td>\n",
       "            </tr>\n",
       "            <tr>\n",
       "                                <td id=\"T_93d91439_584e_11eb_a75a_a463a108a0ebrow2_col0\" class=\"data row2 col0\" >0.500000</td>\n",
       "                        <td id=\"T_93d91439_584e_11eb_a75a_a463a108a0ebrow2_col1\" class=\"data row2 col1\" >-1.692487</td>\n",
       "            </tr>\n",
       "            <tr>\n",
       "                                <td id=\"T_93d91439_584e_11eb_a75a_a463a108a0ebrow3_col0\" class=\"data row3 col0\" >0.750000</td>\n",
       "                        <td id=\"T_93d91439_584e_11eb_a75a_a463a108a0ebrow3_col1\" class=\"data row3 col1\" >-1.626372</td>\n",
       "            </tr>\n",
       "            <tr>\n",
       "                                <td id=\"T_93d91439_584e_11eb_a75a_a463a108a0ebrow4_col0\" class=\"data row4 col0\" >1.000000</td>\n",
       "                        <td id=\"T_93d91439_584e_11eb_a75a_a463a108a0ebrow4_col1\" class=\"data row4 col1\" >-1.577230</td>\n",
       "            </tr>\n",
       "    </tbody></table>"
      ],
      "text/plain": [
       "<pandas.io.formats.style.Styler at 0xfd6f760>"
      ]
     },
     "execution_count": 69,
     "metadata": {},
     "output_type": "execute_result"
    }
   ],
   "source": [
    "x = [0, 0.25, 0.5, 0.75, 1]\n",
    "f_x = [-np.sin(j) - 2*np.exp(-j) for j in x]\n",
    "tabela = {'x': pd.Series(data = x), 'g\\'\\'(x)': pd.Series(data = f_x)}\n",
    "tabela = pd.DataFrame(tabela)\n",
    "tabela.style.hide_index()"
   ]
  },
  {
   "cell_type": "markdown",
   "metadata": {},
   "source": [
    "    \n",
    "$f''(x) = - [sen(x) + 2 e^{-x}]$ < 0"
   ]
  },
  {
   "cell_type": "markdown",
   "metadata": {},
   "source": [
    "Agora basta aplicar o método com o novo critério."
   ]
  },
  {
   "cell_type": "code",
   "execution_count": 70,
   "metadata": {},
   "outputs": [
    {
     "name": "stdout",
     "output_type": "stream",
     "text": [
      "O valor de x que aproxima ao zero da função é 0.9210245\n"
     ]
    },
    {
     "data": {
      "text/html": [
       "<style  type=\"text/css\" >\n",
       "</style><table id=\"T_a940f2d9_584e_11eb_9cfd_a463a108a0eb\" ><thead>    <tr>        <th class=\"col_heading level0 col0\" >n</th>        <th class=\"col_heading level0 col1\" >x_n</th>        <th class=\"col_heading level0 col2\" >f(x_n)</th>        <th class=\"col_heading level0 col3\" >f'x_n</th>        <th class=\"col_heading level0 col4\" >|f(x_n)|</th>    </tr></thead><tbody>\n",
       "                <tr>\n",
       "                                <td id=\"T_a940f2d9_584e_11eb_9cfd_a463a108a0ebrow0_col0\" class=\"data row0 col0\" >1.000000</td>\n",
       "                        <td id=\"T_a940f2d9_584e_11eb_9cfd_a463a108a0ebrow0_col1\" class=\"data row0 col1\" >0.000000</td>\n",
       "                        <td id=\"T_a940f2d9_584e_11eb_9cfd_a463a108a0ebrow0_col2\" class=\"data row0 col2\" >-2.000000</td>\n",
       "                        <td id=\"T_a940f2d9_584e_11eb_9cfd_a463a108a0ebrow0_col3\" class=\"data row0 col3\" >2.999900</td>\n",
       "                        <td id=\"T_a940f2d9_584e_11eb_9cfd_a463a108a0ebrow0_col4\" class=\"data row0 col4\" >0.408424</td>\n",
       "            </tr>\n",
       "            <tr>\n",
       "                                <td id=\"T_a940f2d9_584e_11eb_9cfd_a463a108a0ebrow1_col0\" class=\"data row1 col0\" >2.000000</td>\n",
       "                        <td id=\"T_a940f2d9_584e_11eb_9cfd_a463a108a0ebrow1_col1\" class=\"data row1 col1\" >0.666689</td>\n",
       "                        <td id=\"T_a940f2d9_584e_11eb_9cfd_a463a108a0ebrow1_col2\" class=\"data row1 col2\" >-0.408424</td>\n",
       "                        <td id=\"T_a940f2d9_584e_11eb_9cfd_a463a108a0ebrow1_col3\" class=\"data row1 col3\" >1.812603</td>\n",
       "                        <td id=\"T_a940f2d9_584e_11eb_9cfd_a463a108a0ebrow1_col4\" class=\"data row1 col4\" >0.041322</td>\n",
       "            </tr>\n",
       "            <tr>\n",
       "                                <td id=\"T_a940f2d9_584e_11eb_9cfd_a463a108a0ebrow2_col0\" class=\"data row2 col0\" >3.000000</td>\n",
       "                        <td id=\"T_a940f2d9_584e_11eb_9cfd_a463a108a0ebrow2_col1\" class=\"data row2 col1\" >0.892014</td>\n",
       "                        <td id=\"T_a940f2d9_584e_11eb_9cfd_a463a108a0ebrow2_col2\" class=\"data row2 col2\" >-0.041322</td>\n",
       "                        <td id=\"T_a940f2d9_584e_11eb_9cfd_a463a108a0ebrow2_col3\" class=\"data row2 col3\" >1.447426</td>\n",
       "                        <td id=\"T_a940f2d9_584e_11eb_9cfd_a463a108a0ebrow2_col4\" class=\"data row2 col4\" >0.000648</td>\n",
       "            </tr>\n",
       "            <tr>\n",
       "                                <td id=\"T_a940f2d9_584e_11eb_9cfd_a463a108a0ebrow3_col0\" class=\"data row3 col0\" >4.000000</td>\n",
       "                        <td id=\"T_a940f2d9_584e_11eb_9cfd_a463a108a0ebrow3_col1\" class=\"data row3 col1\" >0.920562</td>\n",
       "                        <td id=\"T_a940f2d9_584e_11eb_9cfd_a463a108a0ebrow3_col2\" class=\"data row3 col2\" >-0.000648</td>\n",
       "                        <td id=\"T_a940f2d9_584e_11eb_9cfd_a463a108a0ebrow3_col3\" class=\"data row3 col3\" >1.401883</td>\n",
       "                        <td id=\"T_a940f2d9_584e_11eb_9cfd_a463a108a0ebrow3_col4\" class=\"data row3 col4\" >0.000000</td>\n",
       "            </tr>\n",
       "    </tbody></table>"
      ],
      "text/plain": [
       "<pandas.io.formats.style.Styler at 0xfd6f448>"
      ]
     },
     "execution_count": 70,
     "metadata": {},
     "output_type": "execute_result"
    }
   ],
   "source": [
    "f = lambda x: np.sin(x) - 2*np.exp(-x)\n",
    "chute_inicial = 0\n",
    "precisao = 1/(10**4)\n",
    "max_iteracoes = 10\n",
    "\n",
    "tabela = newton_dist(f, chute_inicial, precisao, max_iteracoes)\n",
    "tabela.style.hide_index()"
   ]
  },
  {
   "cell_type": "markdown",
   "metadata": {},
   "source": [
    "Aqui ocorreu um comportamento estranho, pois ter chutado $1$ como valor inicial teria sido muito melhor. Não sei se entendi bem o critério."
   ]
  },
  {
   "cell_type": "code",
   "execution_count": 71,
   "metadata": {},
   "outputs": [
    {
     "name": "stdout",
     "output_type": "stream",
     "text": [
      "O valor de x que aproxima ao zero da função é 0.9210163\n"
     ]
    },
    {
     "data": {
      "text/html": [
       "<style  type=\"text/css\" >\n",
       "</style><table id=\"T_d2e50133_584e_11eb_b4d7_a463a108a0eb\" ><thead>    <tr>        <th class=\"col_heading level0 col0\" >n</th>        <th class=\"col_heading level0 col1\" >x_n</th>        <th class=\"col_heading level0 col2\" >f(x_n)</th>        <th class=\"col_heading level0 col3\" >f'x_n</th>        <th class=\"col_heading level0 col4\" >|f(x_n)|</th>    </tr></thead><tbody>\n",
       "                <tr>\n",
       "                                <td id=\"T_d2e50133_584e_11eb_b4d7_a463a108a0ebrow0_col0\" class=\"data row0 col0\" >1.000000</td>\n",
       "                        <td id=\"T_d2e50133_584e_11eb_b4d7_a463a108a0ebrow0_col1\" class=\"data row0 col1\" >1.000000</td>\n",
       "                        <td id=\"T_d2e50133_584e_11eb_b4d7_a463a108a0ebrow0_col2\" class=\"data row0 col2\" >0.105712</td>\n",
       "                        <td id=\"T_d2e50133_584e_11eb_b4d7_a463a108a0ebrow0_col3\" class=\"data row0 col3\" >1.275982</td>\n",
       "                        <td id=\"T_d2e50133_584e_11eb_b4d7_a463a108a0ebrow0_col4\" class=\"data row0 col4\" >0.005438</td>\n",
       "            </tr>\n",
       "            <tr>\n",
       "                                <td id=\"T_d2e50133_584e_11eb_b4d7_a463a108a0ebrow1_col0\" class=\"data row1 col0\" >2.000000</td>\n",
       "                        <td id=\"T_d2e50133_584e_11eb_b4d7_a463a108a0ebrow1_col1\" class=\"data row1 col1\" >0.917152</td>\n",
       "                        <td id=\"T_d2e50133_584e_11eb_b4d7_a463a108a0ebrow1_col2\" class=\"data row1 col2\" >-0.005438</td>\n",
       "                        <td id=\"T_d2e50133_584e_11eb_b4d7_a463a108a0ebrow1_col3\" class=\"data row1 col3\" >1.407315</td>\n",
       "                        <td id=\"T_d2e50133_584e_11eb_b4d7_a463a108a0ebrow1_col4\" class=\"data row1 col4\" >0.000012</td>\n",
       "            </tr>\n",
       "    </tbody></table>"
      ],
      "text/plain": [
       "<pandas.io.formats.style.Styler at 0xfd6f658>"
      ]
     },
     "execution_count": 71,
     "metadata": {},
     "output_type": "execute_result"
    }
   ],
   "source": [
    "f = lambda x: np.sin(x) - 2*np.exp(-x)\n",
    "chute_inicial = 1\n",
    "precisao = 1/(10**4)\n",
    "max_iteracoes = 10\n",
    "\n",
    "tabela = newton_dist(f, chute_inicial, precisao, max_iteracoes)\n",
    "tabela.style.hide_index()"
   ]
  },
  {
   "cell_type": "markdown",
   "metadata": {},
   "source": [
    "### Resultado\n",
    "\n",
    "De qualquer forma, 0.9210163 é o valor de x que aproxima ao zero da função."
   ]
  },
  {
   "cell_type": "markdown",
   "metadata": {},
   "source": [
    "# Exercício 4\n",
    "\n",
    "\n"
   ]
  }
 ],
 "metadata": {
  "kernelspec": {
   "display_name": "Python 3",
   "language": "python",
   "name": "python3"
  },
  "language_info": {
   "codemirror_mode": {
    "name": "ipython",
    "version": 3
   },
   "file_extension": ".py",
   "mimetype": "text/x-python",
   "name": "python",
   "nbconvert_exporter": "python",
   "pygments_lexer": "ipython3",
   "version": "3.8.5"
  }
 },
 "nbformat": 4,
 "nbformat_minor": 2
}
